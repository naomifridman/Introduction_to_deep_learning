{
  "cells": [
    {
      "cell_type": "markdown",
      "metadata": {
        "id": "view-in-github",
        "colab_type": "text"
      },
      "source": [
        "<a href=\"https://colab.research.google.com/github/naomifridman/Introduction_to_deep_learning/blob/master/lec3_Delta_rule_learning_mlp_backpropogation.ipynb\" target=\"_parent\"><img src=\"https://colab.research.google.com/assets/colab-badge.svg\" alt=\"Open In Colab\"/></a>"
      ]
    },
    {
      "cell_type": "markdown",
      "metadata": {
        "id": "wke-dcbWGHim"
      },
      "source": [
        "# How Learning works and Multi Layer Neural Networks\n",
        "### Delta rule for learning, Gradient Decent and backpropogation"
      ]
    },
    {
      "cell_type": "code",
      "source": [
        "!git clone https://github.com/naomifridman/Introduction_to_deep_learning.git"
      ],
      "metadata": {
        "colab": {
          "base_uri": "https://localhost:8080/"
        },
        "id": "8lO4v63VjFqE",
        "outputId": "b74d83aa-9c5d-43ed-bfab-4c323a44a2c4"
      },
      "execution_count": 4,
      "outputs": [
        {
          "output_type": "stream",
          "name": "stdout",
          "text": [
            "fatal: destination path 'Introduction_to_deep_learning' already exists and is not an empty directory.\n"
          ]
        }
      ]
    },
    {
      "cell_type": "code",
      "execution_count": 5,
      "metadata": {
        "id": "Pvyij1AoGHis"
      },
      "outputs": [],
      "source": [
        "import matplotlib.pyplot as plt\n",
        "import numpy as np\n",
        "np.set_printoptions(precision=3)\n",
        "import Introduction_to_deep_learning.utils_plot as uplot\n",
        "import matplotlib.gridspec as gridspec\n",
        "from sklearn.metrics import accuracy_score, log_loss\n",
        "%matplotlib inline  "
      ]
    },
    {
      "cell_type": "markdown",
      "metadata": {
        "id": "vwByQ7_7GHiu"
      },
      "source": [
        "Networks without hidden units are very limited in what they can learn to model. What we need is multiple layers of non-linear hidden units. <br>\n",
        "The challenge is: **how to train such networks ?**<br>\n",
        "We need a way to update all the weights not just the last layer like in a perceptron. It is a hard problem, and it took the researchers 20 years to find the right method. <br>\n",
        "\n",
        "\n",
        "![title](https://raw.githubusercontent.com/naomifridman/Introduction_to_deep_learning/master/imgs/training_model.png)\n",
        "Any hidden unit, can affect many other units, and affect the results, in many ways. So we use a method to combine all those effects, and focus on investigating the effect, the weight have, on the overall error.<br>"
      ]
    },
    {
      "cell_type": "markdown",
      "metadata": {
        "id": "VQjWxhCRGHiv"
      },
      "source": [
        "The aim of the learning is to minimize the error summed (or mean) over all training cases. <br>\n",
        "To achieve that,we need a **measure** of that error. For simplicity, we will use the square difference between the target output and the actual output. "
      ]
    },
    {
      "cell_type": "markdown",
      "metadata": {
        "id": "aQ-HotYvGHiv"
      },
      "source": [
        "### Loss Function For learning\n",
        "The squared loss is a popular loss function, also known as L2 loss.The squared loss is the squared distance between the prediction and the true label. <br>\n",
        "Lets mark:\n",
        "* $x\\, -\\, The\\, input$\n",
        "* $\\hat{y}\\, or \\,y'\\, - \\,The\\, true\\, labels$<br>\n",
        "* $y = predictions(x) = f(x)\\; Model's\\,  predictions$<br>\n",
        "\n",
        "The squared loss for a single example is: ${(\\hat{y} - y)}^2$<br>\n",
        "\n",
        " \n",
        "#### Mean square error (MSE) \n",
        "is the average squared loss per example over the whole dataset. \n",
        "To calculate MSE, sum up all the squared\n",
        "losses for individual examples and then divide by the number of examples:\n",
        "    $$ MSE = \\frac{1}{N} \\sum_{(x,y)\\in D} (\\hat{y} - f(x))^2 = \\frac{1}{N} \\sum_{(x,y)\\in D} (\\hat{y} - y)^2$$\n",
        "> MSE is popular in machine learning, mainly from historical reasons, since all the math was initially calculated with MSE. But it is not necessary the best. For different problems, there are other practical loss functions that performs better.\n",
        "\n",
        "#### The goal of training a model is to find a set of weights that produce a minimal loss, on average, across all examples.\n"
      ]
    },
    {
      "cell_type": "markdown",
      "metadata": {
        "id": "zVCSQZLqGHiw"
      },
      "source": [
        "To find the minimum of the loss function, we will use An iterative method. <br>\n",
        "Iterative methods, are usually less efficient, but much easier to generalize."
      ]
    },
    {
      "cell_type": "markdown",
      "metadata": {
        "id": "6WKQdnIaGHix"
      },
      "source": [
        "## Gradient Decent - Minimize loss function iterativly \n",
        "Intuition: Imagine you stand in a canyon, or a bowl, and you want to get to the lowest point. If you walk in small steps towards the steepest part, this will get you to the lowest point, if the canyon (or the bowl) is convex.\n",
        "![title](https://raw.githubusercontent.com/naomifridman/Introduction_to_deep_learning/master/imgs/dune11.jpg)\n",
        "### Delta rule for learning\n",
        "This intuition is defined as the delta rule.\n",
        "$$ \\Delta{W} = \\alpha*(derivative\\, of\\, the \\,loss\\, function)$$\n",
        "\n",
        "* $\\alpha$ - learning rate, is the (small) size of the step.\n",
        "\n",
        "The weights update will be:\n",
        "$$ W_{new} = W_{old} - \\Delta{W}$$\n",
        "\n"
      ]
    },
    {
      "cell_type": "markdown",
      "metadata": {
        "id": "yJlqL4-mGHiy"
      },
      "source": [
        "But how do we implement the delta rule for a multi layer network ?\n",
        "This implementation is called back-propagation. Back-propagation, is an abbreviation for **\"backwards propagation of errors\"**, is a mechanism used to update the weights using gradient descent. It calculates the gradient of the error function with respect to the neural networks weights. The calculation proceeds backwards through the network.\n",
        "![title](gradient_desent.png)"
      ]
    },
    {
      "cell_type": "markdown",
      "metadata": {
        "id": "huld3tgfGHiz"
      },
      "source": [
        "## Back-propagation - Example with simple network\n",
        "Back propagation,is a method to propagate the error, back to the weights, and update them in away that will minimize the error.<br>\n",
        "Math is simple algebra, but there are some indexing to follow. The coded is illustrative, specific and not too general. Still you can play with it and test different hyper parameters and data sets.<br>\n",
        "### Multiple Layer Neural Networks example\n",
        "To implement full back-propagation example, Lets build a simple neural network, with:\n",
        "* One hidden layer, with 2 neurons\n",
        "* Input layer of 2 feature and bias\n",
        "* Output layer, outputs probability of binary classification (the probability to be 1)\n",
        "\n",
        "![title](https://raw.githubusercontent.com/naomifridman/Introduction_to_deep_learning/master/imgs/mlp1j11.JPG)\n",
        "#### Activation function\n",
        "For simplicity, we choose all activation functions to be Sigmoid function.\n",
        "\n",
        "* $z$ - will be the weighted input sum of the input to the neuron\n",
        "* $y$ - will be the output of the neuron, which is the Sigmoid(z).\n",
        "* I - the input to the neuron\n",
        "* W - the neurons weights (same number as inputs)"
      ]
    },
    {
      "cell_type": "markdown",
      "metadata": {
        "id": "Eybbite1GHi0"
      },
      "source": [
        "### Sigmoid activation function\n",
        "logistic function, which ranges from 0 to 1\n",
        "Used as last layer, garanty to output propability<br>\n",
        "The logistic sigmoid function can cause a neural network to get stuck at the training time.\n",
        "#### Logistic Sigmoid:  \n",
        "## $\\sigma(x)=\\frac{1}{1+e^{-x}}$"
      ]
    },
    {
      "cell_type": "code",
      "execution_count": 7,
      "metadata": {
        "colab": {
          "base_uri": "https://localhost:8080/",
          "height": 202
        },
        "id": "gwjcYm0lGHi0",
        "outputId": "ca5d5b6f-88e5-477e-8739-bfbca75a6c9b"
      },
      "outputs": [
        {
          "output_type": "display_data",
          "data": {
            "text/plain": [
              "<Figure size 480x160 with 1 Axes>"
            ],
            "image/png": "[encoded data removed]"
          },
          "metadata": {}
        }
      ],
      "source": [
        "import Introduction_to_deep_learning.utils_plot as uplot\n",
        "uplot.drow_sigmoid()"
      ]
    },
    {
      "cell_type": "markdown",
      "metadata": {
        "id": "UsCIeNExGHi1"
      },
      "source": [
        "##### The Neuron \n",
        "All Neurons in our network, calculate weighted sum of the input, and output the results of applying Sigmoid function on the weighted sum.\n",
        "![title](https://raw.githubusercontent.com/naomifridman/Introduction_to_deep_learning/master/imgs/neuron_in_out.JPG)\n",
        "### Build MLP Step 1. Initialize network with random weights\n"
      ]
    },
    {
      "cell_type": "markdown",
      "metadata": {
        "id": "-zRtndNeGHi2"
      },
      "source": [
        "### Step 2. Forward pass\n",
        "Given an input, calculate the output. To do that, we calculate all the values in the neurons along the network, until the output."
      ]
    },
    {
      "cell_type": "markdown",
      "metadata": {
        "id": "cY-SnvVuGHi2"
      },
      "source": [
        "## Step 3. Back-propagation\n",
        "To apply the delta rule for learning, we need to define a loss function. Lets use the simple known square error, for **one input sample**:\n",
        "$$Error = \\frac{1}{2}(\\hat{y} - y)^2$$\n",
        "where:\n",
        "* $\\hat{y}$ is the true label, y_train\n",
        "* $y$ is the prediction calculated by the network\n",
        "\n",
        "To update weights, according to delta rule, we need to calculate the \"influence\" of each weight on the target. Mathematically, we need to calculate the partial derivative of the error, with respect to each weight. <br>\n",
        "Lets mark the weights in our network, and lets mark :\n",
        "* $o$-output layer, and $h$-hidden layer\n",
        "* $y_{o}$, and $y_{h}$ are the outputs from output and hidden layers\n",
        "* $z_{o}$, and $z_{h}$ are the weighted sum of input and neuron weights, of the output and hidden layers.\n",
        "\n",
        "![title](https://raw.githubusercontent.com/naomifridman/Introduction_to_deep_learning/master/imgs/mlp_2hidden_1ou_weightst.jpg)"
      ]
    },
    {
      "cell_type": "markdown",
      "metadata": {
        "id": "9saUtxfcGHi2"
      },
      "source": [
        "### Back-propagating error for output layer\n",
        "Consider $w_1$, We want to know how much a change in $w_1$ affects the total error, aka, $\\frac{\\partial Error}{\\partial w_{1}}$"
      ]
    },
    {
      "cell_type": "markdown",
      "metadata": {
        "id": "gz-muACpGHi2"
      },
      "source": [
        "Using chain rule, we will get:\n",
        "$$\\frac{\\partial Error}{\\partial w_{1}} = \\frac{\\partial Error}{\\partial y_o} * \n",
        "\\frac{\\partial y_o}{\\partial z_{o}} *\n",
        "\\frac{\\partial z_{o}}{\\partial w_{1}}$$"
      ]
    },
    {
      "cell_type": "markdown",
      "metadata": {
        "id": "wtryXdITGHi3"
      },
      "source": [
        "$$\\frac{\\partial Error}{\\partial y_o} = 2 * \\frac{1}{2}(\\hat{y} - y_o)^{2 - 1} * -1 =(y_o-\\hat{y})$$"
      ]
    },
    {
      "cell_type": "markdown",
      "metadata": {
        "id": "APh86i67GHi3"
      },
      "source": [
        "We chose Sigmoid activation, which derivative is:\n",
        "$$\\frac{\\partial}{\\partial x}Sigmoid(x) = Sigmoid(x)(1 - Sigmoid(x))$$\n",
        "\n",
        "\n",
        "And since:\n"
      ]
    },
    {
      "cell_type": "markdown",
      "metadata": {
        "id": "AHmWJCqtGHi3"
      },
      "source": [
        "\n",
        "\n",
        "$$\\hat{y} = y_o = \\frac{1}{1+e^{-z_{o}}}$$\n",
        "We get:"
      ]
    },
    {
      "cell_type": "markdown",
      "metadata": {
        "id": "fAxLKN83GHi3"
      },
      "source": [
        "$$\\frac{\\partial y_o}{\\partial z_{o}} = y_o*(1-y_o)$$"
      ]
    },
    {
      "cell_type": "markdown",
      "metadata": {
        "id": "PW_m1jMsGHi3"
      },
      "source": [
        "$$z_{o} = y_{h0}*w_0 + y_{h1}*w_1 = \\bar{w_{o}} * \\bar{y_h}$$    "
      ]
    },
    {
      "cell_type": "markdown",
      "metadata": {
        "id": "lkuRppjzGHi4"
      },
      "source": [
        "$y_{h0}$ ho has no dependence in $w_{1}$, So:\n",
        "$$\\frac{\\partial z_{o}}{\\partial w_{1}} = y_{h1}$$    "
      ]
    },
    {
      "cell_type": "markdown",
      "metadata": {
        "id": "OoCcBia6GHi4"
      },
      "source": [
        "\n",
        "Putting it all together, we get:"
      ]
    },
    {
      "cell_type": "markdown",
      "metadata": {
        "id": "j3gNhn8FGHi4"
      },
      "source": [
        "$$\\frac{\\partial Error}{\\partial w_{1}} = \\frac{\\partial Error}{\\partial y_o} * \n",
        "\\frac{\\partial y_o}{\\partial z_{o}} *\n",
        "\\frac{\\partial z_{o}}{\\partial w_{1}} =  -(\\hat{y}-y_o)*\n",
        "y_o*(1-y_o)*\n",
        "y_{h1}\n",
        "$$"
      ]
    },
    {
      "cell_type": "markdown",
      "metadata": {
        "id": "IEGr3gcyGHi4"
      },
      "source": [
        "So according to delta rule, to decrease error, we update $w_1$:\n",
        "$$w_1^{new} = w_1 - \\alpha*\\frac{\\partial Error}{\\partial w_{1}} = w_1 + \\alpha* (\\hat{y}-y_o)*  y_o*(1-y_o)*y_{h1}$$"
      ]
    },
    {
      "cell_type": "markdown",
      "metadata": {
        "id": "5tzwFZjKGHi4"
      },
      "source": [
        "In the same, we can calculate update for $w_0$:\n",
        "$$w_0^{new} = w_0 + \\alpha* (\\hat{y}-y_o)*  y_o*(1-y_o)*y_{ho}$$"
      ]
    },
    {
      "cell_type": "markdown",
      "metadata": {
        "id": "WPy8AqBfGHi4"
      },
      "source": [
        "Lets mark:\n",
        "$$ \\delta_{i} = y_i*(1-y_i)$$"
      ]
    },
    {
      "cell_type": "markdown",
      "metadata": {
        "id": "M50OKHhtGHi5"
      },
      "source": [
        "**We get an update rule for output layer weights:**\n",
        "### $$w_0^{new} = w_0 + \\alpha* \\delta_{o}*y_{ho}*(\\hat{y}-y_o)$$\n",
        "### $$w_1^{new} = w_1 + \\alpha* \\delta_{o}*y_{h1}*(\\hat{y}-y_o)$$\n",
        "**Vector wise:**\n",
        "### $$\\bar{w}^{new} = \\bar{w} + \\alpha* \\delta_{o}*\\bar{y}_{h}*(\\hat{y}-y_o)$$\n"
      ]
    },
    {
      "cell_type": "markdown",
      "metadata": {
        "id": "0OTSs9AjGHi5"
      },
      "source": [
        "### Back-propagating error for hidden layer\n",
        "Now we need to continue one more layer back,to calculate the update of the weights.<br>\n",
        "\n",
        "In a similar way, lets calculate: $\\frac{\\partial Error}{\\partial w_{12}}$"
      ]
    },
    {
      "cell_type": "markdown",
      "metadata": {
        "id": "7VX4ABQ_GHi5"
      },
      "source": [
        "$$\\frac{\\partial Error}{\\partial w_{12}} = [\\frac{\\partial Error}{\\partial y_{o}} * \n",
        "\\frac{\\partial y_{o}}{\\partial z_{o}}] * \n",
        "\\frac{\\partial z_{o}}{\\partial y_{h1}} * \n",
        "\\frac{\\partial y_{h1}}{\\partial z_{h1}} *\n",
        "\\frac{\\partial z_{h1}}{\\partial w_{12}} $$"
      ]
    },
    {
      "cell_type": "markdown",
      "metadata": {
        "id": "Tsi5wty0GHi5"
      },
      "source": [
        "$$\\frac{\\partial Error}{\\partial w_{12}} = -[\\delta_{0}*y_{h1}*(\\hat{y}-y_0)]*\\frac{\\partial z_{o}}{\\partial y_{h1}} * \n",
        "\\frac{\\partial y_{h1}}{\\partial z_{h1}} *\n",
        "\\frac{\\partial z_{h1}}{\\partial w_{12}} $$"
      ]
    },
    {
      "cell_type": "markdown",
      "metadata": {
        "id": "VJEDwhclGHi5"
      },
      "source": [
        "$$z_{o} = y_{h_0}*w_0 + y_{h_1}*w_1 = \\bar{z_h}*\\bar{w_o}$$   "
      ]
    },
    {
      "cell_type": "markdown",
      "metadata": {
        "id": "t-vlogopGHi5"
      },
      "source": [
        "$$\\frac{\\partial z_{o}}{\\partial y_{h1}} = w_1$$"
      ]
    },
    {
      "cell_type": "markdown",
      "metadata": {
        "id": "sweKkOwjGHi5"
      },
      "source": [
        "$$\\frac{\\partial y_{h1}}{\\partial z_{h1}} = y_{h1}*(1-y_{h1})=\\delta_{h1}$$"
      ]
    },
    {
      "cell_type": "markdown",
      "metadata": {
        "id": "-tjCyX3bGHi5"
      },
      "source": [
        "$$\\frac{\\partial z_{h1}}{\\partial w_{12}} = I_{2}$$"
      ]
    },
    {
      "cell_type": "markdown",
      "metadata": {
        "id": "Op9eABrXGHi6"
      },
      "source": [
        "Putting it all together, we get:"
      ]
    },
    {
      "cell_type": "markdown",
      "metadata": {
        "id": "_4hCaUxVGHi6"
      },
      "source": [
        "$$\\frac{\\partial Error}{\\partial w_{10}} = -(\\hat{y}-y_o)*\\delta_{o}*y_{h1}*w_1*\\delta_{h1}*I_0$$"
      ]
    },
    {
      "cell_type": "markdown",
      "metadata": {
        "id": "YNSpj7KXGHi6"
      },
      "source": [
        "$$\\frac{\\partial Error}{\\partial w_{11}} = -(\\hat{y}-y_o)*\\delta_{o}*y_{h1}*w_1*\\delta_{h1}*I_1$$"
      ]
    },
    {
      "cell_type": "markdown",
      "metadata": {
        "id": "Aeha-WdcGHi6"
      },
      "source": [
        "$$\\frac{\\partial Error}{\\partial w_{12}} = -(\\hat{y}-y_o)*\\delta_{o}*y_{h1}*w_1*\\delta_{h1}*I_2$$"
      ]
    },
    {
      "cell_type": "markdown",
      "metadata": {
        "id": "pzOwNNv7GHi6"
      },
      "source": [
        "We can write, general update rule for hidden layer of our network:"
      ]
    },
    {
      "cell_type": "markdown",
      "metadata": {
        "id": "a_lHTpDSGHi6"
      },
      "source": [
        "$$\\frac{\\partial Error}{\\partial w_{ij}} = -(\\hat{y}-y_o)*\\delta_{o}*y_{hi}*w_i*\\delta_{hi}*I_j$$"
      ]
    },
    {
      "cell_type": "markdown",
      "metadata": {
        "id": "53H61pRIGHi7"
      },
      "source": [
        "**So, update rule for hidden layer weights, will be:**"
      ]
    },
    {
      "cell_type": "markdown",
      "metadata": {
        "id": "6YdEce1IGHi7"
      },
      "source": [
        "### $$w^{new}_{ij} = w_{ij} + \\alpha *(\\hat{y}-y_o)*\\delta_{o}*y_{hi}*w_i*\\delta_{hi}*I_j$$"
      ]
    },
    {
      "cell_type": "markdown",
      "metadata": {
        "id": "4-eAXRoyGHi7"
      },
      "source": [
        "* details https://beckernick.github.io/sigmoid-derivative-neural-network/"
      ]
    },
    {
      "cell_type": "markdown",
      "metadata": {
        "id": "6lzLQQwrGHi8"
      },
      "source": [
        "## Step 4. Train network\n",
        "In the train function, in each epoch, we go over all input samples, perform forward pass on each sample, and update weights with back-propagating the error."
      ]
    },
    {
      "cell_type": "markdown",
      "metadata": {
        "id": "6ElDXx6uGHi8"
      },
      "source": [
        "## Step 5. Predict with the Trained Network\n",
        "To predict, with our trained network, all we need to do is to propagate forward the input. The result, is the probability that the class to which the input belong is 1."
      ]
    },
    {
      "cell_type": "markdown",
      "metadata": {
        "id": "cyF-Oa6rGHi8"
      },
      "source": [
        "### Learn more:\n",
        "* This part was written as an attempt to understand Hinton's lecture: https://www.coursera.org/learn/neural-networks/lecture/bD3OB/learning-the-weights-of-a-linear-neuron-12-min\n",
        "* Google machine learning course https://developers.google.com/machine-learning/crash-course/reducing-loss/gradient-descent\n",
        "* https://en.wikipedia.org/wiki/Backpropagation"
      ]
    },
    {
      "cell_type": "markdown",
      "metadata": {
        "id": "EKGpVTZJGHi8"
      },
      "source": [
        "### Articles:\n",
        "* D.E. RummelhartG.E. HintonR.J. Williams. **Learning Internal Representations by Error Propagation** Jan 1986 Nature."
      ]
    }
  ],
  "metadata": {
    "kernelspec": {
      "display_name": "Python 3",
      "language": "python",
      "name": "python3"
    },
    "language_info": {
      "codemirror_mode": {
        "name": "ipython",
        "version": 3
      },
      "file_extension": ".py",
      "mimetype": "text/x-python",
      "name": "python",
      "nbconvert_exporter": "python",
      "pygments_lexer": "ipython3",
      "version": "3.6.6"
    },
    "colab": {
      "name": "lec3_Delta_rule_learning_mlp_backpropogation.ipynb",
      "provenance": [],
      "include_colab_link": true
    }
  },
  "nbformat": 4,
  "nbformat_minor": 0
}