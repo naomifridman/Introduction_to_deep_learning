{
 "cells": [
  {
   "cell_type": "markdown",
   "metadata": {
    "id": "QdMPds-1Frp-"
   },
   "source": [
    "# Introduction to Deep Learning\n",
    "## The Beginning - Linear perceptron and the concept of learning\n",
    "\n",
    "* Structure of a neuron \n",
    "* Algorithmic concept concept behind learning.\n"
   ]
  },
  {
   "cell_type": "markdown",
   "metadata": {
    "id": "JCZ7Jpi5FrqF"
   },
   "source": [
    "## Inspiration - The Biological Neuron Model\n",
    "**The Neuron cell takes a :**\n",
    "* Binary input (of electrical signals), \n",
    "* Process it, and \n",
    "* Produce binary output (of electrical signal)."
   ]
  },
  {
   "cell_type": "markdown",
   "metadata": {
    "id": "OcODAy2iFrqG"
   },
   "source": [
    "![title](https://raw.githubusercontent.com/naomifridman/Introduction_to_deep_learning/master/imgs/neuron3.PNG)\n",
    "\n",
    "**Neuron Input**<br>\n",
    "A neuron accepts inputs, usually from other neurons, through its dendrites, that are connect to other neurons via a gap called a synapse which assigns a \"weight\" to any specific input. <br>\n",
    "All of these inputs are processed together in the cell body (soma)<br>\n",
    "\n",
    "**Neuron Output**<br>\n",
    "The Neurons process the combination of the inputs, and if it exceeds a certain threshold, an output signal is produced (the neuron \"fires\")<br>\n",
    "When the neuron fires, the signal (output) travels along the axon to the synapse terminals,there it assigned a \"weight\", and continue to the dendrites of other neurons through the synapse.<br>\n",
    "With this biological model in mind, we can define a mathematical artificial neuron."
   ]
  },
  {
   "cell_type": "markdown",
   "metadata": {
    "id": "Wlqvzz0VFrqH"
   },
   "source": [
    "## Perceptron - An Artificial Neural Network\n",
    "As in the Biological model, we want the neuron to intake an inputs, process it (weighted sum) and if it exceeds a threshold, the neuron will produce an output. \n",
    "\n",
    "![title](https://raw.githubusercontent.com/naomifridman/Introduction_to_deep_learning/master/imgs/perceptron_paradigma3.png)\n"
   ]
  },
  {
   "cell_type": "markdown",
   "metadata": {
    "id": "q89tqv0WFrqH"
   },
   "source": [
    "## Decision Units - Activation functions\n",
    "There are many options for decision units, and we will see later. Lets start with the basic one, defined by McCulloch-Pitts (1943)\n",
    "### Binary threshold unit\n",
    "![title](https://raw.githubusercontent.com/naomifridman/Introduction_to_deep_learning/master/imgs/part1_form1.JPG)\n",
    "\n"
   ]
  },
  {
   "cell_type": "code",
   "execution_count": 1,
   "metadata": {
    "colab": {
     "base_uri": "https://localhost:8080/"
    },
    "id": "jyUGrOn-Pc7E",
    "outputId": "edd7eb7e-3efb-448d-d9cd-fc3d1d8d7c9a"
   },
   "outputs": [
    {
     "name": "stderr",
     "output_type": "stream",
     "text": [
      "fatal: destination path 'Introduction_to_deep_learning' already exists and is not an empty directory.\n"
     ]
    }
   ],
   "source": [
    "!git clone https://github.com/naomifridman/Introduction_to_deep_learning.git"
   ]
  },
  {
   "cell_type": "code",
   "execution_count": 2,
   "metadata": {
    "colab": {
     "base_uri": "https://localhost:8080/",
     "height": 202
    },
    "id": "VopqlviyFrqI",
    "outputId": "965ebddb-7352-446c-87e1-f3b836793eda"
   },
   "outputs": [
    {
     "data": {
      "image/png": "[encoded data removed]",
      "text/plain": [
       "<Figure size 480x160 with 1 Axes>"
      ]
     },
     "metadata": {},
     "output_type": "display_data"
    }
   ],
   "source": [
    "import Introduction_to_deep_learning.utils_plot as uplot\n",
    "uplot.drow_binary_threshold()"
   ]
  },
  {
   "cell_type": "markdown",
   "metadata": {
    "id": "jhh67Hx7FrqK"
   },
   "source": [
    "## Learning the Bias\n",
    "Now we need to learn the weights and the bias. But we can use a trick, to avoid separate scheme, for learning the bias. \n",
    "![title](https://raw.githubusercontent.com/naomifridman/Introduction_to_deep_learning/master/imgs/part1_form2.JPG)\n",
    "> This way, we can learn the bias as it was part of the weights. "
   ]
  },
  {
   "cell_type": "markdown",
   "metadata": {
    "id": "Yc1w-E6UFrqL"
   },
   "source": [
    "## Learning weights\n",
    "The idea is to go over the samples, and correct/update the weights according to the results on the samples.\n",
    "![title](https://raw.githubusercontent.com/naomifridman/Introduction_to_deep_learning/master/imgs/dl3.jpg)\n",
    "#### Update the weights\n",
    "There are many strategies to update the weights, and we will see them later."
   ]
  },
  {
   "cell_type": "markdown",
   "metadata": {
    "id": "SIhjxPXJFrqM"
   },
   "source": [
    "\n",
    "### Perceptron Example - Logic OR\n",
    "Lets build a Perceptron, that performs a logic OR:\n"
   ]
  },
  {
   "cell_type": "markdown",
   "metadata": {
    "id": "e5zLpXyQFrqO"
   },
   "source": [
    "X1 | X2 | OR\n",
    "--- | --- | ---\n",
    "*0* | 0 | **0**\n",
    "*1* | 0 | **1**\n",
    "*0* | 1 | **1**\n",
    "*1* | 1 | **1**"
   ]
  },
  {
   "cell_type": "markdown",
   "metadata": {
    "id": "XjAAE160FrqO"
   },
   "source": [
    "* $X$ is the input\n",
    "* $w$ are the weights\n",
    "* $X*w$ is the input to the activation function\n",
    "$$z = Xw$$\n",
    "* $\\hat{y}$ is the 0/1 output from activation\n",
    "$$ \\hat{y} = \\begin{cases} 1 & z \\geqslant  0\\\\ 0 & otherwise \\end{cases}$$"
   ]
  },
  {
   "cell_type": "markdown",
   "metadata": {
    "id": "4w4Hytf3FrqP"
   },
   "source": [
    "\n",
    "The scheme will be to Go over all training cases in any order, and:\n",
    "  * If the output is correct, continue\n",
    "  * If output < label  (increase $w$): $\\to{w} = {w} + {X}_{i}$\n",
    "  * If output > label (decrease $w$): $\\to{w} = {w} - {X}_{i}$"
   ]
  },
  {
   "cell_type": "markdown",
   "metadata": {
    "id": "cmGx7kIoFrqP"
   },
   "source": [
    "## Lets run Simulation of this simple example\n",
    "**epoch:  0**\n",
    "\n",
    "\n",
    "0 x= [1 0 0] w= [ 0.  0.  0.] Wx=  0.0 y= 0 correct no update\n",
    "\n",
    "1 x= [1 1 0] w= [ 0.  0.  0.] Wx=  0.0 y: 1 **yhat > y => W updated: [ 1.  1.  0.]**\n",
    "\n",
    "2 x: [1 0 1] w= [ 1.  1.  0.] Wx=  1.0 y: 1 correct no update\n",
    "\n",
    "3 x= [1 1 1] w= [ 1.  1.  0.] Wx=  2.0 y: 1 correct no update\n",
    "\n",
    "--------------------------\n",
    "**epoch:  1**\n",
    "\n",
    "0 x: [1 0 0] w: [ 1.  1.  0.] Wx: 1.0 y: 0 **yhat > y  => W updated: [ 0.  1.  0.]**\n",
    "\n",
    "1 x: [1 1 0] w: [ 0.  1.  0.] Wx:  1.0 y: 1 correct no update\n",
    "\n",
    "2 X: [1 0 1] w: [ 0.  1.  0.] Wx: 0.0 y: 1 **yhat < y => W updated: [ 1.  1.  1.]**\n",
    "\n",
    "3 x: [1 1 1] w: [ 1.  1.  1.] Wx:  3.0 y: 1 correct no update\n",
    "\n",
    "--------------------------\n",
    "**epoch:  2**\n",
    "\n",
    "0 x: [1 0 0] w: [ 1.  1.  1.] Wx: 1.0 y: 0 **yhat < y => W updated: [ 0.  1.  1.]**\n",
    "\n",
    "1 x: [1 1 0] w: [ 0.  1.  1.] Wx:  1.0 y: 1 correct no update\n",
    "\n",
    "2 x: [1 0 1] w: [ 0.  1.  1.] Wx:  1.0 y: 1 correct no update\n",
    "\n",
    "3 x: [1 1 1] w: [ 0.  1.  1.] Wx:  2.0 y: 1 correct no update\n",
    "\n",
    "#### With W = (0., 1., 1.) the perceptron can solve OR logic gate\n",
    "\n",
    "### Re-train Percepron to Preform logic AND\n",
    "Same perceptron,can learn to perform logic AND, When its trained on the correct data:\n",
    "\n",
    "Bias |X1 | X2 | AND\n",
    "-----|--- | --- | ---\n",
    "1    |*0* | 0 | **0**\n",
    "1    |*1* | 0 | **0**\n",
    "1    |*0* | 1 | **0**\n",
    "1    |*1* | 1 | **1**\n",
    "\n",
    "#### W= (-2.  1.  2.) that solves AND logic gate."
   ]
  },
  {
   "cell_type": "code",
   "execution_count": 3,
   "metadata": {
    "id": "FI8ae4BweJRz"
   },
   "outputs": [],
   "source": [
    "import matplotlib.pyplot as plt\n",
    "import numpy as np\n",
    "import Introduction_to_deep_learning.utils_plot as uplot\n",
    "import matplotlib.gridspec as gridspec\n",
    "from sklearn.metrics import accuracy_score, log_loss\n",
    "%matplotlib inline  "
   ]
  },
  {
   "cell_type": "code",
   "execution_count": 4,
   "metadata": {
    "colab": {
     "base_uri": "https://localhost:8080/",
     "height": 931
    },
    "id": "xVIiRrv2c2oY",
    "outputId": "e618deae-0b6b-426d-9c28-616b9a58c36b"
   },
   "outputs": [
    {
     "name": "stdout",
     "output_type": "stream",
     "text": [
      "epoch:  0\n",
      "0 w*x==0 x [1 0 0] w [0. 0. 0.] dot 0.0 y 0\n",
      "correct\n",
      "1 w*x==0 & y==1 X [1 1 0] w [0. 0. 0.] dot 0.0 y 1\n",
      "W updated to:  [1. 1. 0.]\n",
      "2 w*x==0 x [1 0 1] w [1. 1. 0.] dot 1.0 y 1\n",
      "correct\n",
      "epoch:  1\n",
      "0 w*x==1 & y==0 X [1 0 0] w [1. 1. 0.] dot 1.0 y 0\n",
      "W updated to:  [0. 1. 0.]\n",
      "1 w*x==0 x [1 1 0] w [0. 1. 0.] dot 1.0 y 1\n",
      "correct\n",
      "2 w*x==0 & y==1 X [1 0 1] w [0. 1. 0.] dot 0.0 y 1\n",
      "W updated to:  [1. 1. 1.]\n",
      "epoch:  2\n",
      "0 w*x==1 & y==0 X [1 0 0] w [1. 1. 1.] dot 1.0 y 0\n",
      "W updated to:  [0. 1. 1.]\n",
      "1 w*x==0 x [1 1 0] w [0. 1. 1.] dot 1.0 y 1\n",
      "correct\n",
      "2 w*x==0 x [1 0 1] w [0. 1. 1.] dot 1.0 y 1\n",
      "correct\n",
      "epoch:  3\n",
      "0 w*x==0 x [1 0 0] w [0. 1. 1.] dot 0.0 y 0\n",
      "correct\n",
      "1 w*x==0 x [1 1 0] w [0. 1. 1.] dot 1.0 y 1\n",
      "correct\n",
      "2 w*x==0 x [1 0 1] w [0. 1. 1.] dot 1.0 y 1\n",
      "correct\n",
      "epoch:  4\n",
      "0 w*x==0 x [1 0 0] w [0. 1. 1.] dot 0.0 y 0\n",
      "correct\n",
      "1 w*x==0 x [1 1 0] w [0. 1. 1.] dot 1.0 y 1\n",
      "correct\n",
      "2 w*x==0 x [1 0 1] w [0. 1. 1.] dot 1.0 y 1\n",
      "correct\n",
      "Leared Weights: [0. 1. 1.]\n"
     ]
    },
    {
     "data": {
      "image/png": "[encoded data removed]",
      "text/plain": [
       "<Figure size 432x288 with 1 Axes>"
      ]
     },
     "metadata": {
      "needs_background": "light"
     },
     "output_type": "display_data"
    }
   ],
   "source": [
    "import numpy as np\n",
    "def perceptron_plot(X, Y):\n",
    "    '''\n",
    "    train perceptron and plot the total loss in each epoch.\n",
    "    \n",
    "    :param X: data samples\n",
    "    :param Y: data labels\n",
    "    :return: weight vector as a numpy array\n",
    "    '''\n",
    "    w = np.zeros(len(X[0]))\n",
    "    eta = 1\n",
    "    n = 5\n",
    "    errors = []\n",
    "\n",
    "    for t in range(n):\n",
    "        \n",
    "        print('epoch: ' , t)\n",
    "        total_error = 0\n",
    "        \n",
    "        for i, x in enumerate(X):\n",
    "            \n",
    "            \n",
    "            if (np.dot(X[i], w) == Y[i]):\n",
    "                print(i, 'w*x==0', 'x',X[i],'w', w,'dot', np.dot(X[i], w), 'y',Y[i])\n",
    "                print('correct')\n",
    "                continue\n",
    "                \n",
    "            elif (np.dot(X[i], w) == 0 and Y[i] == 1):\n",
    "                total_error += 1\n",
    "                print(i, 'w*x==0 & y==1', 'X',X[i],'w', w,'dot',\n",
    "                      np.dot(X[i], w), 'y',Y[i])\n",
    "        \n",
    "                \n",
    "                w = w + X[i]\n",
    "                print('W updated to: ', w)\n",
    "                \n",
    "            elif (np.dot(X[i], w) == 1 and Y[i] == 0):\n",
    "                total_error += 1\n",
    "                print(i, 'w*x==1 & y==0' ,'X',X[i],'w', w,'dot', \n",
    "                      np.dot(X[i], w), 'y',Y[i], )\n",
    "                \n",
    "                w = w - X[i]\n",
    "                print('W updated to: ', w)\n",
    "                \n",
    "        errors.append(total_error)\n",
    "        \n",
    "    plt.plot(errors)\n",
    "    plt.xlabel('Epoch')\n",
    "    plt.ylabel('Total Loss')\n",
    "    \n",
    "    return w\n",
    "\n",
    "X = [[1,0,0],\n",
    "    [1,1,0],\n",
    "    [1,0,1],\n",
    "    [1,1,1]]\n",
    "y = [0, 1, 1, 1]\n",
    "w=perceptron_plot(np.array(X),y)\n",
    "print('Leared Weights:', w)\n"
   ]
  }
 ],
 "metadata": {
  "colab": {
   "name": "llec2_linear_perpecptrone.ipynb",
   "provenance": []
  },
  "kernelspec": {
   "display_name": "Python 3 (ipykernel)",
   "language": "python",
   "name": "python3"
  },
  "language_info": {
   "codemirror_mode": {
    "name": "ipython",
    "version": 3
   },
   "file_extension": ".py",
   "mimetype": "text/x-python",
   "name": "python",
   "nbconvert_exporter": "python",
   "pygments_lexer": "ipython3",
   "version": "3.9.0"
  },
  "varInspector": {
   "cols": {
    "lenName": 16,
    "lenType": 16,
    "lenVar": 40
   },
   "kernels_config": {
    "python": {
     "delete_cmd_postfix": "",
     "delete_cmd_prefix": "del ",
     "library": "var_list.py",
     "varRefreshCmd": "print(var_dic_list())"
    },
    "r": {
     "delete_cmd_postfix": ") ",
     "delete_cmd_prefix": "rm(",
     "library": "var_list.r",
     "varRefreshCmd": "cat(var_dic_list()) "
    }
   },
   "types_to_exclude": [
    "module",
    "function",
    "builtin_function_or_method",
    "instance",
    "_Feature"
   ],
   "window_display": false
  }
 },
 "nbformat": 4,
 "nbformat_minor": 1
}
