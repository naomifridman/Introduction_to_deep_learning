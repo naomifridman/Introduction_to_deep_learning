{
  "cells": [
    {
      "cell_type": "markdown",
      "metadata": {
        "id": "view-in-github",
        "colab_type": "text"
      },
      "source": [
        "<a href=\"https://colab.research.google.com/github/naomifridman/Introduction_to_deep_learning/blob/master/lec5_Cnn_architecture.ipynb\" target=\"_parent\"><img src=\"https://colab.research.google.com/assets/colab-badge.svg\" alt=\"Open In Colab\"/></a>"
      ]
    },
    {
      "cell_type": "markdown",
      "metadata": {
        "id": "Jykh4mH_RkYs"
      },
      "source": [
        "# CNN (Convulotional Neural Networks)"
      ]
    },
    {
      "cell_type": "code",
      "execution_count": null,
      "metadata": {
        "id": "Y5wlasI3ozN0"
      },
      "outputs": [],
      "source": [
        "import numpy as np\n",
        "import pandas as pd\n",
        "import matplotlib.pyplot as plt\n",
        "\n",
        "from keras.layers import Input, Dense, Dropout, Activation, Flatten, Conv2D, MaxPooling2D\n",
        "from keras.utils import np_utils\n",
        "from tensorflow.keras.optimizers import Adam\n",
        "from keras.datasets import mnist\n",
        "from keras.models import Model, Sequential\n",
        "from keras.losses import categorical_crossentropy\n",
        "\n",
        "# random seeds must be set before importing keras & tensorflow\n",
        "my_seed = 512\n",
        "np.random.seed(my_seed)\n",
        "import random \n",
        "random.seed(my_seed)\n",
        "\n",
        "from IPython.display import Image\n",
        "from IPython.core.display import HTML "
      ]
    },
    {
      "cell_type": "code",
      "execution_count": null,
      "metadata": {
        "id": "r-dzd7GVRkYv"
      },
      "outputs": [],
      "source": [
        "import matplotlib.gridspec as gridspec\n",
        "import matplotlib.pyplot as plt\n",
        "# cb - cotrast_brightness\n",
        "def show_n_images(imgs, cmap='gray', titles = None, enlarge = 4, mtitle=None,\n",
        "                  cut = 0, axis_off = False, fontsize=40, cb = 1):\n",
        "    \n",
        "    plt.set_cmap(cmap);\n",
        "    \n",
        "    n = len(imgs);\n",
        "    gs1 = gridspec.GridSpec(1, n);\n",
        "    \n",
        "    fig1 = plt.figure(figsize=(8*len(imgs),8)); \n",
        "    for i in range(n):\n",
        "\n",
        "        ax1 = fig1.add_subplot(gs1[i]);\n",
        "        if (cb):\n",
        "            if len(np.unique(imgs[i])<=5):\n",
        "                 img = imgs[i]\n",
        "            else:\n",
        "                \n",
        "                img = cont_br(imgs[i])\n",
        "        else:\n",
        "            img = imgs[i]\n",
        "        if cut:\n",
        "            ax1.imshow(img[50:290, 75:450] , interpolation='none');\n",
        "        else:\n",
        "            \n",
        "            ax1.imshow(img, interpolation='none');\n",
        "        if (titles is not None):\n",
        "            ax1.set_title(titles[i], fontsize=fontsize);  #, fontweight=\"bold\");\n",
        "        if (axis_off):\n",
        "            plt.axis('off')\n",
        "    if mtitle:\n",
        "        plt.title(mtitle)\n",
        "    plt.tight_layout()\n",
        "    plt.show();"
      ]
    },
    {
      "cell_type": "markdown",
      "metadata": {
        "id": "AYgW9A3wRkYw"
      },
      "source": [
        "# Convolution block\n",
        "Conv2D -> Conv2D->Maxpooling->Dropout"
      ]
    },
    {
      "cell_type": "markdown",
      "metadata": {
        "id": "YQ6nnKeKozOs"
      },
      "source": [
        "# CNN (Convulotional Neural Networks)"
      ]
    },
    {
      "cell_type": "markdown",
      "metadata": {
        "id": "mAcGTKrYozOt",
        "outputId": "bfb99b51-8b65-4b4a-c6cb-3c4aeb4f40c5"
      },
      "source": [
        "![title](https://raw.githubusercontent.com/naomifridman/Introduction_to_deep_learning/master/imgs/general_cnn.jpeg)"
      ]
    },
    {
      "cell_type": "markdown",
      "metadata": {
        "id": "gNldwFHpozQM"
      },
      "source": [
        "## Example (MNIST)\n"
      ]
    },
    {
      "cell_type": "markdown",
      "metadata": {
        "id": "sFqWa1e6xM_q"
      },
      "source": [
        "Solving MNIST classification using CNN ([Based on this example in keras docs](https://github.com/meenuagarwal/MNIST-Classification-Using-Keras))"
      ]
    },
    {
      "cell_type": "markdown",
      "metadata": {
        "id": "0GVe3TPhOP5X"
      },
      "source": [
        "### The data"
      ]
    },
    {
      "cell_type": "code",
      "execution_count": null,
      "metadata": {
        "id": "eyBTEt1-RkYy",
        "outputId": "7d966bda-1a89-482b-a36b-1fa90e487d28"
      },
      "outputs": [
        {
          "name": "stdout",
          "output_type": "stream",
          "text": [
            "x_train shape: (60000, 28, 28, 1)\n",
            "60000 train samples\n",
            "10000 test samples\n"
          ]
        }
      ],
      "source": [
        "from sklearn.utils import shuffle\n",
        "from keras.datasets import mnist\n",
        "\n",
        "(x_train, y_train), (x_test, y_test) = mnist.load_data()\n",
        "# Model / data parameters\n",
        "num_classes = 10\n",
        "input_shape = (28, 28, 1)\n",
        "\n",
        "# Scale images to the [0, 1] range\n",
        "x_train = x_train.astype(\"float32\") / 255\n",
        "x_test = x_test.astype(\"float32\") / 255\n",
        "# Make sure images have shape (28, 28, 1)\n",
        "x_train = np.expand_dims(x_train, -1)\n",
        "x_test = np.expand_dims(x_test, -1)\n",
        "print(\"x_train shape:\", x_train.shape)\n",
        "print(x_train.shape[0], \"train samples\")\n",
        "print(x_test.shape[0], \"test samples\")"
      ]
    },
    {
      "cell_type": "markdown",
      "metadata": {
        "id": "27v9EDx3DqsB"
      },
      "source": [
        "MNIST is a classification problem, so we use the `to_categorical()` to convert the target."
      ]
    },
    {
      "cell_type": "code",
      "execution_count": null,
      "metadata": {
        "id": "oBQeS3DZRkY0",
        "outputId": "fa000837-5bec-49cd-deac-213666cf8809"
      },
      "outputs": [
        {
          "data": {
            "text/plain": [
              "(10000, 10)"
            ]
          },
          "execution_count": 4,
          "metadata": {},
          "output_type": "execute_result"
        }
      ],
      "source": [
        "from sklearn.preprocessing import LabelBinarizer\n",
        "le = LabelBinarizer()\n",
        "\n",
        "y_train = le.fit(y_train).transform(y_train)\n",
        "y_test = le.transform(y_test)\n",
        "y_test.shape"
      ]
    },
    {
      "cell_type": "markdown",
      "metadata": {
        "id": "D6jDLn4aPVWh"
      },
      "source": [
        "### The model - Classical (Alexnet VGG Style) Convolution block"
      ]
    },
    {
      "cell_type": "code",
      "execution_count": null,
      "metadata": {
        "id": "tr9dvvRsRkY1",
        "outputId": "5731159b-4963-41d6-97fc-bc16627515cc"
      },
      "outputs": [
        {
          "data": {
            "text/plain": [
              "((60000, 28, 28, 1), (10000, 28, 28, 1))"
            ]
          },
          "execution_count": 5,
          "metadata": {},
          "output_type": "execute_result"
        }
      ],
      "source": [
        "x_train.shape, x_test.shape"
      ]
    },
    {
      "cell_type": "code",
      "execution_count": null,
      "metadata": {
        "id": "5Z8tb4RJRkY1"
      },
      "outputs": [],
      "source": [
        "model = Sequential()\n",
        "model.add(Input((28, 28, 1)))\n",
        "model.add(Conv2D(filters=32,  kernel_size=(3, 3), activation='relu'))\n",
        "model.add(Conv2D(filters=32, kernel_size=(3, 3), activation='relu'))\n",
        "model.add(MaxPooling2D(pool_size=(2,2)))\n",
        "\n",
        "\n",
        "model.add(Flatten())\n",
        "model.add(Dropout(0.5))\n",
        "model.add(Dense(10, activation='softmax'))\n",
        "\n",
        "\n",
        "model.compile(loss='categorical_crossentropy',optimizer='adam',metrics=['accuracy'])"
      ]
    },
    {
      "cell_type": "code",
      "execution_count": null,
      "metadata": {
        "colab": {
          "base_uri": "https://localhost:8080/",
          "height": 425
        },
        "id": "XzmJNYwFozQR",
        "outputId": "04a8943c-e7a7-4f62-d3be-2fc2a7c74f42"
      },
      "outputs": [
        {
          "name": "stdout",
          "output_type": "stream",
          "text": [
            "Model: \"sequential\"\n",
            "_________________________________________________________________\n",
            "Layer (type)                 Output Shape              Param #   \n",
            "=================================================================\n",
            "conv2d (Conv2D)              (None, 26, 26, 32)        320       \n",
            "_________________________________________________________________\n",
            "conv2d_1 (Conv2D)            (None, 24, 24, 32)        9248      \n",
            "_________________________________________________________________\n",
            "max_pooling2d (MaxPooling2D) (None, 12, 12, 32)        0         \n",
            "_________________________________________________________________\n",
            "flatten (Flatten)            (None, 4608)              0         \n",
            "_________________________________________________________________\n",
            "dropout (Dropout)            (None, 4608)              0         \n",
            "_________________________________________________________________\n",
            "dense (Dense)                (None, 10)                46090     \n",
            "=================================================================\n",
            "Total params: 55,658\n",
            "Trainable params: 55,658\n",
            "Non-trainable params: 0\n",
            "_________________________________________________________________\n"
          ]
        }
      ],
      "source": [
        "model.summary()"
      ]
    },
    {
      "cell_type": "code",
      "execution_count": null,
      "metadata": {
        "id": "tPHuHrKCD-nZ"
      },
      "outputs": [],
      "source": [
        "model.compile(loss=categorical_crossentropy,\n",
        "              optimizer=Adam(learning_rate=0.01),\n",
        "              metrics=['accuracy'])"
      ]
    },
    {
      "cell_type": "markdown",
      "metadata": {
        "id": "ZoyCzsbnPdNT"
      },
      "source": [
        "### Fitting"
      ]
    },
    {
      "cell_type": "code",
      "execution_count": null,
      "metadata": {
        "id": "uafaNddXFfbJ"
      },
      "outputs": [],
      "source": [
        "batch_size = 128\n",
        "epochs = 2"
      ]
    },
    {
      "cell_type": "code",
      "execution_count": null,
      "metadata": {
        "colab": {
          "base_uri": "https://localhost:8080/",
          "height": 459
        },
        "id": "9I99yBy8IZed",
        "outputId": "1090e4db-154f-4467-c3b4-fed5ff47e7d7"
      },
      "outputs": [
        {
          "name": "stdout",
          "output_type": "stream",
          "text": [
            "Epoch 1/2\n",
            "469/469 [==============================] - 35s 74ms/step - loss: 0.1625 - accuracy: 0.9497 - val_loss: 0.0613 - val_accuracy: 0.9801\n",
            "Epoch 2/2\n",
            "469/469 [==============================] - 32s 68ms/step - loss: 0.0834 - accuracy: 0.9736 - val_loss: 0.0459 - val_accuracy: 0.9851\n"
          ]
        }
      ],
      "source": [
        "history = model.fit(x_train, y_train,\n",
        "          batch_size=batch_size,\n",
        "          epochs=epochs,\n",
        "          verbose=1,\n",
        "          validation_data=(x_test, y_test))"
      ]
    },
    {
      "cell_type": "markdown",
      "metadata": {
        "id": "b-H8LZEqPhov"
      },
      "source": [
        "### Validation"
      ]
    },
    {
      "cell_type": "code",
      "execution_count": null,
      "metadata": {
        "colab": {
          "base_uri": "https://localhost:8080/",
          "height": 51
        },
        "id": "fbsRvSHBozQU",
        "outputId": "0f07fa12-0be9-4239-c077-144554f2ac9c"
      },
      "outputs": [
        {
          "name": "stdout",
          "output_type": "stream",
          "text": [
            "Test loss: 0.04588911682367325\n",
            "Test accuracy: 0.9850999712944031\n"
          ]
        }
      ],
      "source": [
        "score = model.evaluate(x_test, y_test, verbose=0)\n",
        "print('Test loss:', score[0])\n",
        "print('Test accuracy:', score[1])"
      ]
    },
    {
      "cell_type": "markdown",
      "metadata": {
        "id": "E7GCD5Z8ozP1"
      },
      "source": [
        "### Filters\n",
        "\n",
        "Here are some examples of filters (called kernels) applied in mnist images:\n",
        "\n",
        "![title](https://raw.githubusercontent.com/naomifridman/Introduction_to_deep_learning/master/imgs/mnist_kernels.png)"
      ]
    },
    {
      "cell_type": "markdown",
      "metadata": {
        "id": "OEYB_Fh3RkY3"
      },
      "source": [
        "# VGG\n",
        "\n",
        "Vgg16 build of:\n",
        "* convolution blocs\n",
        "* flat\n",
        "* 2 dense Layers\n",
        "* Softmax/Sigmoid to classify\n",
        "![title](https://raw.githubusercontent.com/naomifridman/Introduction_to_deep_learning/master/imgs/vgg16.png)"
      ]
    },
    {
      "cell_type": "markdown",
      "metadata": {
        "id": "z2dHcTecozOz",
        "outputId": "6eab43a5-250e-48e1-d046-ef53d9079c47"
      },
      "source": [
        "![title](https://raw.githubusercontent.com/naomifridman/Introduction_to_deep_learning/master/imgs/mnist_conv.png)"
      ]
    },
    {
      "cell_type": "markdown",
      "metadata": {
        "id": "XnlWEt9UC0FD",
        "outputId": "86bbf107-7874-4706-fd94-dff7e3b43f2f"
      },
      "source": [
        "![title](https://raw.githubusercontent.com/naomifridman/Introduction_to_deep_learning/master/imgs/example_of_conv_layers.png)"
      ]
    },
    {
      "cell_type": "code",
      "execution_count": null,
      "metadata": {
        "id": "AIl28hUoRkY3"
      },
      "outputs": [],
      "source": [
        "# From here\n",
        "* block architectire\n",
        "* general architecture\n",
        "* special gates"
      ]
    },
    {
      "cell_type": "markdown",
      "metadata": {
        "id": "IMbXM9pXozN4"
      },
      "source": [
        "# Autoencoder"
      ]
    },
    {
      "cell_type": "markdown",
      "metadata": {
        "id": "4yAoXX70w3hW"
      },
      "source": [
        "## Idea and basic concepts"
      ]
    },
    {
      "cell_type": "markdown",
      "metadata": {
        "id": "XMYgRd7rozN6",
        "outputId": "f1ef4aa3-5659-41a4-affc-62d476f70cbf"
      },
      "source": [
        "![title](https://raw.githubusercontent.com/naomifridman/Introduction_to_deep_learning/master/imgs/auto_encoder.png)"
      ]
    },
    {
      "cell_type": "markdown",
      "metadata": {
        "id": "lUACvtIJRI_w"
      },
      "source": [
        "## Example (MNIST)"
      ]
    },
    {
      "cell_type": "markdown",
      "metadata": {
        "id": "PNoUUNreQPId"
      },
      "source": [
        "### Building the model"
      ]
    },
    {
      "cell_type": "markdown",
      "metadata": {
        "id": "Tq_iItlWqzEa"
      },
      "source": [
        "We choose the dimensionality of the encoding."
      ]
    },
    {
      "cell_type": "code",
      "execution_count": null,
      "metadata": {
        "colab": {
          "base_uri": "https://localhost:8080/",
          "height": 34
        },
        "id": "tzFipOCWhMOo",
        "outputId": "39cc8f61-716b-4a79-8eed-7a45eecca010"
      },
      "outputs": [
        {
          "name": "stdout",
          "output_type": "stream",
          "text": [
            "(60000, 784)\n"
          ]
        }
      ],
      "source": [
        "x_train = x_train.reshape(60000, -1)\n",
        "x_test = x_test.reshape(10000, -1)\n",
        "print(x_train.shape)"
      ]
    },
    {
      "cell_type": "code",
      "execution_count": null,
      "metadata": {
        "id": "IMQ5IB20RkY4"
      },
      "outputs": [],
      "source": [
        "model = Sequential()\n",
        "#model.add(    Flatten(input_shape = (784,))\n",
        "model.add(Dense(256, activation='relu', input_shape=(784,)))\n",
        "model.add(Dropout(0.5))\n",
        "model.add(    Dense(128))\n",
        "model.add( Dropout(0.5))\n",
        "model.add(  Dense(10, name='latent'))\n",
        "model.add( Dropout(0.5))\n",
        "model.add(    Dense(128))\n",
        "model.add( Dropout(0.5))\n",
        "model.add(    Dense(256))\n",
        "model.add( Dropout(0.5))\n",
        "model.add(    Dense(28*28))"
      ]
    },
    {
      "cell_type": "markdown",
      "metadata": {
        "id": "vkOOQDBQRkY5"
      },
      "source": [
        "model = Sequential()\n",
        "#model.add(    Flatten(input_shape = (784,))\n",
        "model.add(Dense(256, activation='relu', input_shape=(784,)))\n",
        "model.add(Dropout(0.5))\n",
        "model.add(  Dense(10))\n",
        "model.add( Dropout(0.5))\n",
        "model.add(    Dense(28*28))"
      ]
    },
    {
      "cell_type": "code",
      "execution_count": null,
      "metadata": {
        "id": "xPsQy_vuRkY5"
      },
      "outputs": [],
      "source": [
        "model.compile(optimizer='adam', \n",
        "                    loss='mse')"
      ]
    },
    {
      "cell_type": "code",
      "execution_count": null,
      "metadata": {
        "id": "u7zCS0xLRkY5",
        "outputId": "4a42c667-70b8-4bd9-a0b8-b68ae0c20d88"
      },
      "outputs": [
        {
          "name": "stdout",
          "output_type": "stream",
          "text": [
            "Model: \"sequential_1\"\n",
            "_________________________________________________________________\n",
            "Layer (type)                 Output Shape              Param #   \n",
            "=================================================================\n",
            "dense_1 (Dense)              (None, 256)               200960    \n",
            "_________________________________________________________________\n",
            "dropout_1 (Dropout)          (None, 256)               0         \n",
            "_________________________________________________________________\n",
            "dense_2 (Dense)              (None, 128)               32896     \n",
            "_________________________________________________________________\n",
            "dropout_2 (Dropout)          (None, 128)               0         \n",
            "_________________________________________________________________\n",
            "latent (Dense)               (None, 10)                1290      \n",
            "_________________________________________________________________\n",
            "dropout_3 (Dropout)          (None, 10)                0         \n",
            "_________________________________________________________________\n",
            "dense_3 (Dense)              (None, 128)               1408      \n",
            "_________________________________________________________________\n",
            "dropout_4 (Dropout)          (None, 128)               0         \n",
            "_________________________________________________________________\n",
            "dense_4 (Dense)              (None, 256)               33024     \n",
            "_________________________________________________________________\n",
            "dropout_5 (Dropout)          (None, 256)               0         \n",
            "_________________________________________________________________\n",
            "dense_5 (Dense)              (None, 784)               201488    \n",
            "=================================================================\n",
            "Total params: 471,066\n",
            "Trainable params: 471,066\n",
            "Non-trainable params: 0\n",
            "_________________________________________________________________\n"
          ]
        }
      ],
      "source": [
        "model.summary()"
      ]
    },
    {
      "cell_type": "code",
      "execution_count": null,
      "metadata": {
        "id": "PZ1U5r39q3KP"
      },
      "outputs": [],
      "source": [
        "input_dim = 784\n",
        "encoding_dim = 32  "
      ]
    },
    {
      "cell_type": "code",
      "execution_count": null,
      "metadata": {
        "colab": {
          "base_uri": "https://localhost:8080/",
          "height": 391
        },
        "id": "1AAwGh-aozOb",
        "outputId": "b2ac2633-64c5-4c68-e2b6-eb752c79810f"
      },
      "outputs": [
        {
          "name": "stdout",
          "output_type": "stream",
          "text": [
            "Epoch 1/8\n",
            "235/235 [==============================] - 3s 11ms/step - loss: 0.0577 - val_loss: 0.0522\n",
            "Epoch 2/8\n",
            "235/235 [==============================] - 3s 11ms/step - loss: 0.0573 - val_loss: 0.0524\n",
            "Epoch 3/8\n",
            "235/235 [==============================] - 3s 11ms/step - loss: 0.0570 - val_loss: 0.0519\n",
            "Epoch 4/8\n",
            "235/235 [==============================] - 3s 12ms/step - loss: 0.0568 - val_loss: 0.0514\n",
            "Epoch 5/8\n",
            "235/235 [==============================] - 3s 13ms/step - loss: 0.0566 - val_loss: 0.0519\n",
            "Epoch 6/8\n",
            "235/235 [==============================] - 3s 12ms/step - loss: 0.0565 - val_loss: 0.0514\n",
            "Epoch 7/8\n",
            "235/235 [==============================] - 3s 12ms/step - loss: 0.0564 - val_loss: 0.0517\n",
            "Epoch 8/8\n",
            "235/235 [==============================] - 3s 12ms/step - loss: 0.0563 - val_loss: 0.0518\n"
          ]
        }
      ],
      "source": [
        "history = model.fit(x_train, x_train,\n",
        "                epochs=8,\n",
        "                batch_size=256,\n",
        "                shuffle=True,\n",
        "                validation_data=(x_test, x_test))"
      ]
    },
    {
      "cell_type": "code",
      "execution_count": null,
      "metadata": {
        "id": "C2kSm9zKRkY6",
        "outputId": "3e92ef6d-a8b0-40e0-926c-378b4f095af9"
      },
      "outputs": [
        {
          "data": {
            "text/plain": [
              "(3, 784)"
            ]
          },
          "execution_count": 19,
          "metadata": {},
          "output_type": "execute_result"
        }
      ],
      "source": [
        "pred = model.predict(x_test[0:3])\n",
        "pred.shape"
      ]
    },
    {
      "cell_type": "code",
      "execution_count": null,
      "metadata": {
        "id": "qqWRZ8krRkY8",
        "outputId": "daddd830-a73b-4b6a-b096-ac5284b1263f"
      },
      "outputs": [
        {
          "data": {
            "text/plain": [
              "<Figure size 432x288 with 0 Axes>"
            ]
          },
          "metadata": {},
          "output_type": "display_data"
        },
        {
          "data": {
            "image/png": "[encoded data removed]",
            "text/plain": [
              "<Figure size 3456x576 with 6 Axes>"
            ]
          },
          "metadata": {
            "needs_background": "light"
          },
          "output_type": "display_data"
        }
      ],
      "source": [
        "show_n_images([x_test[0].reshape(28,28), pred[0].reshape(28,28), \n",
        "               x_test[1].reshape(28,28), pred[1].reshape(28,28),\n",
        "              x_test[2].reshape(28,28), pred[2].reshape(28,28)])"
      ]
    },
    {
      "cell_type": "code",
      "execution_count": null,
      "metadata": {
        "id": "9aMjhT1wRkY8",
        "outputId": "b7ec9f14-e305-47ae-a098-ea1f284cef6e"
      },
      "outputs": [
        {
          "data": {
            "text/plain": [
              "array([[ 0.13887891, -0.11026566,  0.05972666,  0.05807294,  0.92575824,\n",
              "        -0.44056863,  1.1819007 ,  0.15145117,  0.44083402,  0.74755675],\n",
              "       [ 0.30735892, -0.01057586,  0.17358318,  0.24692087, -1.1249082 ,\n",
              "         0.6083149 , -1.2545716 , -0.11254144, -0.6551471 , -0.40552592],\n",
              "       [ 0.8132543 ,  0.57657385,  0.34392092,  0.8795795 , -0.7121798 ,\n",
              "        -0.07454451, -0.5600993 ,  0.0335349 ,  0.40414536,  0.25117975]],\n",
              "      dtype=float32)"
            ]
          },
          "execution_count": 21,
          "metadata": {},
          "output_type": "execute_result"
        }
      ],
      "source": [
        "from keras.models import Model\n",
        "\n",
        "layer_name = 'latent'\n",
        "intermediate_layer_model = Model(inputs=model.input,\n",
        "                                 outputs=model.get_layer(layer_name).output)\n",
        "intermediate_output = intermediate_layer_model.predict(x_test[0:3])\n",
        "intermediate_output"
      ]
    },
    {
      "cell_type": "code",
      "execution_count": null,
      "metadata": {
        "id": "SvrOP8lzRkY8",
        "outputId": "97561144-e259-4a34-c270-78bf815da417"
      },
      "outputs": [
        {
          "data": {
            "text/plain": [
              "array([6, 5, 3], dtype=int64)"
            ]
          },
          "execution_count": 22,
          "metadata": {},
          "output_type": "execute_result"
        }
      ],
      "source": [
        "np.argmax(intermediate_output, axis=1)"
      ]
    },
    {
      "cell_type": "markdown",
      "metadata": {
        "id": "PB491xK9ozQk"
      },
      "source": [
        "## Noise filtering using autoencoders"
      ]
    },
    {
      "cell_type": "code",
      "execution_count": null,
      "metadata": {
        "id": "_cgP-VCzRkY9"
      },
      "outputs": [],
      "source": [
        "x_train = np.reshape(X_train, (len(x_train), 28, 28, 1))  \n",
        "x_test = np.reshape(X_test, (len(x_test), 28, 28, 1))  "
      ]
    },
    {
      "cell_type": "code",
      "execution_count": null,
      "metadata": {
        "id": "wVaV_OppRkY9"
      },
      "outputs": [],
      "source": [
        "\n",
        "\n",
        "# Lets create noisy digits\n",
        "noise_factor = 0.5\n",
        "x_train_noisy = x_train + noise_factor * np.random.normal(loc=0.0, scale=1.2, size=x_train.shape) \n",
        "x_test_noisy = x_test + noise_factor * np.random.normal(loc=0.0, scale=1.2, size=x_test.shape) \n",
        "\n",
        "x_train_noisy = np.clip(x_train_noisy, 0., 1.)\n",
        "x_test_noisy = np.clip(x_test_noisy, 0., 1.)"
      ]
    },
    {
      "cell_type": "code",
      "execution_count": null,
      "metadata": {
        "id": "uYyoFY_JRkY9",
        "outputId": "653ed50f-bc31-43ae-e880-1c368d0ca79d"
      },
      "outputs": [
        {
          "data": {
            "text/plain": [
              "<Figure size 432x288 with 0 Axes>"
            ]
          },
          "metadata": {},
          "output_type": "display_data"
        },
        {
          "data": {
            "image/png": "[encoded data removed]",
            "text/plain": [
              "<Figure size 5760x576 with 10 Axes>"
            ]
          },
          "metadata": {
            "needs_background": "light"
          },
          "output_type": "display_data"
        }
      ],
      "source": [
        "show_n_images([x_test_noisy[k].reshape(28,28) for k in range(10)])"
      ]
    },
    {
      "cell_type": "markdown",
      "metadata": {
        "id": "8hkEJkuEozQn"
      },
      "source": [
        "Here's what the noisy digits look like:"
      ]
    },
    {
      "cell_type": "code",
      "execution_count": null,
      "metadata": {
        "id": "wLeUM5dcRkY9"
      },
      "outputs": [],
      "source": [
        ""
      ]
    },
    {
      "cell_type": "code",
      "execution_count": null,
      "metadata": {
        "id": "2gcHrKZZozQn"
      },
      "outputs": [],
      "source": [
        "n = 10\n",
        "plt.figure(figsize=(20, 2))\n",
        "for i in range(n):\n",
        "    ax = plt.subplot(1, n, i+1)\n",
        "    plt.imshow(X_test_noisy[i].reshape(28, 28))\n",
        "    plt.gray()\n",
        "    ax.get_xaxis().set_visible(False)\n",
        "    ax.get_yaxis().set_visible(False)\n",
        "plt.show()"
      ]
    },
    {
      "cell_type": "code",
      "execution_count": null,
      "metadata": {
        "id": "e2LaSLbbozQp",
        "outputId": "093f45e4-6948-4283-bddf-984fa15ec227"
      },
      "outputs": [
        {
          "name": "stdout",
          "output_type": "stream",
          "text": [
            "Model: \"model_13\"\n",
            "_________________________________________________________________\n",
            "Layer (type)                 Output Shape              Param #   \n",
            "=================================================================\n",
            "input_14 (InputLayer)        [(None, 28, 28, 1)]       0         \n",
            "_________________________________________________________________\n",
            "conv2d_85 (Conv2D)           (None, 28, 28, 32)        320       \n",
            "_________________________________________________________________\n",
            "max_pooling2d_24 (MaxPooling (None, 14, 14, 32)        0         \n",
            "_________________________________________________________________\n",
            "conv2d_86 (Conv2D)           (None, 14, 14, 32)        9248      \n",
            "_________________________________________________________________\n",
            "max_pooling2d_25 (MaxPooling (None, 7, 7, 32)          0         \n",
            "_________________________________________________________________\n",
            "conv2d_transpose_8 (Conv2DTr (None, 14, 14, 32)        9248      \n",
            "_________________________________________________________________\n",
            "conv2d_transpose_9 (Conv2DTr (None, 28, 28, 32)        9248      \n",
            "_________________________________________________________________\n",
            "conv2d_87 (Conv2D)           (None, 28, 28, 1)         289       \n",
            "=================================================================\n",
            "Total params: 28,353\n",
            "Trainable params: 28,353\n",
            "Non-trainable params: 0\n",
            "_________________________________________________________________\n"
          ]
        }
      ],
      "source": [
        "input = Input(shape=(28, 28, 1))\n",
        "\n",
        "# Encoder\n",
        "x = Conv2D(32, (3, 3), activation=\"relu\", padding=\"same\")(input)\n",
        "x = MaxPooling2D((2, 2), padding=\"same\")(x)\n",
        "x = Conv2D(32, (3, 3), activation=\"relu\", padding=\"same\")(x)\n",
        "x = MaxPooling2D((2, 2), padding=\"same\")(x)\n",
        "\n",
        "# Decoder\n",
        "x = Conv2DTranspose(32, (3, 3), strides=2, activation=\"relu\", padding=\"same\")(x)\n",
        "x = Conv2DTranspose(32, (3, 3), strides=2, activation=\"relu\", padding=\"same\")(x)\n",
        "x = Conv2D(1, (3, 3), activation=\"sigmoid\", padding=\"same\")(x)\n",
        "\n",
        "# Autoencoder\n",
        "autoencoder = Model(input, x)\n",
        "autoencoder.compile(optimizer=\"adam\", loss=\"binary_crossentropy\")\n",
        "autoencoder.summary()"
      ]
    },
    {
      "cell_type": "code",
      "execution_count": null,
      "metadata": {
        "id": "uL5IA01RozQt",
        "outputId": "0abf6cf3-cb68-46f0-fb86-63ad94cc8520"
      },
      "outputs": [
        {
          "name": "stdout",
          "output_type": "stream",
          "text": [
            "Epoch 1/2\n",
            "469/469 [==============================] - 66s 140ms/step - loss: 0.1486 - val_loss: 0.1331\n",
            "Epoch 2/2\n",
            "469/469 [==============================] - 62s 133ms/step - loss: 0.1312 - val_loss: 0.1277\n"
          ]
        },
        {
          "data": {
            "text/plain": [
              "<keras.callbacks.History at 0x2c742951e50>"
            ]
          },
          "execution_count": 67,
          "metadata": {},
          "output_type": "execute_result"
        }
      ],
      "source": [
        "autoencoder.fit(x_train_noisy, x_train,\n",
        "                epochs=2,\n",
        "                batch_size=128,\n",
        "                shuffle=True,\n",
        "                validation_data=(x_test_noisy, x_test))"
      ]
    },
    {
      "cell_type": "code",
      "execution_count": null,
      "metadata": {
        "id": "zx6ep7QcRkY-",
        "outputId": "f5262348-601f-4c1f-e21b-458764d76717"
      },
      "outputs": [
        {
          "data": {
            "text/plain": [
              "(5, 28, 28, 1)"
            ]
          },
          "execution_count": 71,
          "metadata": {},
          "output_type": "execute_result"
        }
      ],
      "source": [
        "pred = autoencoder.predict(x_test_noisy[0:5])\n",
        "pred.shape"
      ]
    },
    {
      "cell_type": "code",
      "execution_count": null,
      "metadata": {
        "id": "hI5rv8JiRkY-",
        "outputId": "c46c101f-01c3-43e3-d7ae-0f685fd6745b"
      },
      "outputs": [
        {
          "data": {
            "text/plain": [
              "<Figure size 432x288 with 0 Axes>"
            ]
          },
          "metadata": {},
          "output_type": "display_data"
        },
        {
          "data": {
            "image/png": "[encoded data removed]",
            "text/plain": [
              "<Figure size 2880x576 with 5 Axes>"
            ]
          },
          "metadata": {
            "needs_background": "light"
          },
          "output_type": "display_data"
        },
        {
          "data": {
            "text/plain": [
              "<Figure size 432x288 with 0 Axes>"
            ]
          },
          "metadata": {},
          "output_type": "display_data"
        },
        {
          "data": {
            "image/png": "[encoded data removed]",
            "text/plain": [
              "<Figure size 2880x576 with 5 Axes>"
            ]
          },
          "metadata": {
            "needs_background": "light"
          },
          "output_type": "display_data"
        },
        {
          "data": {
            "text/plain": [
              "<Figure size 432x288 with 0 Axes>"
            ]
          },
          "metadata": {},
          "output_type": "display_data"
        },
        {
          "data": {
            "image/png": "[encoded data removed]",
            "text/plain": [
              "<Figure size 2880x576 with 5 Axes>"
            ]
          },
          "metadata": {
            "needs_background": "light"
          },
          "output_type": "display_data"
        }
      ],
      "source": [
        "show_n_images([x_test_noisy[k].reshape(28,28) for k in range(5)])\n",
        "show_n_images([pred[k].reshape(28,28) for k in range(5)]         )     \n",
        "show_n_images([x_test[k].reshape(28,28) for k in range(5)]  )\n"
      ]
    },
    {
      "cell_type": "markdown",
      "metadata": {
        "id": "liMpe-HiRkY-"
      },
      "source": [
        "# UNET"
      ]
    },
    {
      "cell_type": "markdown",
      "metadata": {
        "id": "Ewb0IRxkRkY-"
      },
      "source": [
        "![title](https://raw.githubusercontent.com/naomifridman/Introduction_to_deep_learning/master/imgs/unet.png)"
      ]
    },
    {
      "cell_type": "markdown",
      "source": [
        "## Loss function for segmentation\n",
        "* IoU = Area of Intersection / Area of Union"
      ],
      "metadata": {
        "id": "qeYeFSwJR-e8"
      }
    },
    {
      "cell_type": "markdown",
      "metadata": {
        "id": "oIwybTbnRkY_"
      },
      "source": [
        "![title](https://raw.githubusercontent.com/naomifridman/Introduction_to_deep_learning/master/imgs/iou.png)"
      ]
    },
    {
      "cell_type": "code",
      "execution_count": null,
      "metadata": {
        "id": "mcFvih_3RkY_"
      },
      "outputs": [],
      "source": [
        "def dice_coef(y_true, y_pred, smooth=1):\n",
        "    \"\"\"\n",
        "    Dice = (2*|X & Y|)/ (|X|+ |Y|)\n",
        "         =  2*sum(|A*B|)/(sum(A^2)+sum(B^2))\n",
        "    ref: https://arxiv.org/pdf/1606.04797v1.pdf\n",
        "    \"\"\"\n",
        "    intersection = K.sum(K.abs(y_true * y_pred), axis=-1)\n",
        "    return (2. * intersection + smooth) / (K.sum(K.square(y_true),-1) + K.sum(K.square(y_pred),-1) + smooth)"
      ]
    },
    {
      "cell_type": "code",
      "execution_count": null,
      "metadata": {
        "id": "1dlYbtF4RkY_"
      },
      "outputs": [],
      "source": [
        ""
      ]
    }
  ],
  "metadata": {
    "accelerator": "GPU",
    "colab": {
      "name": "lec5_Cnn_architecture.ipynb",
      "provenance": [],
      "include_colab_link": true
    },
    "kernelspec": {
      "display_name": "Python 3 (ipykernel)",
      "language": "python",
      "name": "python3"
    },
    "language_info": {
      "codemirror_mode": {
        "name": "ipython",
        "version": 3
      },
      "file_extension": ".py",
      "mimetype": "text/x-python",
      "name": "python",
      "nbconvert_exporter": "python",
      "pygments_lexer": "ipython3",
      "version": "3.9.0"
    },
    "varInspector": {
      "cols": {
        "lenName": 16,
        "lenType": 16,
        "lenVar": 40
      },
      "kernels_config": {
        "python": {
          "delete_cmd_postfix": "",
          "delete_cmd_prefix": "del ",
          "library": "var_list.py",
          "varRefreshCmd": "print(var_dic_list())"
        },
        "r": {
          "delete_cmd_postfix": ") ",
          "delete_cmd_prefix": "rm(",
          "library": "var_list.r",
          "varRefreshCmd": "cat(var_dic_list()) "
        }
      },
      "types_to_exclude": [
        "module",
        "function",
        "builtin_function_or_method",
        "instance",
        "_Feature"
      ],
      "window_display": false
    }
  },
  "nbformat": 4,
  "nbformat_minor": 0
}