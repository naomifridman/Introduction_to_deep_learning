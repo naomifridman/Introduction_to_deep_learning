{
 "cells": [
  {
   "cell_type": "markdown",
   "metadata": {},
   "source": [
    "# Introduction to Deep Learning\n",
    "\n",
    "## Part 1 - What is a neural network, and how it learns ?\n",
    "\n",
    "### The Beginning - Linear perceptron and the concept of learning\n",
    "\n",
    "* Structure of a neuron \n",
    "* Algorithmic concept behind learning.\n"
   ]
  },
  {
   "cell_type": "markdown",
   "metadata": {},
   "source": [
    "## Inspiration - The Biological Neuron Model\n",
    "**The Neuron cell takes a :**\n",
    "* Binary input (of electrical signals), \n",
    "* Process it, and \n",
    "* Produce binary output (of electrical signal)."
   ]
  },
  {
   "cell_type": "markdown",
   "metadata": {},
   "source": [
    "![title](https://raw.githubusercontent.com/naomifridman/Introduction_to_deep_learning/master/imgs/neuron3.PNG)\n",
    "\n",
    "**Neuron Input**<br>\n",
    "A neuron accepts inputs, usually from other neurons, through its dendrites, that are connected to other neurons via a gap called a synapse which assigns a \"weight\" to any specific input. <br>\n",
    "All these inputs are processed together in the cell body (soma)<br>\n",
    "* neuron accepts inputs, usually from other neurons\n",
    "* each input assigned a \"weight\"\n",
    "* All these inputs are processed together\n",
    "\n",
    "**Neuron Output**<br>\n",
    "The Neurons process the combination of the inputs, and if it exceeds a certain threshold, an output signal is produced (the neuron \"fires\")<br>\n",
    "When the neuron fires, the signal (output) travels along the axon to the synapse terminals,there it assigned a \"weight\", and continue to the dendrites of other neurons through the synapse.<br>\n",
    "With this biological model in mind, we can define a mathematical artificial neuron.\n",
    "* if the processed input exceeds a certain threshold -> an output signal is produced"
   ]
  },
  {
   "cell_type": "markdown",
   "metadata": {},
   "source": [
    "## Perceptron - An Artificial Neural Network\n",
    "As in the Biological model, we want the neuron to intake an inputs, process it (weighted sum) and if it exceeds a threshold, the neuron will produce an output. \n",
    "\n",
    "![title](https://raw.githubusercontent.com/naomifridman/Introduction_to_deep_learning/master/imgs/perceptron_paradigma3.png)\n"
   ]
  },
  {
   "cell_type": "markdown",
   "metadata": {},
   "source": [
    "## Decision Units - Activation functions\n",
    "There are many options for decision units, that we will see later. \n",
    "\n",
    "Lets start with the basic one, defined by McCulloch-Pitts (1943)\n",
    "\n",
    "### Binary threshold unit\n",
    "![title](https://raw.githubusercontent.com/naomifridman/Introduction_to_deep_learning/master/imgs/part1_form1.JPG)\n",
    "\n"
   ]
  },
  {
   "cell_type": "code",
   "execution_count": 1,
   "metadata": {},
   "outputs": [
    {
     "data": {
      "text/plain": [
       "<Figure size 480x160 with 1 Axes>"
      ]
     },
     "metadata": {},
     "output_type": "display_data"
    }
   ],
   "source": [
    "import utils_plot as uplot\n",
    "uplot.drow_binary_threshold()"
   ]
  },
  {
   "cell_type": "markdown",
   "metadata": {},
   "source": [
    "## Learning the Weights and the Bias\n",
    "Now we need to learn the weights and the bias. But we can use a trick, to avoid separate scheme, for learning the bias. \n",
    "![title](https://raw.githubusercontent.com/naomifridman/Introduction_to_deep_learning/master/imgs/part1_form2.JPG)\n",
    "> This way, we can learn the bias as it was part of the weights. "
   ]
  },
  {
   "cell_type": "markdown",
   "metadata": {},
   "source": [
    "## Learning weights\n",
    "### The idea is to go over the samples, and correct/update the weights according to the results on the samples.\n",
    "\n",
    "![title](https://raw.githubusercontent.com/naomifridman/Introduction_to_deep_learning/master/imgs/dl3.jpg)\n",
    "\n",
    "### Update the weights\n",
    "There are many strategies to update the weights, and we will see them later.\n",
    "\n",
    "For demonstration, we will use a basic add/subtract  astrategy"
   ]
  },
  {
   "cell_type": "markdown",
   "metadata": {},
   "source": [
    "\n",
    "### Perceptron Example - Logic OR\n",
    "Lets build a Perceptron, that performs a logic OR:\n"
   ]
  },
  {
   "cell_type": "markdown",
   "metadata": {},
   "source": [
    "X1 | X2 | OR\n",
    "--- | --- | ---\n",
    "*0* | 0 | **0**\n",
    "*1* | 0 | **1**\n",
    "*0* | 1 | **1**\n",
    "*1* | 1 | **1**"
   ]
  },
  {
   "cell_type": "markdown",
   "metadata": {},
   "source": [
    "* $X$ is the input\n",
    "* $w$ are the weights\n",
    "* $X*w$ is the input to the activation function\n",
    "$$z = Xw$$\n",
    "* $\\hat{y}$ is the 0/1 output from activation\n",
    "$$ \\hat{y} = \\begin{cases} 1 & z \\gt  0\\\\ 0 & otherwise \\end{cases}$$"
   ]
  },
  {
   "cell_type": "markdown",
   "metadata": {},
   "source": [
    "\n",
    "The scheme will be to Go over all training cases in any order, and:\n",
    "  * If the output is correct, continue\n",
    "  * If output < label  (increase $w$): $\\to{w} = {w} + {X}_{i}$\n",
    "  * If output > label (decrease $w$): $\\to{w} = {w} - {X}_{i}$"
   ]
  },
  {
   "cell_type": "markdown",
   "metadata": {},
   "source": [
    "## Lets run Simulation of this simple example\n",
    "**epoch:  0**\n",
    "```\n",
    "\n",
    "0 x= [1 0 0]    w= [ 0.  0.  0.]    Wx=  0.0    y= 0 correct no update\n",
    "\n",
    "1 x= [1 1 0]    w= [ 0.  0.  0.]    Wx=  0.0    y= 1 **yhat > y   => W updated: [ 1.  1.  0.]**\n",
    "\n",
    "2 x: [1 0 1]    w= [ 1.  1.  0.]    Wx=  1.0    y= 1 correct no update\n",
    "\n",
    "3 x= [1 1 1]    w= [ 1.  1.  0.]    Wx=  2.0    y= 1 correct no update\n",
    "\n",
    "--------------------------\n",
    "**epoch:  1**\n",
    "\n",
    "0 x: [1 0 0]    w: [ 1.  1.  0.]    Wx=  1.0    y= 0 **yhat > y    => W updated: [ 0.  1.  0.]**\n",
    "\n",
    "1 x: [1 1 0]    w: [ 0.  1.  0.]    Wx=  1.0    y= 1 correct no update\n",
    "\n",
    "2 X: [1 0 1]    w: [ 0.  1.  0.]    Wx=  0.0    y= 1 **yhat < y   => W updated: [ 1.  1.  1.]**\n",
    "\n",
    "3 x: [1 1 1]    w: [ 1.  1.  1.]    Wx=  3.0    y= 1 correct no update\n",
    "\n",
    "--------------------------\n",
    "**epoch:  2**\n",
    "\n",
    "0 x: [1 0 0] w: [ 1.  1.  1.]       Wx=  1.0    y= 0 **yhat < y   => W updated: [ 0.  1.  1.]**\n",
    "\n",
    "1 x: [1 1 0] w: [ 0.  1.  1.]       Wx=  1.0    y= 1 correct no update\n",
    "\n",
    "2 x: [1 0 1] w: [ 0.  1.  1.]       Wx=  1.0    y= 1 correct no update\n",
    "\n",
    "3 x: [1 1 1] w: [ 0.  1.  1.]       Wx=: 2.0   y= 1 correct no update\n",
    "\n",
    "--------------------------\n",
    "**epoch:  3**\n",
    "\n",
    "0 x: [1 0 0] w: [ 0.  1.  1.]       Wx=  0      y= 0 correct no update\n",
    "\n",
    "1 x: [1 1 0] w: [ 0.  1.  1.]       Wx=  1.0    y= 1 correct no update\n",
    "\n",
    "2 x: [1 0 1] w: [ 0.  1.  1.]       Wx=  1.0    y= 1 correct no update\n",
    "\n",
    "3 x: [1 1 1] w: [ 0.  1.  1.]       Wx=: 2.0    y= 1 correct no update\n",
    "\n",
    "```\n",
    "### With W = (0., 1., 1.) the perceptron can solve OR logic gate\n",
    "\n",
    "### Re-train Percepron to Preform logic AND\n",
    "Same perceptron,can learn to perform logic AND, When its trained on the correct data:\n",
    "\n",
    "Bias |X1 | X2 | AND\n",
    "-----|--- | --- | ---\n",
    "1    |*0* | 0 | **0**\n",
    "1    |*1* | 0 | **0**\n",
    "1    |*0* | 1 | **0**\n",
    "1    |*1* | 1 | **1**\n",
    "\n",
    "#### W= (-2.  1.  2.) that solves AND logic gate.\n",
    "\n"
   ]
  },
  {
   "cell_type": "code",
   "execution_count": null,
   "metadata": {},
   "outputs": [],
   "source": []
  }
 ],
 "metadata": {
  "kernelspec": {
   "display_name": "Python 3",
   "language": "python",
   "name": "python3"
  },
  "language_info": {
   "codemirror_mode": {
    "name": "ipython",
    "version": 3
   },
   "file_extension": ".py",
   "mimetype": "text/x-python",
   "name": "python",
   "nbconvert_exporter": "python",
   "pygments_lexer": "ipython3",
   "version": "3.7.3"
  }
 },
 "nbformat": 4,
 "nbformat_minor": 2
}
