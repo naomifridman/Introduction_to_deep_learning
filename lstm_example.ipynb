{
  "nbformat": 4,
  "nbformat_minor": 0,
  "metadata": {
    "colab": {
      "name": "lstm_example.ipynb",
      "provenance": [],
      "include_colab_link": true
    },
    "kernelspec": {
      "name": "python3",
      "display_name": "Python 3"
    }
  },
  "cells": [
    {
      "cell_type": "markdown",
      "metadata": {
        "id": "view-in-github",
        "colab_type": "text"
      },
      "source": [
        "<a href=\"https://colab.research.google.com/github/naomifridman/Introduction_to_deep_learning/blob/master/lstm_example.ipynb\" target=\"_parent\"><img src=\"https://colab.research.google.com/assets/colab-badge.svg\" alt=\"Open In Colab\"/></a>"
      ]
    },
    {
      "cell_type": "code",
      "metadata": {
        "id": "JjpSMAuANfXZ",
        "colab_type": "code",
        "colab": {}
      },
      "source": [
        "#https://github.com/nazmiasri95/LSTM-Keras-S-P500-data/blob/master/LSTM%20S%26P500.ipynb\n",
        "import numpy as np\n",
        "import pandas as pd\n",
        "import re\n",
        "import datetime as dt\n",
        "from os import listdir\n",
        "from os.path import isfile, join\n",
        "import matplotlib.gridspec as gridspec\n",
        "# Internal ipython tool for setting figure size\n",
        "from IPython.core.pylabtools import figsize\n",
        "from IPython.display import display, Markdown, Latex\n",
        "\n",
        "from sklearn.metrics import roc_curve, roc_auc_score\n",
        "from sklearn.ensemble import RandomForestClassifier\n",
        "\n",
        "# Seaborn for visualization\n",
        "import seaborn as sns\n",
        "#sns.set(font_scale = 2)\n",
        "\n",
        "\n",
        "from sklearn.neighbors import KNeighborsClassifier\n",
        "from sklearn.decomposition import PCA\n",
        "from sklearn.feature_selection import VarianceThreshold\n",
        "import matplotlib.pyplot as plt\n",
        "from pandas import read_csv, get_dummies\n",
        "from matplotlib.pyplot import figure\n",
        "from sklearn import svm\n"
      ],
      "execution_count": 0,
      "outputs": []
    },
    {
      "cell_type": "code",
      "metadata": {
        "id": "_gjRkzDcPuDY",
        "colab_type": "code",
        "colab": {}
      },
      "source": [
        "import numpy as np\n",
        "import matplotlib.pyplot as plt\n",
        "import pandas as pd\n",
        "from sklearn.linear_model import LinearRegression\n",
        "from sklearn.metrics import mean_squared_error as MSE\n",
        "from sklearn.model_selection import train_test_split as split\n",
        "\n",
        "import warnings\n",
        "from sys import modules"
      ],
      "execution_count": 0,
      "outputs": []
    },
    {
      "cell_type": "code",
      "metadata": {
        "id": "WCnsbKWU-SMV",
        "colab_type": "code",
        "colab": {
          "base_uri": "https://localhost:8080/",
          "height": 35
        },
        "outputId": "be2a74f1-9c25-493b-a1f2-cacb29c6adcf"
      },
      "source": [
        "from keras.models import Sequential, Model\n",
        "from keras.layers import Dense, Input, Dropout\n",
        "from keras.layers import LSTM\n",
        "from keras.layers import TimeDistributed\n",
        "from keras.layers import Activation\n",
        "from keras.metrics import mse, mae, mape\n",
        "from keras import backend as K\n",
        "from keras import optimizers\n",
        "\n",
        "from sklearn.preprocessing import MinMaxScaler\n",
        "from sklearn.metrics import mean_squared_error\n",
        "from sklearn.model_selection import StratifiedKFold\n",
        "from sklearn import datasets, linear_model\n",
        "from sklearn.model_selection import train_test_split\n",
        "from sklearn.preprocessing import StandardScaler"
      ],
      "execution_count": 11,
      "outputs": [
        {
          "output_type": "stream",
          "text": [
            "Using TensorFlow backend.\n"
          ],
          "name": "stderr"
        }
      ]
    },
    {
      "cell_type": "code",
      "metadata": {
        "id": "YrmcgEw36K-g",
        "colab_type": "code",
        "colab": {
          "base_uri": "https://localhost:8080/",
          "height": 765
        },
        "outputId": "9d4098f5-9208-4277-aeb3-65ce2f13ed93"
      },
      "source": [
        "!pip install quandl"
      ],
      "execution_count": 1,
      "outputs": [
        {
          "output_type": "stream",
          "text": [
            "Collecting quandl\n",
            "  Downloading https://files.pythonhosted.org/packages/12/64/6314547cb01fa75697ddba6d6d43a9f1d023c1730ffc6abf3db7a0c89222/Quandl-3.4.8-py2.py3-none-any.whl\n",
            "Requirement already satisfied: six in /usr/local/lib/python3.6/dist-packages (from quandl) (1.12.0)\n",
            "Requirement already satisfied: python-dateutil in /usr/local/lib/python3.6/dist-packages (from quandl) (2.5.3)\n",
            "Requirement already satisfied: pyasn1 in /usr/local/lib/python3.6/dist-packages (from quandl) (0.4.7)\n",
            "Collecting inflection>=0.3.1 (from quandl)\n",
            "  Downloading https://files.pythonhosted.org/packages/d5/35/a6eb45b4e2356fe688b21570864d4aa0d0a880ce387defe9c589112077f8/inflection-0.3.1.tar.gz\n",
            "Requirement already satisfied: numpy>=1.8 in /usr/local/lib/python3.6/dist-packages (from quandl) (1.16.5)\n",
            "Collecting more-itertools<=5.0.0 (from quandl)\n",
            "\u001b[?25l  Downloading https://files.pythonhosted.org/packages/a4/a6/42f17d065bda1fac255db13afc94c93dbfb64393eae37c749b4cb0752fc7/more_itertools-5.0.0-py3-none-any.whl (52kB)\n",
            "\u001b[K     |████████████████████████████████| 61kB 4.7MB/s \n",
            "\u001b[?25hRequirement already satisfied: requests>=2.7.0 in /usr/local/lib/python3.6/dist-packages (from quandl) (2.21.0)\n",
            "Collecting pyOpenSSL (from quandl)\n",
            "\u001b[?25l  Downloading https://files.pythonhosted.org/packages/01/c8/ceb170d81bd3941cbeb9940fc6cc2ef2ca4288d0ca8929ea4db5905d904d/pyOpenSSL-19.0.0-py2.py3-none-any.whl (53kB)\n",
            "\u001b[K     |████████████████████████████████| 61kB 25.2MB/s \n",
            "\u001b[?25hCollecting ndg-httpsclient (from quandl)\n",
            "  Downloading https://files.pythonhosted.org/packages/fb/67/c2f508c00ed2a6911541494504b7cac16fe0b0473912568df65fd1801132/ndg_httpsclient-0.5.1-py3-none-any.whl\n",
            "Requirement already satisfied: pandas>=0.14 in /usr/local/lib/python3.6/dist-packages (from quandl) (0.24.2)\n",
            "Requirement already satisfied: chardet<3.1.0,>=3.0.2 in /usr/local/lib/python3.6/dist-packages (from requests>=2.7.0->quandl) (3.0.4)\n",
            "Requirement already satisfied: idna<2.9,>=2.5 in /usr/local/lib/python3.6/dist-packages (from requests>=2.7.0->quandl) (2.8)\n",
            "Requirement already satisfied: urllib3<1.25,>=1.21.1 in /usr/local/lib/python3.6/dist-packages (from requests>=2.7.0->quandl) (1.24.3)\n",
            "Requirement already satisfied: certifi>=2017.4.17 in /usr/local/lib/python3.6/dist-packages (from requests>=2.7.0->quandl) (2019.6.16)\n",
            "Collecting cryptography>=2.3 (from pyOpenSSL->quandl)\n",
            "\u001b[?25l  Downloading https://files.pythonhosted.org/packages/97/18/c6557f63a6abde34707196fb2cad1c6dc0dbff25a200d5044922496668a4/cryptography-2.7-cp34-abi3-manylinux1_x86_64.whl (2.3MB)\n",
            "\u001b[K     |████████████████████████████████| 2.3MB 8.3MB/s \n",
            "\u001b[?25hRequirement already satisfied: pytz>=2011k in /usr/local/lib/python3.6/dist-packages (from pandas>=0.14->quandl) (2018.9)\n",
            "Collecting asn1crypto>=0.21.0 (from cryptography>=2.3->pyOpenSSL->quandl)\n",
            "\u001b[?25l  Downloading https://files.pythonhosted.org/packages/ea/cd/35485615f45f30a510576f1a56d1e0a7ad7bd8ab5ed7cdc600ef7cd06222/asn1crypto-0.24.0-py2.py3-none-any.whl (101kB)\n",
            "\u001b[K     |████████████████████████████████| 102kB 34.6MB/s \n",
            "\u001b[?25hRequirement already satisfied: cffi!=1.11.3,>=1.8 in /usr/local/lib/python3.6/dist-packages (from cryptography>=2.3->pyOpenSSL->quandl) (1.12.3)\n",
            "Requirement already satisfied: pycparser in /usr/local/lib/python3.6/dist-packages (from cffi!=1.11.3,>=1.8->cryptography>=2.3->pyOpenSSL->quandl) (2.19)\n",
            "Building wheels for collected packages: inflection\n",
            "  Building wheel for inflection (setup.py) ... \u001b[?25l\u001b[?25hdone\n",
            "  Created wheel for inflection: filename=inflection-0.3.1-cp36-none-any.whl size=6076 sha256=81a57a1db005b255038e85c269c9fa3d465b66cc2c2ef02bd71155ab0ccee81b\n",
            "  Stored in directory: /root/.cache/pip/wheels/9f/5a/d3/6fc3bf6516d2a3eb7e18f9f28b472110b59325f3f258fe9211\n",
            "Successfully built inflection\n",
            "\u001b[31mERROR: datascience 0.10.6 has requirement folium==0.2.1, but you'll have folium 0.8.3 which is incompatible.\u001b[0m\n",
            "Installing collected packages: inflection, more-itertools, asn1crypto, cryptography, pyOpenSSL, ndg-httpsclient, quandl\n",
            "  Found existing installation: more-itertools 7.2.0\n",
            "    Uninstalling more-itertools-7.2.0:\n",
            "      Successfully uninstalled more-itertools-7.2.0\n",
            "Successfully installed asn1crypto-0.24.0 cryptography-2.7 inflection-0.3.1 more-itertools-5.0.0 ndg-httpsclient-0.5.1 pyOpenSSL-19.0.0 quandl-3.4.8\n"
          ],
          "name": "stdout"
        }
      ]
    },
    {
      "cell_type": "code",
      "metadata": {
        "id": "BkULVNxz9fXX",
        "colab_type": "code",
        "colab": {
          "base_uri": "https://localhost:8080/",
          "height": 337
        },
        "outputId": "4bc38085-015d-44c5-a5cf-b5f45032f702"
      },
      "source": [
        "import quandl\n",
        "quandl.ApiConfig.api_key = 'rFsSehe51RLzREtYhLfo'\n",
        "\n",
        "# Retrieve TSLA data from Quandl\n",
        "tesla = quandl.get('WIKI/TSLA')\n",
        "\n",
        "# Retrieve the GM data from Quandl\n",
        "gm = quandl.get('WIKI/GM')\n",
        "gm.head(5)"
      ],
      "execution_count": 2,
      "outputs": [
        {
          "output_type": "execute_result",
          "data": {
            "text/html": [
              "<div>\n",
              "<style scoped>\n",
              "    .dataframe tbody tr th:only-of-type {\n",
              "        vertical-align: middle;\n",
              "    }\n",
              "\n",
              "    .dataframe tbody tr th {\n",
              "        vertical-align: top;\n",
              "    }\n",
              "\n",
              "    .dataframe thead th {\n",
              "        text-align: right;\n",
              "    }\n",
              "</style>\n",
              "<table border=\"1\" class=\"dataframe\">\n",
              "  <thead>\n",
              "    <tr style=\"text-align: right;\">\n",
              "      <th></th>\n",
              "      <th>Open</th>\n",
              "      <th>High</th>\n",
              "      <th>Low</th>\n",
              "      <th>Close</th>\n",
              "      <th>Volume</th>\n",
              "      <th>Ex-Dividend</th>\n",
              "      <th>Split Ratio</th>\n",
              "      <th>Adj. Open</th>\n",
              "      <th>Adj. High</th>\n",
              "      <th>Adj. Low</th>\n",
              "      <th>Adj. Close</th>\n",
              "      <th>Adj. Volume</th>\n",
              "    </tr>\n",
              "    <tr>\n",
              "      <th>Date</th>\n",
              "      <th></th>\n",
              "      <th></th>\n",
              "      <th></th>\n",
              "      <th></th>\n",
              "      <th></th>\n",
              "      <th></th>\n",
              "      <th></th>\n",
              "      <th></th>\n",
              "      <th></th>\n",
              "      <th></th>\n",
              "      <th></th>\n",
              "      <th></th>\n",
              "    </tr>\n",
              "  </thead>\n",
              "  <tbody>\n",
              "    <tr>\n",
              "      <th>2010-11-18</th>\n",
              "      <td>35.00</td>\n",
              "      <td>35.99</td>\n",
              "      <td>33.89</td>\n",
              "      <td>34.19</td>\n",
              "      <td>457044300.0</td>\n",
              "      <td>0.0</td>\n",
              "      <td>1.0</td>\n",
              "      <td>29.988317</td>\n",
              "      <td>30.836558</td>\n",
              "      <td>29.037259</td>\n",
              "      <td>29.294302</td>\n",
              "      <td>457044300.0</td>\n",
              "    </tr>\n",
              "    <tr>\n",
              "      <th>2010-11-19</th>\n",
              "      <td>34.15</td>\n",
              "      <td>34.50</td>\n",
              "      <td>33.11</td>\n",
              "      <td>34.26</td>\n",
              "      <td>107842000.0</td>\n",
              "      <td>0.0</td>\n",
              "      <td>1.0</td>\n",
              "      <td>29.260029</td>\n",
              "      <td>29.559912</td>\n",
              "      <td>28.368948</td>\n",
              "      <td>29.354278</td>\n",
              "      <td>107842000.0</td>\n",
              "    </tr>\n",
              "    <tr>\n",
              "      <th>2010-11-22</th>\n",
              "      <td>34.20</td>\n",
              "      <td>34.48</td>\n",
              "      <td>33.81</td>\n",
              "      <td>34.08</td>\n",
              "      <td>36650600.0</td>\n",
              "      <td>0.0</td>\n",
              "      <td>1.0</td>\n",
              "      <td>29.302870</td>\n",
              "      <td>29.542776</td>\n",
              "      <td>28.968714</td>\n",
              "      <td>29.200053</td>\n",
              "      <td>36650600.0</td>\n",
              "    </tr>\n",
              "    <tr>\n",
              "      <th>2010-11-23</th>\n",
              "      <td>33.95</td>\n",
              "      <td>33.99</td>\n",
              "      <td>33.19</td>\n",
              "      <td>33.25</td>\n",
              "      <td>31170200.0</td>\n",
              "      <td>0.0</td>\n",
              "      <td>1.0</td>\n",
              "      <td>29.088668</td>\n",
              "      <td>29.122940</td>\n",
              "      <td>28.437493</td>\n",
              "      <td>28.488901</td>\n",
              "      <td>31170200.0</td>\n",
              "    </tr>\n",
              "    <tr>\n",
              "      <th>2010-11-24</th>\n",
              "      <td>33.73</td>\n",
              "      <td>33.80</td>\n",
              "      <td>33.22</td>\n",
              "      <td>33.48</td>\n",
              "      <td>26138000.0</td>\n",
              "      <td>0.0</td>\n",
              "      <td>1.0</td>\n",
              "      <td>28.900170</td>\n",
              "      <td>28.960146</td>\n",
              "      <td>28.463197</td>\n",
              "      <td>28.685967</td>\n",
              "      <td>26138000.0</td>\n",
              "    </tr>\n",
              "  </tbody>\n",
              "</table>\n",
              "</div>"
            ],
            "text/plain": [
              "             Open   High    Low  ...   Adj. Low  Adj. Close  Adj. Volume\n",
              "Date                             ...                                    \n",
              "2010-11-18  35.00  35.99  33.89  ...  29.037259   29.294302  457044300.0\n",
              "2010-11-19  34.15  34.50  33.11  ...  28.368948   29.354278  107842000.0\n",
              "2010-11-22  34.20  34.48  33.81  ...  28.968714   29.200053   36650600.0\n",
              "2010-11-23  33.95  33.99  33.19  ...  28.437493   28.488901   31170200.0\n",
              "2010-11-24  33.73  33.80  33.22  ...  28.463197   28.685967   26138000.0\n",
              "\n",
              "[5 rows x 12 columns]"
            ]
          },
          "metadata": {
            "tags": []
          },
          "execution_count": 2
        }
      ]
    },
    {
      "cell_type": "code",
      "metadata": {
        "id": "gaugUaHY9mh1",
        "colab_type": "code",
        "colab": {
          "base_uri": "https://localhost:8080/",
          "height": 669
        },
        "outputId": "55183562-825a-4d33-b4f9-ab2ef7bc65ec"
      },
      "source": [
        "# The adjusted close accounts for stock splits, so that is what we should graph\n",
        "plt.plot(gm.index, gm['Adj. Close'])\n",
        "plt.title('GM Stock Price')\n",
        "plt.ylabel('Price ($)');\n",
        "plt.show()\n",
        "\n",
        "plt.plot(tesla.index, tesla['Adj. Close'], 'r')\n",
        "plt.title('Tesla Stock Price')\n",
        "plt.ylabel('Price ($)');\n",
        "plt.show();"
      ],
      "execution_count": 5,
      "outputs": [
        {
          "output_type": "stream",
          "text": [
            "/usr/local/lib/python3.6/dist-packages/pandas/plotting/_converter.py:129: FutureWarning: Using an implicitly registered datetime converter for a matplotlib plotting method. The converter was registered by pandas on import. Future versions of pandas will require you to explicitly register matplotlib converters.\n",
            "\n",
            "To register the converters:\n",
            "\t>>> from pandas.plotting import register_matplotlib_converters\n",
            "\t>>> register_matplotlib_converters()\n",
            "  warnings.warn(msg, FutureWarning)\n"
          ],
          "name": "stderr"
        },
        {
          "output_type": "display_data",
          "data": {
            "image/png": "[encoded data removed]",
            "text/plain": [
              "<Figure size 432x288 with 1 Axes>"
            ]
          },
          "metadata": {
            "tags": []
          }
        },
        {
          "output_type": "display_data",
          "data": {
            "image/png": "[encoded data removed]",
            "text/plain": [
              "<Figure size 432x288 with 1 Axes>"
            ]
          },
          "metadata": {
            "tags": []
          }
        }
      ]
    },
    {
      "cell_type": "code",
      "metadata": {
        "id": "jGAy_Ecm9np1",
        "colab_type": "code",
        "colab": {}
      },
      "source": [
        ""
      ],
      "execution_count": 0,
      "outputs": []
    },
    {
      "cell_type": "markdown",
      "metadata": {
        "id": "ijp0txPg_M7W",
        "colab_type": "text"
      },
      "source": [
        "### From here"
      ]
    },
    {
      "cell_type": "code",
      "metadata": {
        "id": "pz9AW7XmQofe",
        "colab_type": "code",
        "outputId": "9c03a747-599f-4599-d3df-f7834156405d",
        "colab": {
          "resources": {
            "http://localhost:8080/nbextensions/google.colab/files.js": {
              "data": "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",
              "ok": true,
              "headers": [
                [
                  "content-type",
                  "application/javascript"
                ]
              ],
              "status": 200,
              "status_text": ""
            }
          },
          "base_uri": "https://localhost:8080/",
          "height": 75
        }
      },
      "source": [
        "from google.colab import files\n",
        "uploaded = files.upload()\n"
      ],
      "execution_count": 7,
      "outputs": [
        {
          "output_type": "display_data",
          "data": {
            "text/html": [
              "\n",
              "     <input type=\"file\" id=\"files-8ee76f06-756e-4f06-97c9-dd5f430131b5\" name=\"files[]\" multiple disabled />\n",
              "     <output id=\"result-8ee76f06-756e-4f06-97c9-dd5f430131b5\">\n",
              "      Upload widget is only available when the cell has been executed in the\n",
              "      current browser session. Please rerun this cell to enable.\n",
              "      </output>\n",
              "      <script src=\"/nbextensions/google.colab/files.js\"></script> "
            ],
            "text/plain": [
              "<IPython.core.display.HTML object>"
            ]
          },
          "metadata": {
            "tags": []
          }
        },
        {
          "output_type": "stream",
          "text": [
            "Saving sp500.csv to sp500.csv\n"
          ],
          "name": "stdout"
        }
      ]
    },
    {
      "cell_type": "code",
      "metadata": {
        "id": "R_YhiWdUP5wc",
        "colab_type": "code",
        "colab": {}
      },
      "source": [
        "df=pd.read_csv('sp500.csv')"
      ],
      "execution_count": 0,
      "outputs": []
    },
    {
      "cell_type": "code",
      "metadata": {
        "id": "B_jlPZD8-F3N",
        "colab_type": "code",
        "colab": {
          "base_uri": "https://localhost:8080/",
          "height": 269
        },
        "outputId": "8d0021fc-2fb5-430f-c103-dbb63b0513ec"
      },
      "source": [
        "# Plot baseline and predictions\n",
        "%matplotlib inline\n",
        "\n",
        "# Normalize the data\n",
        "scaler = MinMaxScaler(feature_range=(0, 1))\n",
        "close_dataset_norm = scaler.fit_transform(df)\n",
        "\n",
        "plt.plot(close_dataset_norm, color='b')\n",
        "plt.show()"
      ],
      "execution_count": 15,
      "outputs": [
        {
          "output_type": "display_data",
          "data": {
            "image/png": "[encoded data removed]",
            "text/plain": [
              "<Figure size 432x288 with 1 Axes>"
            ]
          },
          "metadata": {
            "tags": []
          }
        }
      ]
    },
    {
      "cell_type": "code",
      "metadata": {
        "id": "dIIaYqmp-jVd",
        "colab_type": "code",
        "colab": {}
      },
      "source": [
        "# Convert an array of values into a dataset matrix\n",
        "def create_dataset(dataset, look_back=1):\n",
        "\tdataX, dataY = [], []\n",
        "\tfor i in range(len(dataset)-look_back-1):\n",
        "\t\ta = dataset[i:(i+look_back), 0]\n",
        "\t\tdataX.append(a)\n",
        "\t\tdataY.append(dataset[i + look_back, 0])\n",
        "\treturn np.array(dataX), np.array(dataY)"
      ],
      "execution_count": 0,
      "outputs": []
    },
    {
      "cell_type": "code",
      "metadata": {
        "id": "kaTsGTwd-nu-",
        "colab_type": "code",
        "colab": {}
      },
      "source": [
        "def mean_squared_error(y_true, y_pred):\n",
        "    return K.mean(K.square(y_pred - y_true), axis=-1)"
      ],
      "execution_count": 0,
      "outputs": []
    },
    {
      "cell_type": "code",
      "metadata": {
        "id": "gq2t4NMO-sKm",
        "colab_type": "code",
        "colab": {}
      },
      "source": [
        "# Hyperparameter\n",
        "look_back = 10 # No of prev input used to predict next value\n",
        "time_steps = 100 # No of time steps future prediction(s)\n",
        "training_percent = 0.70"
      ],
      "execution_count": 0,
      "outputs": []
    },
    {
      "cell_type": "code",
      "metadata": {
        "id": "bhi8_-Vw-ubW",
        "colab_type": "code",
        "colab": {
          "base_uri": "https://localhost:8080/",
          "height": 52
        },
        "outputId": "212bbe74-3fb3-434e-8347-cc372879b62e"
      },
      "source": [
        "# Split into train and test sets (Training: 70%, Test: 30%)\n",
        "train_size = int(len(close_dataset_norm) * training_percent)\n",
        "test_size = len(close_dataset_norm) - train_size\n",
        "train, test = close_dataset_norm[0:train_size,:], close_dataset_norm[train_size:len(close_dataset_norm),:]\n",
        "print(\"Training datasets: \", len(train), \", Test datasets: \", len(test))\n",
        "print(\"Training sets percentage (%):\", float(training_percent)*100, \", Test sets percentage (%):\", 100-float(training_percent)*100)"
      ],
      "execution_count": 19,
      "outputs": [
        {
          "output_type": "stream",
          "text": [
            "Training datasets:  2919 , Test datasets:  1251\n",
            "Training sets percentage (%): 70.0 , Test sets percentage (%): 30.0\n"
          ],
          "name": "stdout"
        }
      ]
    },
    {
      "cell_type": "code",
      "metadata": {
        "id": "YckTDjbx-3-3",
        "colab_type": "code",
        "colab": {}
      },
      "source": [
        "# Reshape into X=t and Y=t+loop_back\n",
        "trainX, trainY = create_dataset(train, look_back)\n",
        "testX, testY = create_dataset(test, look_back)"
      ],
      "execution_count": 0,
      "outputs": []
    },
    {
      "cell_type": "markdown",
      "metadata": {
        "id": "Xp4ybf0P_Wn6",
        "colab_type": "text"
      },
      "source": [
        "## LSTM"
      ]
    },
    {
      "cell_type": "code",
      "metadata": {
        "id": "KTUVpWdz_Vuu",
        "colab_type": "code",
        "colab": {
          "base_uri": "https://localhost:8080/",
          "height": 1000
        },
        "outputId": "4dcb58fa-067b-42fc-d760-f54e31b27564"
      },
      "source": [
        "# Create and fit the LSTM network\n",
        "# Optimizers: sgd, rmsprop, adagrad, adadelta, adam, adamax, tfoptimizer, nadam\n",
        "model = Sequential()\n",
        "model.add(LSTM(128, input_shape=(1, look_back))) # , return_sequences=True\n",
        "model.add(Dense(1))\n",
        "model.compile(loss='mean_squared_error', optimizer='adamax', metrics=['mae','mse','mape'])\n",
        "model_history = model.fit(trainX, trainY, epochs=200, batch_size=100, verbose=1, \n",
        "                          validation_data=(testX,testY))"
      ],
      "execution_count": 26,
      "outputs": [
        {
          "output_type": "stream",
          "text": [
            "Train on 2908 samples, validate on 1240 samples\n",
            "Epoch 1/200\n",
            "2908/2908 [==============================] - 1s 346us/step - loss: 0.0230 - mean_absolute_error: 0.1099 - mean_squared_error: 0.0230 - mean_absolute_percentage_error: 41370.4222 - val_loss: 8.8791e-04 - val_mean_absolute_error: 0.0248 - val_mean_squared_error: 8.8791e-04 - val_mean_absolute_percentage_error: 3.6617\n",
            "Epoch 2/200\n",
            "2908/2908 [==============================] - 0s 61us/step - loss: 0.0010 - mean_absolute_error: 0.0256 - mean_squared_error: 0.0010 - mean_absolute_percentage_error: 31945.2753 - val_loss: 0.0054 - val_mean_absolute_error: 0.0643 - val_mean_squared_error: 0.0054 - val_mean_absolute_percentage_error: 8.2698\n",
            "Epoch 3/200\n",
            "2908/2908 [==============================] - 0s 67us/step - loss: 7.2217e-04 - mean_absolute_error: 0.0204 - mean_squared_error: 7.2217e-04 - mean_absolute_percentage_error: 32155.8547 - val_loss: 0.0041 - val_mean_absolute_error: 0.0558 - val_mean_squared_error: 0.0041 - val_mean_absolute_percentage_error: 7.2363\n",
            "Epoch 4/200\n",
            "2908/2908 [==============================] - 0s 62us/step - loss: 6.1123e-04 - mean_absolute_error: 0.0186 - mean_squared_error: 6.1123e-04 - mean_absolute_percentage_error: 28755.8031 - val_loss: 0.0024 - val_mean_absolute_error: 0.0420 - val_mean_squared_error: 0.0024 - val_mean_absolute_percentage_error: 5.5101\n",
            "Epoch 5/200\n",
            "2908/2908 [==============================] - 0s 62us/step - loss: 5.2880e-04 - mean_absolute_error: 0.0171 - mean_squared_error: 5.2880e-04 - mean_absolute_percentage_error: 27482.1992 - val_loss: 0.0019 - val_mean_absolute_error: 0.0378 - val_mean_squared_error: 0.0019 - val_mean_absolute_percentage_error: 5.0456\n",
            "Epoch 6/200\n",
            "2908/2908 [==============================] - 0s 64us/step - loss: 4.6558e-04 - mean_absolute_error: 0.0159 - mean_squared_error: 4.6558e-04 - mean_absolute_percentage_error: 26617.3438 - val_loss: 0.0012 - val_mean_absolute_error: 0.0303 - val_mean_squared_error: 0.0012 - val_mean_absolute_percentage_error: 4.1316\n",
            "Epoch 7/200\n",
            "2908/2908 [==============================] - 0s 59us/step - loss: 4.1537e-04 - mean_absolute_error: 0.0150 - mean_squared_error: 4.1537e-04 - mean_absolute_percentage_error: 24534.5487 - val_loss: 8.0396e-04 - val_mean_absolute_error: 0.0243 - val_mean_squared_error: 8.0396e-04 - val_mean_absolute_percentage_error: 3.4111\n",
            "Epoch 8/200\n",
            "2908/2908 [==============================] - 0s 63us/step - loss: 3.7708e-04 - mean_absolute_error: 0.0142 - mean_squared_error: 3.7708e-04 - mean_absolute_percentage_error: 22925.1123 - val_loss: 5.8183e-04 - val_mean_absolute_error: 0.0204 - val_mean_squared_error: 5.8183e-04 - val_mean_absolute_percentage_error: 2.9518\n",
            "Epoch 9/200\n",
            "2908/2908 [==============================] - 0s 66us/step - loss: 3.4809e-04 - mean_absolute_error: 0.0136 - mean_squared_error: 3.4809e-04 - mean_absolute_percentage_error: 22808.9499 - val_loss: 4.2368e-04 - val_mean_absolute_error: 0.0170 - val_mean_squared_error: 4.2368e-04 - val_mean_absolute_percentage_error: 2.5401\n",
            "Epoch 10/200\n",
            "2908/2908 [==============================] - 0s 60us/step - loss: 3.2512e-04 - mean_absolute_error: 0.0132 - mean_squared_error: 3.2512e-04 - mean_absolute_percentage_error: 21352.0035 - val_loss: 3.5787e-04 - val_mean_absolute_error: 0.0152 - val_mean_squared_error: 3.5787e-04 - val_mean_absolute_percentage_error: 2.3237\n",
            "Epoch 11/200\n",
            "2908/2908 [==============================] - 0s 62us/step - loss: 3.0807e-04 - mean_absolute_error: 0.0128 - mean_squared_error: 3.0807e-04 - mean_absolute_percentage_error: 20591.1607 - val_loss: 3.3354e-04 - val_mean_absolute_error: 0.0140 - val_mean_squared_error: 3.3354e-04 - val_mean_absolute_percentage_error: 2.1628\n",
            "Epoch 12/200\n",
            "2908/2908 [==============================] - 0s 62us/step - loss: 2.9447e-04 - mean_absolute_error: 0.0126 - mean_squared_error: 2.9447e-04 - mean_absolute_percentage_error: 19852.5798 - val_loss: 3.5537e-04 - val_mean_absolute_error: 0.0142 - val_mean_squared_error: 3.5537e-04 - val_mean_absolute_percentage_error: 2.1757\n",
            "Epoch 13/200\n",
            "2908/2908 [==============================] - 0s 63us/step - loss: 2.8479e-04 - mean_absolute_error: 0.0124 - mean_squared_error: 2.8479e-04 - mean_absolute_percentage_error: 18961.9910 - val_loss: 3.9208e-04 - val_mean_absolute_error: 0.0149 - val_mean_squared_error: 3.9208e-04 - val_mean_absolute_percentage_error: 2.2473\n",
            "Epoch 14/200\n",
            "2908/2908 [==============================] - 0s 66us/step - loss: 2.7731e-04 - mean_absolute_error: 0.0123 - mean_squared_error: 2.7731e-04 - mean_absolute_percentage_error: 18406.3142 - val_loss: 4.6911e-04 - val_mean_absolute_error: 0.0162 - val_mean_squared_error: 4.6911e-04 - val_mean_absolute_percentage_error: 2.3815\n",
            "Epoch 15/200\n",
            "2908/2908 [==============================] - 0s 68us/step - loss: 2.7199e-04 - mean_absolute_error: 0.0122 - mean_squared_error: 2.7199e-04 - mean_absolute_percentage_error: 17449.9251 - val_loss: 4.9885e-04 - val_mean_absolute_error: 0.0168 - val_mean_squared_error: 4.9885e-04 - val_mean_absolute_percentage_error: 2.4523\n",
            "Epoch 16/200\n",
            "2908/2908 [==============================] - 0s 66us/step - loss: 2.6817e-04 - mean_absolute_error: 0.0122 - mean_squared_error: 2.6817e-04 - mean_absolute_percentage_error: 17104.1889 - val_loss: 6.0279e-04 - val_mean_absolute_error: 0.0185 - val_mean_squared_error: 6.0279e-04 - val_mean_absolute_percentage_error: 2.6275\n",
            "Epoch 17/200\n",
            "2908/2908 [==============================] - 0s 67us/step - loss: 2.6585e-04 - mean_absolute_error: 0.0121 - mean_squared_error: 2.6585e-04 - mean_absolute_percentage_error: 16748.3104 - val_loss: 6.4437e-04 - val_mean_absolute_error: 0.0192 - val_mean_squared_error: 6.4437e-04 - val_mean_absolute_percentage_error: 2.7055\n",
            "Epoch 18/200\n",
            "2908/2908 [==============================] - 0s 62us/step - loss: 2.6328e-04 - mean_absolute_error: 0.0121 - mean_squared_error: 2.6328e-04 - mean_absolute_percentage_error: 16536.8890 - val_loss: 6.3648e-04 - val_mean_absolute_error: 0.0191 - val_mean_squared_error: 6.3648e-04 - val_mean_absolute_percentage_error: 2.7070\n",
            "Epoch 19/200\n",
            "2908/2908 [==============================] - 0s 62us/step - loss: 2.6221e-04 - mean_absolute_error: 0.0121 - mean_squared_error: 2.6221e-04 - mean_absolute_percentage_error: 16144.1879 - val_loss: 6.6069e-04 - val_mean_absolute_error: 0.0195 - val_mean_squared_error: 6.6069e-04 - val_mean_absolute_percentage_error: 2.7515\n",
            "Epoch 20/200\n",
            "2908/2908 [==============================] - 0s 63us/step - loss: 2.6470e-04 - mean_absolute_error: 0.0122 - mean_squared_error: 2.6470e-04 - mean_absolute_percentage_error: 15993.4892 - val_loss: 6.4647e-04 - val_mean_absolute_error: 0.0194 - val_mean_squared_error: 6.4647e-04 - val_mean_absolute_percentage_error: 2.7356\n",
            "Epoch 21/200\n",
            "2908/2908 [==============================] - 0s 62us/step - loss: 2.5989e-04 - mean_absolute_error: 0.0121 - mean_squared_error: 2.5989e-04 - mean_absolute_percentage_error: 15697.6680 - val_loss: 7.7282e-04 - val_mean_absolute_error: 0.0213 - val_mean_squared_error: 7.7282e-04 - val_mean_absolute_percentage_error: 2.9332\n",
            "Epoch 22/200\n",
            "2908/2908 [==============================] - 0s 61us/step - loss: 2.5724e-04 - mean_absolute_error: 0.0120 - mean_squared_error: 2.5724e-04 - mean_absolute_percentage_error: 15539.9158 - val_loss: 7.3739e-04 - val_mean_absolute_error: 0.0208 - val_mean_squared_error: 7.3739e-04 - val_mean_absolute_percentage_error: 2.8805\n",
            "Epoch 23/200\n",
            "2908/2908 [==============================] - 0s 62us/step - loss: 2.5613e-04 - mean_absolute_error: 0.0120 - mean_squared_error: 2.5613e-04 - mean_absolute_percentage_error: 15349.9170 - val_loss: 7.6845e-04 - val_mean_absolute_error: 0.0212 - val_mean_squared_error: 7.6845e-04 - val_mean_absolute_percentage_error: 2.9300\n",
            "Epoch 24/200\n",
            "2908/2908 [==============================] - 0s 62us/step - loss: 2.5570e-04 - mean_absolute_error: 0.0120 - mean_squared_error: 2.5570e-04 - mean_absolute_percentage_error: 15147.7806 - val_loss: 7.9453e-04 - val_mean_absolute_error: 0.0216 - val_mean_squared_error: 7.9453e-04 - val_mean_absolute_percentage_error: 2.9687\n",
            "Epoch 25/200\n",
            "2908/2908 [==============================] - 0s 62us/step - loss: 2.5406e-04 - mean_absolute_error: 0.0119 - mean_squared_error: 2.5406e-04 - mean_absolute_percentage_error: 15032.6823 - val_loss: 8.4707e-04 - val_mean_absolute_error: 0.0223 - val_mean_squared_error: 8.4707e-04 - val_mean_absolute_percentage_error: 3.0486\n",
            "Epoch 26/200\n",
            "2908/2908 [==============================] - 0s 61us/step - loss: 2.5281e-04 - mean_absolute_error: 0.0119 - mean_squared_error: 2.5281e-04 - mean_absolute_percentage_error: 14978.2696 - val_loss: 8.3178e-04 - val_mean_absolute_error: 0.0221 - val_mean_squared_error: 8.3178e-04 - val_mean_absolute_percentage_error: 3.0265\n",
            "Epoch 27/200\n",
            "2908/2908 [==============================] - 0s 63us/step - loss: 2.5169e-04 - mean_absolute_error: 0.0119 - mean_squared_error: 2.5169e-04 - mean_absolute_percentage_error: 14802.2814 - val_loss: 8.6776e-04 - val_mean_absolute_error: 0.0226 - val_mean_squared_error: 8.6776e-04 - val_mean_absolute_percentage_error: 3.0789\n",
            "Epoch 28/200\n",
            "2908/2908 [==============================] - 0s 63us/step - loss: 2.5118e-04 - mean_absolute_error: 0.0118 - mean_squared_error: 2.5118e-04 - mean_absolute_percentage_error: 14752.1536 - val_loss: 8.1747e-04 - val_mean_absolute_error: 0.0219 - val_mean_squared_error: 8.1747e-04 - val_mean_absolute_percentage_error: 3.0019\n",
            "Epoch 29/200\n",
            "2908/2908 [==============================] - 0s 62us/step - loss: 2.4976e-04 - mean_absolute_error: 0.0118 - mean_squared_error: 2.4976e-04 - mean_absolute_percentage_error: 14745.5141 - val_loss: 8.4704e-04 - val_mean_absolute_error: 0.0224 - val_mean_squared_error: 8.4704e-04 - val_mean_absolute_percentage_error: 3.0443\n",
            "Epoch 30/200\n",
            "2908/2908 [==============================] - 0s 61us/step - loss: 2.4885e-04 - mean_absolute_error: 0.0118 - mean_squared_error: 2.4885e-04 - mean_absolute_percentage_error: 14502.2484 - val_loss: 8.1995e-04 - val_mean_absolute_error: 0.0220 - val_mean_squared_error: 8.1995e-04 - val_mean_absolute_percentage_error: 3.0022\n",
            "Epoch 31/200\n",
            "2908/2908 [==============================] - 0s 62us/step - loss: 2.4803e-04 - mean_absolute_error: 0.0118 - mean_squared_error: 2.4803e-04 - mean_absolute_percentage_error: 14316.9876 - val_loss: 8.3764e-04 - val_mean_absolute_error: 0.0222 - val_mean_squared_error: 8.3764e-04 - val_mean_absolute_percentage_error: 3.0286\n",
            "Epoch 32/200\n",
            "2908/2908 [==============================] - 0s 63us/step - loss: 2.4665e-04 - mean_absolute_error: 0.0117 - mean_squared_error: 2.4665e-04 - mean_absolute_percentage_error: 14472.4794 - val_loss: 7.4990e-04 - val_mean_absolute_error: 0.0210 - val_mean_squared_error: 7.4990e-04 - val_mean_absolute_percentage_error: 2.8882\n",
            "Epoch 33/200\n",
            "2908/2908 [==============================] - 0s 61us/step - loss: 2.4570e-04 - mean_absolute_error: 0.0118 - mean_squared_error: 2.4570e-04 - mean_absolute_percentage_error: 14343.8241 - val_loss: 6.8862e-04 - val_mean_absolute_error: 0.0200 - val_mean_squared_error: 6.8862e-04 - val_mean_absolute_percentage_error: 2.7883\n",
            "Epoch 34/200\n",
            "2908/2908 [==============================] - 0s 62us/step - loss: 2.4537e-04 - mean_absolute_error: 0.0118 - mean_squared_error: 2.4537e-04 - mean_absolute_percentage_error: 14416.4361 - val_loss: 5.8891e-04 - val_mean_absolute_error: 0.0184 - val_mean_squared_error: 5.8891e-04 - val_mean_absolute_percentage_error: 2.6196\n",
            "Epoch 35/200\n",
            "2908/2908 [==============================] - 0s 61us/step - loss: 2.4236e-04 - mean_absolute_error: 0.0116 - mean_squared_error: 2.4236e-04 - mean_absolute_percentage_error: 14193.4380 - val_loss: 6.6966e-04 - val_mean_absolute_error: 0.0197 - val_mean_squared_error: 6.6966e-04 - val_mean_absolute_percentage_error: 2.7486\n",
            "Epoch 36/200\n",
            "2908/2908 [==============================] - 0s 62us/step - loss: 2.4128e-04 - mean_absolute_error: 0.0116 - mean_squared_error: 2.4128e-04 - mean_absolute_percentage_error: 14117.8452 - val_loss: 7.0272e-04 - val_mean_absolute_error: 0.0202 - val_mean_squared_error: 7.0272e-04 - val_mean_absolute_percentage_error: 2.8000\n",
            "Epoch 37/200\n",
            "2908/2908 [==============================] - 0s 61us/step - loss: 2.4033e-04 - mean_absolute_error: 0.0116 - mean_squared_error: 2.4033e-04 - mean_absolute_percentage_error: 14119.0114 - val_loss: 7.3185e-04 - val_mean_absolute_error: 0.0207 - val_mean_squared_error: 7.3185e-04 - val_mean_absolute_percentage_error: 2.8473\n",
            "Epoch 38/200\n",
            "2908/2908 [==============================] - 0s 62us/step - loss: 2.3876e-04 - mean_absolute_error: 0.0116 - mean_squared_error: 2.3876e-04 - mean_absolute_percentage_error: 13903.1120 - val_loss: 7.4573e-04 - val_mean_absolute_error: 0.0209 - val_mean_squared_error: 7.4573e-04 - val_mean_absolute_percentage_error: 2.8691\n",
            "Epoch 39/200\n",
            "2908/2908 [==============================] - 0s 63us/step - loss: 2.3717e-04 - mean_absolute_error: 0.0115 - mean_squared_error: 2.3717e-04 - mean_absolute_percentage_error: 13915.3967 - val_loss: 5.9334e-04 - val_mean_absolute_error: 0.0185 - val_mean_squared_error: 5.9334e-04 - val_mean_absolute_percentage_error: 2.6117\n",
            "Epoch 40/200\n",
            "2908/2908 [==============================] - 0s 61us/step - loss: 2.3760e-04 - mean_absolute_error: 0.0116 - mean_squared_error: 2.3760e-04 - mean_absolute_percentage_error: 13508.0616 - val_loss: 6.7001e-04 - val_mean_absolute_error: 0.0197 - val_mean_squared_error: 6.7001e-04 - val_mean_absolute_percentage_error: 2.7381\n",
            "Epoch 41/200\n",
            "2908/2908 [==============================] - 0s 62us/step - loss: 2.3501e-04 - mean_absolute_error: 0.0114 - mean_squared_error: 2.3501e-04 - mean_absolute_percentage_error: 13492.9690 - val_loss: 6.1060e-04 - val_mean_absolute_error: 0.0188 - val_mean_squared_error: 6.1060e-04 - val_mean_absolute_percentage_error: 2.6324\n",
            "Epoch 42/200\n",
            "2908/2908 [==============================] - 0s 62us/step - loss: 2.3283e-04 - mean_absolute_error: 0.0114 - mean_squared_error: 2.3283e-04 - mean_absolute_percentage_error: 13500.4357 - val_loss: 5.8384e-04 - val_mean_absolute_error: 0.0183 - val_mean_squared_error: 5.8384e-04 - val_mean_absolute_percentage_error: 2.5832\n",
            "Epoch 43/200\n",
            "2908/2908 [==============================] - 0s 62us/step - loss: 2.3179e-04 - mean_absolute_error: 0.0114 - mean_squared_error: 2.3179e-04 - mean_absolute_percentage_error: 13376.5099 - val_loss: 6.7388e-04 - val_mean_absolute_error: 0.0198 - val_mean_squared_error: 6.7388e-04 - val_mean_absolute_percentage_error: 2.7374\n",
            "Epoch 44/200\n",
            "2908/2908 [==============================] - 0s 61us/step - loss: 2.3094e-04 - mean_absolute_error: 0.0113 - mean_squared_error: 2.3094e-04 - mean_absolute_percentage_error: 13196.1263 - val_loss: 6.3813e-04 - val_mean_absolute_error: 0.0192 - val_mean_squared_error: 6.3813e-04 - val_mean_absolute_percentage_error: 2.6721\n",
            "Epoch 45/200\n",
            "2908/2908 [==============================] - 0s 64us/step - loss: 2.2854e-04 - mean_absolute_error: 0.0113 - mean_squared_error: 2.2854e-04 - mean_absolute_percentage_error: 13102.2149 - val_loss: 6.0415e-04 - val_mean_absolute_error: 0.0187 - val_mean_squared_error: 6.0415e-04 - val_mean_absolute_percentage_error: 2.6087\n",
            "Epoch 46/200\n",
            "2908/2908 [==============================] - 0s 64us/step - loss: 2.2913e-04 - mean_absolute_error: 0.0113 - mean_squared_error: 2.2913e-04 - mean_absolute_percentage_error: 13139.3132 - val_loss: 5.8622e-04 - val_mean_absolute_error: 0.0184 - val_mean_squared_error: 5.8622e-04 - val_mean_absolute_percentage_error: 2.5708\n",
            "Epoch 47/200\n",
            "2908/2908 [==============================] - 0s 63us/step - loss: 2.2524e-04 - mean_absolute_error: 0.0112 - mean_squared_error: 2.2524e-04 - mean_absolute_percentage_error: 12834.5126 - val_loss: 6.2869e-04 - val_mean_absolute_error: 0.0191 - val_mean_squared_error: 6.2869e-04 - val_mean_absolute_percentage_error: 2.6483\n",
            "Epoch 48/200\n",
            "2908/2908 [==============================] - 0s 62us/step - loss: 2.2498e-04 - mean_absolute_error: 0.0112 - mean_squared_error: 2.2498e-04 - mean_absolute_percentage_error: 12949.6132 - val_loss: 5.8894e-04 - val_mean_absolute_error: 0.0184 - val_mean_squared_error: 5.8894e-04 - val_mean_absolute_percentage_error: 2.5717\n",
            "Epoch 49/200\n",
            "2908/2908 [==============================] - 0s 62us/step - loss: 2.2406e-04 - mean_absolute_error: 0.0111 - mean_squared_error: 2.2406e-04 - mean_absolute_percentage_error: 12807.6556 - val_loss: 4.3066e-04 - val_mean_absolute_error: 0.0156 - val_mean_squared_error: 4.3066e-04 - val_mean_absolute_percentage_error: 2.2721\n",
            "Epoch 50/200\n",
            "2908/2908 [==============================] - 0s 62us/step - loss: 2.2296e-04 - mean_absolute_error: 0.0112 - mean_squared_error: 2.2296e-04 - mean_absolute_percentage_error: 12780.4093 - val_loss: 4.2798e-04 - val_mean_absolute_error: 0.0155 - val_mean_squared_error: 4.2798e-04 - val_mean_absolute_percentage_error: 2.2592\n",
            "Epoch 51/200\n",
            "2908/2908 [==============================] - 0s 66us/step - loss: 2.1976e-04 - mean_absolute_error: 0.0111 - mean_squared_error: 2.1976e-04 - mean_absolute_percentage_error: 12668.7365 - val_loss: 4.6577e-04 - val_mean_absolute_error: 0.0162 - val_mean_squared_error: 4.6577e-04 - val_mean_absolute_percentage_error: 2.3275\n",
            "Epoch 52/200\n",
            "2908/2908 [==============================] - 0s 66us/step - loss: 2.1744e-04 - mean_absolute_error: 0.0110 - mean_squared_error: 2.1744e-04 - mean_absolute_percentage_error: 12466.5952 - val_loss: 3.8811e-04 - val_mean_absolute_error: 0.0147 - val_mean_squared_error: 3.8811e-04 - val_mean_absolute_percentage_error: 2.1746\n",
            "Epoch 53/200\n",
            "2908/2908 [==============================] - 0s 64us/step - loss: 2.1781e-04 - mean_absolute_error: 0.0111 - mean_squared_error: 2.1781e-04 - mean_absolute_percentage_error: 12176.5159 - val_loss: 3.8430e-04 - val_mean_absolute_error: 0.0146 - val_mean_squared_error: 3.8430e-04 - val_mean_absolute_percentage_error: 2.1581\n",
            "Epoch 54/200\n",
            "2908/2908 [==============================] - 0s 63us/step - loss: 2.1691e-04 - mean_absolute_error: 0.0110 - mean_squared_error: 2.1691e-04 - mean_absolute_percentage_error: 12320.5103 - val_loss: 4.1643e-04 - val_mean_absolute_error: 0.0152 - val_mean_squared_error: 4.1643e-04 - val_mean_absolute_percentage_error: 2.2098\n",
            "Epoch 55/200\n",
            "2908/2908 [==============================] - 0s 62us/step - loss: 2.1264e-04 - mean_absolute_error: 0.0109 - mean_squared_error: 2.1264e-04 - mean_absolute_percentage_error: 12180.9967 - val_loss: 3.5352e-04 - val_mean_absolute_error: 0.0140 - val_mean_squared_error: 3.5352e-04 - val_mean_absolute_percentage_error: 2.0904\n",
            "Epoch 56/200\n",
            "2908/2908 [==============================] - 0s 63us/step - loss: 2.1232e-04 - mean_absolute_error: 0.0109 - mean_squared_error: 2.1232e-04 - mean_absolute_percentage_error: 11902.7591 - val_loss: 3.9440e-04 - val_mean_absolute_error: 0.0148 - val_mean_squared_error: 3.9440e-04 - val_mean_absolute_percentage_error: 2.1568\n",
            "Epoch 57/200\n",
            "2908/2908 [==============================] - 0s 64us/step - loss: 2.0997e-04 - mean_absolute_error: 0.0108 - mean_squared_error: 2.0997e-04 - mean_absolute_percentage_error: 11826.5217 - val_loss: 4.0719e-04 - val_mean_absolute_error: 0.0150 - val_mean_squared_error: 4.0719e-04 - val_mean_absolute_percentage_error: 2.1764\n",
            "Epoch 58/200\n",
            "2908/2908 [==============================] - 0s 66us/step - loss: 2.0780e-04 - mean_absolute_error: 0.0107 - mean_squared_error: 2.0780e-04 - mean_absolute_percentage_error: 11798.3169 - val_loss: 3.7957e-04 - val_mean_absolute_error: 0.0145 - val_mean_squared_error: 3.7957e-04 - val_mean_absolute_percentage_error: 2.1151\n",
            "Epoch 59/200\n",
            "2908/2908 [==============================] - 0s 66us/step - loss: 2.0645e-04 - mean_absolute_error: 0.0107 - mean_squared_error: 2.0645e-04 - mean_absolute_percentage_error: 11688.8220 - val_loss: 4.1002e-04 - val_mean_absolute_error: 0.0151 - val_mean_squared_error: 4.1002e-04 - val_mean_absolute_percentage_error: 2.1770\n",
            "Epoch 60/200\n",
            "2908/2908 [==============================] - 0s 71us/step - loss: 2.0565e-04 - mean_absolute_error: 0.0107 - mean_squared_error: 2.0565e-04 - mean_absolute_percentage_error: 11468.3282 - val_loss: 3.4846e-04 - val_mean_absolute_error: 0.0138 - val_mean_squared_error: 3.4846e-04 - val_mean_absolute_percentage_error: 2.0389\n",
            "Epoch 61/200\n",
            "2908/2908 [==============================] - 0s 67us/step - loss: 2.0138e-04 - mean_absolute_error: 0.0106 - mean_squared_error: 2.0138e-04 - mean_absolute_percentage_error: 11323.9225 - val_loss: 3.3121e-04 - val_mean_absolute_error: 0.0135 - val_mean_squared_error: 3.3121e-04 - val_mean_absolute_percentage_error: 1.9999\n",
            "Epoch 62/200\n",
            "2908/2908 [==============================] - 0s 67us/step - loss: 2.0012e-04 - mean_absolute_error: 0.0105 - mean_squared_error: 2.0012e-04 - mean_absolute_percentage_error: 11440.9761 - val_loss: 3.0256e-04 - val_mean_absolute_error: 0.0129 - val_mean_squared_error: 3.0256e-04 - val_mean_absolute_percentage_error: 1.9398\n",
            "Epoch 63/200\n",
            "2908/2908 [==============================] - 0s 67us/step - loss: 1.9822e-04 - mean_absolute_error: 0.0105 - mean_squared_error: 1.9822e-04 - mean_absolute_percentage_error: 10853.1079 - val_loss: 3.5129e-04 - val_mean_absolute_error: 0.0139 - val_mean_squared_error: 3.5129e-04 - val_mean_absolute_percentage_error: 2.0363\n",
            "Epoch 64/200\n",
            "2908/2908 [==============================] - 0s 64us/step - loss: 1.9590e-04 - mean_absolute_error: 0.0104 - mean_squared_error: 1.9590e-04 - mean_absolute_percentage_error: 10808.8910 - val_loss: 3.2156e-04 - val_mean_absolute_error: 0.0132 - val_mean_squared_error: 3.2156e-04 - val_mean_absolute_percentage_error: 1.9621\n",
            "Epoch 65/200\n",
            "2908/2908 [==============================] - 0s 64us/step - loss: 1.9404e-04 - mean_absolute_error: 0.0104 - mean_squared_error: 1.9404e-04 - mean_absolute_percentage_error: 10691.0590 - val_loss: 2.8438e-04 - val_mean_absolute_error: 0.0125 - val_mean_squared_error: 2.8438e-04 - val_mean_absolute_percentage_error: 1.8807\n",
            "Epoch 66/200\n",
            "2908/2908 [==============================] - 0s 64us/step - loss: 1.9336e-04 - mean_absolute_error: 0.0104 - mean_squared_error: 1.9336e-04 - mean_absolute_percentage_error: 10715.3079 - val_loss: 2.8648e-04 - val_mean_absolute_error: 0.0125 - val_mean_squared_error: 2.8648e-04 - val_mean_absolute_percentage_error: 1.8818\n",
            "Epoch 67/200\n",
            "2908/2908 [==============================] - 0s 63us/step - loss: 1.9022e-04 - mean_absolute_error: 0.0103 - mean_squared_error: 1.9022e-04 - mean_absolute_percentage_error: 10299.7976 - val_loss: 2.5947e-04 - val_mean_absolute_error: 0.0119 - val_mean_squared_error: 2.5947e-04 - val_mean_absolute_percentage_error: 1.8121\n",
            "Epoch 68/200\n",
            "2908/2908 [==============================] - 0s 66us/step - loss: 1.8805e-04 - mean_absolute_error: 0.0103 - mean_squared_error: 1.8805e-04 - mean_absolute_percentage_error: 10122.9967 - val_loss: 3.1472e-04 - val_mean_absolute_error: 0.0131 - val_mean_squared_error: 3.1472e-04 - val_mean_absolute_percentage_error: 1.9265\n",
            "Epoch 69/200\n",
            "2908/2908 [==============================] - 0s 60us/step - loss: 1.8635e-04 - mean_absolute_error: 0.0101 - mean_squared_error: 1.8635e-04 - mean_absolute_percentage_error: 10210.9932 - val_loss: 2.3495e-04 - val_mean_absolute_error: 0.0114 - val_mean_squared_error: 2.3495e-04 - val_mean_absolute_percentage_error: 1.7721\n",
            "Epoch 70/200\n",
            "2908/2908 [==============================] - 0s 61us/step - loss: 1.8468e-04 - mean_absolute_error: 0.0102 - mean_squared_error: 1.8468e-04 - mean_absolute_percentage_error: 9912.3270 - val_loss: 3.2112e-04 - val_mean_absolute_error: 0.0132 - val_mean_squared_error: 3.2112e-04 - val_mean_absolute_percentage_error: 1.9353\n",
            "Epoch 71/200\n",
            "2908/2908 [==============================] - 0s 61us/step - loss: 1.8335e-04 - mean_absolute_error: 0.0101 - mean_squared_error: 1.8335e-04 - mean_absolute_percentage_error: 9856.4807 - val_loss: 3.0094e-04 - val_mean_absolute_error: 0.0127 - val_mean_squared_error: 3.0094e-04 - val_mean_absolute_percentage_error: 1.8802\n",
            "Epoch 72/200\n",
            "2908/2908 [==============================] - 0s 62us/step - loss: 1.8050e-04 - mean_absolute_error: 0.0100 - mean_squared_error: 1.8050e-04 - mean_absolute_percentage_error: 9834.2107 - val_loss: 2.1820e-04 - val_mean_absolute_error: 0.0111 - val_mean_squared_error: 2.1820e-04 - val_mean_absolute_percentage_error: 1.7236\n",
            "Epoch 73/200\n",
            "2908/2908 [==============================] - 0s 62us/step - loss: 1.7901e-04 - mean_absolute_error: 0.0100 - mean_squared_error: 1.7901e-04 - mean_absolute_percentage_error: 9518.3081 - val_loss: 2.1786e-04 - val_mean_absolute_error: 0.0110 - val_mean_squared_error: 2.1786e-04 - val_mean_absolute_percentage_error: 1.7149\n",
            "Epoch 74/200\n",
            "2908/2908 [==============================] - 0s 64us/step - loss: 1.7654e-04 - mean_absolute_error: 0.0099 - mean_squared_error: 1.7654e-04 - mean_absolute_percentage_error: 9302.4067 - val_loss: 2.5745e-04 - val_mean_absolute_error: 0.0117 - val_mean_squared_error: 2.5745e-04 - val_mean_absolute_percentage_error: 1.7620\n",
            "Epoch 75/200\n",
            "2908/2908 [==============================] - 0s 62us/step - loss: 1.7395e-04 - mean_absolute_error: 0.0098 - mean_squared_error: 1.7395e-04 - mean_absolute_percentage_error: 9121.5141 - val_loss: 2.0997e-04 - val_mean_absolute_error: 0.0108 - val_mean_squared_error: 2.0997e-04 - val_mean_absolute_percentage_error: 1.6753\n",
            "Epoch 76/200\n",
            "2908/2908 [==============================] - 0s 62us/step - loss: 1.7200e-04 - mean_absolute_error: 0.0098 - mean_squared_error: 1.7200e-04 - mean_absolute_percentage_error: 9312.5067 - val_loss: 2.2066e-04 - val_mean_absolute_error: 0.0108 - val_mean_squared_error: 2.2066e-04 - val_mean_absolute_percentage_error: 1.6551\n",
            "Epoch 77/200\n",
            "2908/2908 [==============================] - 0s 62us/step - loss: 1.7458e-04 - mean_absolute_error: 0.0099 - mean_squared_error: 1.7458e-04 - mean_absolute_percentage_error: 8890.9915 - val_loss: 2.1535e-04 - val_mean_absolute_error: 0.0116 - val_mean_squared_error: 2.1535e-04 - val_mean_absolute_percentage_error: 1.8050\n",
            "Epoch 78/200\n",
            "2908/2908 [==============================] - 0s 64us/step - loss: 1.7055e-04 - mean_absolute_error: 0.0098 - mean_squared_error: 1.7055e-04 - mean_absolute_percentage_error: 8435.5363 - val_loss: 2.4128e-04 - val_mean_absolute_error: 0.0113 - val_mean_squared_error: 2.4128e-04 - val_mean_absolute_percentage_error: 1.7036\n",
            "Epoch 79/200\n",
            "2908/2908 [==============================] - 0s 67us/step - loss: 1.6647e-04 - mean_absolute_error: 0.0096 - mean_squared_error: 1.6647e-04 - mean_absolute_percentage_error: 8663.3536 - val_loss: 1.9671e-04 - val_mean_absolute_error: 0.0103 - val_mean_squared_error: 1.9671e-04 - val_mean_absolute_percentage_error: 1.6064\n",
            "Epoch 80/200\n",
            "2908/2908 [==============================] - 0s 66us/step - loss: 1.6556e-04 - mean_absolute_error: 0.0096 - mean_squared_error: 1.6556e-04 - mean_absolute_percentage_error: 8585.6773 - val_loss: 1.9003e-04 - val_mean_absolute_error: 0.0103 - val_mean_squared_error: 1.9003e-04 - val_mean_absolute_percentage_error: 1.6130\n",
            "Epoch 81/200\n",
            "2908/2908 [==============================] - 0s 62us/step - loss: 1.6704e-04 - mean_absolute_error: 0.0097 - mean_squared_error: 1.6704e-04 - mean_absolute_percentage_error: 8352.1295 - val_loss: 1.8575e-04 - val_mean_absolute_error: 0.0101 - val_mean_squared_error: 1.8575e-04 - val_mean_absolute_percentage_error: 1.5769\n",
            "Epoch 82/200\n",
            "2908/2908 [==============================] - 0s 64us/step - loss: 1.6169e-04 - mean_absolute_error: 0.0094 - mean_squared_error: 1.6169e-04 - mean_absolute_percentage_error: 8102.6851 - val_loss: 1.8944e-04 - val_mean_absolute_error: 0.0101 - val_mean_squared_error: 1.8944e-04 - val_mean_absolute_percentage_error: 1.5604\n",
            "Epoch 83/200\n",
            "2908/2908 [==============================] - 0s 62us/step - loss: 1.6423e-04 - mean_absolute_error: 0.0096 - mean_squared_error: 1.6423e-04 - mean_absolute_percentage_error: 7673.3531 - val_loss: 2.3576e-04 - val_mean_absolute_error: 0.0125 - val_mean_squared_error: 2.3576e-04 - val_mean_absolute_percentage_error: 1.9082\n",
            "Epoch 84/200\n",
            "2908/2908 [==============================] - 0s 62us/step - loss: 1.6268e-04 - mean_absolute_error: 0.0096 - mean_squared_error: 1.6268e-04 - mean_absolute_percentage_error: 7345.5672 - val_loss: 1.7952e-04 - val_mean_absolute_error: 0.0099 - val_mean_squared_error: 1.7952e-04 - val_mean_absolute_percentage_error: 1.5489\n",
            "Epoch 85/200\n",
            "2908/2908 [==============================] - 0s 68us/step - loss: 1.5540e-04 - mean_absolute_error: 0.0093 - mean_squared_error: 1.5540e-04 - mean_absolute_percentage_error: 7526.4915 - val_loss: 1.7579e-04 - val_mean_absolute_error: 0.0098 - val_mean_squared_error: 1.7579e-04 - val_mean_absolute_percentage_error: 1.5269\n",
            "Epoch 86/200\n",
            "2908/2908 [==============================] - 0s 62us/step - loss: 1.5569e-04 - mean_absolute_error: 0.0093 - mean_squared_error: 1.5569e-04 - mean_absolute_percentage_error: 7560.4462 - val_loss: 1.7441e-04 - val_mean_absolute_error: 0.0100 - val_mean_squared_error: 1.7441e-04 - val_mean_absolute_percentage_error: 1.5439\n",
            "Epoch 87/200\n",
            "2908/2908 [==============================] - 0s 61us/step - loss: 1.5220e-04 - mean_absolute_error: 0.0092 - mean_squared_error: 1.5220e-04 - mean_absolute_percentage_error: 7697.3736 - val_loss: 1.9793e-04 - val_mean_absolute_error: 0.0102 - val_mean_squared_error: 1.9793e-04 - val_mean_absolute_percentage_error: 1.5576\n",
            "Epoch 88/200\n",
            "2908/2908 [==============================] - 0s 62us/step - loss: 1.5734e-04 - mean_absolute_error: 0.0093 - mean_squared_error: 1.5734e-04 - mean_absolute_percentage_error: 7116.5022 - val_loss: 1.7089e-04 - val_mean_absolute_error: 0.0098 - val_mean_squared_error: 1.7089e-04 - val_mean_absolute_percentage_error: 1.5246\n",
            "Epoch 89/200\n",
            "2908/2908 [==============================] - 0s 62us/step - loss: 1.4974e-04 - mean_absolute_error: 0.0090 - mean_squared_error: 1.4974e-04 - mean_absolute_percentage_error: 7212.6223 - val_loss: 1.9682e-04 - val_mean_absolute_error: 0.0111 - val_mean_squared_error: 1.9682e-04 - val_mean_absolute_percentage_error: 1.6919\n",
            "Epoch 90/200\n",
            "2908/2908 [==============================] - 0s 63us/step - loss: 1.4917e-04 - mean_absolute_error: 0.0091 - mean_squared_error: 1.4917e-04 - mean_absolute_percentage_error: 7186.1848 - val_loss: 1.6564e-04 - val_mean_absolute_error: 0.0095 - val_mean_squared_error: 1.6564e-04 - val_mean_absolute_percentage_error: 1.4777\n",
            "Epoch 91/200\n",
            "2908/2908 [==============================] - 0s 64us/step - loss: 1.4648e-04 - mean_absolute_error: 0.0090 - mean_squared_error: 1.4648e-04 - mean_absolute_percentage_error: 6916.4136 - val_loss: 1.7660e-04 - val_mean_absolute_error: 0.0103 - val_mean_squared_error: 1.7660e-04 - val_mean_absolute_percentage_error: 1.5710\n",
            "Epoch 92/200\n",
            "2908/2908 [==============================] - 0s 62us/step - loss: 1.4568e-04 - mean_absolute_error: 0.0090 - mean_squared_error: 1.4568e-04 - mean_absolute_percentage_error: 6771.3573 - val_loss: 1.6872e-04 - val_mean_absolute_error: 0.0099 - val_mean_squared_error: 1.6872e-04 - val_mean_absolute_percentage_error: 1.5213\n",
            "Epoch 93/200\n",
            "2908/2908 [==============================] - 0s 62us/step - loss: 1.4461e-04 - mean_absolute_error: 0.0089 - mean_squared_error: 1.4461e-04 - mean_absolute_percentage_error: 6921.4807 - val_loss: 1.6144e-04 - val_mean_absolute_error: 0.0095 - val_mean_squared_error: 1.6144e-04 - val_mean_absolute_percentage_error: 1.4621\n",
            "Epoch 94/200\n",
            "2908/2908 [==============================] - 0s 61us/step - loss: 1.4200e-04 - mean_absolute_error: 0.0088 - mean_squared_error: 1.4200e-04 - mean_absolute_percentage_error: 6550.0671 - val_loss: 1.6497e-04 - val_mean_absolute_error: 0.0097 - val_mean_squared_error: 1.6497e-04 - val_mean_absolute_percentage_error: 1.4989\n",
            "Epoch 95/200\n",
            "2908/2908 [==============================] - 0s 63us/step - loss: 1.4230e-04 - mean_absolute_error: 0.0088 - mean_squared_error: 1.4230e-04 - mean_absolute_percentage_error: 6128.4242 - val_loss: 1.5915e-04 - val_mean_absolute_error: 0.0094 - val_mean_squared_error: 1.5915e-04 - val_mean_absolute_percentage_error: 1.4513\n",
            "Epoch 96/200\n",
            "2908/2908 [==============================] - 0s 65us/step - loss: 1.4034e-04 - mean_absolute_error: 0.0088 - mean_squared_error: 1.4034e-04 - mean_absolute_percentage_error: 6481.3646 - val_loss: 1.6669e-04 - val_mean_absolute_error: 0.0099 - val_mean_squared_error: 1.6669e-04 - val_mean_absolute_percentage_error: 1.5105\n",
            "Epoch 97/200\n",
            "2908/2908 [==============================] - 0s 61us/step - loss: 1.3901e-04 - mean_absolute_error: 0.0087 - mean_squared_error: 1.3901e-04 - mean_absolute_percentage_error: 6054.8409 - val_loss: 1.6440e-04 - val_mean_absolute_error: 0.0097 - val_mean_squared_error: 1.6440e-04 - val_mean_absolute_percentage_error: 1.4904\n",
            "Epoch 98/200\n",
            "2908/2908 [==============================] - 0s 62us/step - loss: 1.3647e-04 - mean_absolute_error: 0.0086 - mean_squared_error: 1.3647e-04 - mean_absolute_percentage_error: 6092.9474 - val_loss: 2.0346e-04 - val_mean_absolute_error: 0.0113 - val_mean_squared_error: 2.0346e-04 - val_mean_absolute_percentage_error: 1.6891\n",
            "Epoch 99/200\n",
            "2908/2908 [==============================] - 0s 62us/step - loss: 1.3717e-04 - mean_absolute_error: 0.0087 - mean_squared_error: 1.3717e-04 - mean_absolute_percentage_error: 5587.0169 - val_loss: 1.5780e-04 - val_mean_absolute_error: 0.0094 - val_mean_squared_error: 1.5780e-04 - val_mean_absolute_percentage_error: 1.4477\n",
            "Epoch 100/200\n",
            "2908/2908 [==============================] - 0s 62us/step - loss: 1.3458e-04 - mean_absolute_error: 0.0086 - mean_squared_error: 1.3458e-04 - mean_absolute_percentage_error: 5490.8568 - val_loss: 1.8510e-04 - val_mean_absolute_error: 0.0106 - val_mean_squared_error: 1.8510e-04 - val_mean_absolute_percentage_error: 1.5927\n",
            "Epoch 101/200\n",
            "2908/2908 [==============================] - 0s 62us/step - loss: 1.3329e-04 - mean_absolute_error: 0.0085 - mean_squared_error: 1.3329e-04 - mean_absolute_percentage_error: 5684.1735 - val_loss: 1.7489e-04 - val_mean_absolute_error: 0.0102 - val_mean_squared_error: 1.7489e-04 - val_mean_absolute_percentage_error: 1.5355\n",
            "Epoch 102/200\n",
            "2908/2908 [==============================] - 0s 61us/step - loss: 1.3373e-04 - mean_absolute_error: 0.0085 - mean_squared_error: 1.3373e-04 - mean_absolute_percentage_error: 5539.3069 - val_loss: 1.5571e-04 - val_mean_absolute_error: 0.0093 - val_mean_squared_error: 1.5571e-04 - val_mean_absolute_percentage_error: 1.4273\n",
            "Epoch 103/200\n",
            "2908/2908 [==============================] - 0s 66us/step - loss: 1.3242e-04 - mean_absolute_error: 0.0085 - mean_squared_error: 1.3242e-04 - mean_absolute_percentage_error: 5369.4190 - val_loss: 1.8493e-04 - val_mean_absolute_error: 0.0106 - val_mean_squared_error: 1.8493e-04 - val_mean_absolute_percentage_error: 1.5769\n",
            "Epoch 104/200\n",
            "2908/2908 [==============================] - 0s 67us/step - loss: 1.3201e-04 - mean_absolute_error: 0.0085 - mean_squared_error: 1.3201e-04 - mean_absolute_percentage_error: 5169.8412 - val_loss: 2.9088e-04 - val_mean_absolute_error: 0.0140 - val_mean_squared_error: 2.9088e-04 - val_mean_absolute_percentage_error: 2.0150\n",
            "Epoch 105/200\n",
            "2908/2908 [==============================] - 0s 69us/step - loss: 1.3133e-04 - mean_absolute_error: 0.0085 - mean_squared_error: 1.3133e-04 - mean_absolute_percentage_error: 5083.9535 - val_loss: 1.9918e-04 - val_mean_absolute_error: 0.0110 - val_mean_squared_error: 1.9918e-04 - val_mean_absolute_percentage_error: 1.6310\n",
            "Epoch 106/200\n",
            "2908/2908 [==============================] - 0s 64us/step - loss: 1.2900e-04 - mean_absolute_error: 0.0083 - mean_squared_error: 1.2900e-04 - mean_absolute_percentage_error: 5244.1309 - val_loss: 1.7143e-04 - val_mean_absolute_error: 0.0100 - val_mean_squared_error: 1.7143e-04 - val_mean_absolute_percentage_error: 1.5070\n",
            "Epoch 107/200\n",
            "2908/2908 [==============================] - 0s 62us/step - loss: 1.3202e-04 - mean_absolute_error: 0.0085 - mean_squared_error: 1.3202e-04 - mean_absolute_percentage_error: 5267.3640 - val_loss: 1.4998e-04 - val_mean_absolute_error: 0.0089 - val_mean_squared_error: 1.4998e-04 - val_mean_absolute_percentage_error: 1.3849\n",
            "Epoch 108/200\n",
            "2908/2908 [==============================] - 0s 61us/step - loss: 1.3205e-04 - mean_absolute_error: 0.0085 - mean_squared_error: 1.3205e-04 - mean_absolute_percentage_error: 4381.9945 - val_loss: 2.4423e-04 - val_mean_absolute_error: 0.0125 - val_mean_squared_error: 2.4423e-04 - val_mean_absolute_percentage_error: 1.8112\n",
            "Epoch 109/200\n",
            "2908/2908 [==============================] - 0s 62us/step - loss: 1.3147e-04 - mean_absolute_error: 0.0085 - mean_squared_error: 1.3147e-04 - mean_absolute_percentage_error: 4975.1547 - val_loss: 2.9328e-04 - val_mean_absolute_error: 0.0140 - val_mean_squared_error: 2.9328e-04 - val_mean_absolute_percentage_error: 2.0087\n",
            "Epoch 110/200\n",
            "2908/2908 [==============================] - 0s 62us/step - loss: 1.2950e-04 - mean_absolute_error: 0.0084 - mean_squared_error: 1.2950e-04 - mean_absolute_percentage_error: 4589.2924 - val_loss: 2.4478e-04 - val_mean_absolute_error: 0.0125 - val_mean_squared_error: 2.4478e-04 - val_mean_absolute_percentage_error: 1.8158\n",
            "Epoch 111/200\n",
            "2908/2908 [==============================] - 0s 68us/step - loss: 1.2635e-04 - mean_absolute_error: 0.0083 - mean_squared_error: 1.2635e-04 - mean_absolute_percentage_error: 4390.9739 - val_loss: 1.4795e-04 - val_mean_absolute_error: 0.0088 - val_mean_squared_error: 1.4795e-04 - val_mean_absolute_percentage_error: 1.3761\n",
            "Epoch 112/200\n",
            "2908/2908 [==============================] - 0s 62us/step - loss: 1.2702e-04 - mean_absolute_error: 0.0083 - mean_squared_error: 1.2702e-04 - mean_absolute_percentage_error: 3962.3063 - val_loss: 1.5707e-04 - val_mean_absolute_error: 0.0093 - val_mean_squared_error: 1.5707e-04 - val_mean_absolute_percentage_error: 1.4168\n",
            "Epoch 113/200\n",
            "2908/2908 [==============================] - 0s 63us/step - loss: 1.2448e-04 - mean_absolute_error: 0.0082 - mean_squared_error: 1.2448e-04 - mean_absolute_percentage_error: 4533.3913 - val_loss: 3.5376e-04 - val_mean_absolute_error: 0.0155 - val_mean_squared_error: 3.5376e-04 - val_mean_absolute_percentage_error: 2.1893\n",
            "Epoch 114/200\n",
            "2908/2908 [==============================] - 0s 62us/step - loss: 1.3196e-04 - mean_absolute_error: 0.0085 - mean_squared_error: 1.3196e-04 - mean_absolute_percentage_error: 4818.6834 - val_loss: 1.7034e-04 - val_mean_absolute_error: 0.0099 - val_mean_squared_error: 1.7034e-04 - val_mean_absolute_percentage_error: 1.4755\n",
            "Epoch 115/200\n",
            "2908/2908 [==============================] - 0s 61us/step - loss: 1.2327e-04 - mean_absolute_error: 0.0081 - mean_squared_error: 1.2327e-04 - mean_absolute_percentage_error: 4330.8039 - val_loss: 4.3598e-04 - val_mean_absolute_error: 0.0176 - val_mean_squared_error: 4.3598e-04 - val_mean_absolute_percentage_error: 2.4821\n",
            "Epoch 116/200\n",
            "2908/2908 [==============================] - 0s 75us/step - loss: 1.3356e-04 - mean_absolute_error: 0.0086 - mean_squared_error: 1.3356e-04 - mean_absolute_percentage_error: 3966.2423 - val_loss: 1.5471e-04 - val_mean_absolute_error: 0.0091 - val_mean_squared_error: 1.5471e-04 - val_mean_absolute_percentage_error: 1.4277\n",
            "Epoch 117/200\n",
            "2908/2908 [==============================] - 0s 67us/step - loss: 1.2520e-04 - mean_absolute_error: 0.0082 - mean_squared_error: 1.2520e-04 - mean_absolute_percentage_error: 4037.3728 - val_loss: 1.4626e-04 - val_mean_absolute_error: 0.0088 - val_mean_squared_error: 1.4626e-04 - val_mean_absolute_percentage_error: 1.3598\n",
            "Epoch 118/200\n",
            "2908/2908 [==============================] - 0s 68us/step - loss: 1.2224e-04 - mean_absolute_error: 0.0081 - mean_squared_error: 1.2224e-04 - mean_absolute_percentage_error: 4553.8547 - val_loss: 2.5305e-04 - val_mean_absolute_error: 0.0127 - val_mean_squared_error: 2.5305e-04 - val_mean_absolute_percentage_error: 1.8360\n",
            "Epoch 119/200\n",
            "2908/2908 [==============================] - 0s 64us/step - loss: 1.2718e-04 - mean_absolute_error: 0.0083 - mean_squared_error: 1.2718e-04 - mean_absolute_percentage_error: 4050.4418 - val_loss: 2.1133e-04 - val_mean_absolute_error: 0.0113 - val_mean_squared_error: 2.1133e-04 - val_mean_absolute_percentage_error: 1.6461\n",
            "Epoch 120/200\n",
            "2908/2908 [==============================] - 0s 62us/step - loss: 1.2231e-04 - mean_absolute_error: 0.0081 - mean_squared_error: 1.2231e-04 - mean_absolute_percentage_error: 3852.8870 - val_loss: 1.9417e-04 - val_mean_absolute_error: 0.0108 - val_mean_squared_error: 1.9417e-04 - val_mean_absolute_percentage_error: 1.5766\n",
            "Epoch 121/200\n",
            "2908/2908 [==============================] - 0s 69us/step - loss: 1.2425e-04 - mean_absolute_error: 0.0082 - mean_squared_error: 1.2425e-04 - mean_absolute_percentage_error: 4036.2407 - val_loss: 1.4922e-04 - val_mean_absolute_error: 0.0089 - val_mean_squared_error: 1.4922e-04 - val_mean_absolute_percentage_error: 1.3960\n",
            "Epoch 122/200\n",
            "2908/2908 [==============================] - 0s 64us/step - loss: 1.2695e-04 - mean_absolute_error: 0.0083 - mean_squared_error: 1.2695e-04 - mean_absolute_percentage_error: 4554.5545 - val_loss: 4.4044e-04 - val_mean_absolute_error: 0.0176 - val_mean_squared_error: 4.4044e-04 - val_mean_absolute_percentage_error: 2.4470\n",
            "Epoch 123/200\n",
            "2908/2908 [==============================] - 0s 65us/step - loss: 1.2609e-04 - mean_absolute_error: 0.0083 - mean_squared_error: 1.2609e-04 - mean_absolute_percentage_error: 3858.0296 - val_loss: 1.5649e-04 - val_mean_absolute_error: 0.0093 - val_mean_squared_error: 1.5649e-04 - val_mean_absolute_percentage_error: 1.4068\n",
            "Epoch 124/200\n",
            "2908/2908 [==============================] - 0s 61us/step - loss: 1.2482e-04 - mean_absolute_error: 0.0081 - mean_squared_error: 1.2482e-04 - mean_absolute_percentage_error: 4520.7552 - val_loss: 2.2001e-04 - val_mean_absolute_error: 0.0117 - val_mean_squared_error: 2.2001e-04 - val_mean_absolute_percentage_error: 1.6915\n",
            "Epoch 125/200\n",
            "2908/2908 [==============================] - 0s 61us/step - loss: 1.1903e-04 - mean_absolute_error: 0.0080 - mean_squared_error: 1.1903e-04 - mean_absolute_percentage_error: 3514.1610 - val_loss: 1.5029e-04 - val_mean_absolute_error: 0.0090 - val_mean_squared_error: 1.5029e-04 - val_mean_absolute_percentage_error: 1.3753\n",
            "Epoch 126/200\n",
            "2908/2908 [==============================] - 0s 67us/step - loss: 1.2166e-04 - mean_absolute_error: 0.0080 - mean_squared_error: 1.2166e-04 - mean_absolute_percentage_error: 4457.2626 - val_loss: 1.4044e-04 - val_mean_absolute_error: 0.0086 - val_mean_squared_error: 1.4044e-04 - val_mean_absolute_percentage_error: 1.3287\n",
            "Epoch 127/200\n",
            "2908/2908 [==============================] - 0s 66us/step - loss: 1.2786e-04 - mean_absolute_error: 0.0084 - mean_squared_error: 1.2786e-04 - mean_absolute_percentage_error: 3964.0732 - val_loss: 1.4382e-04 - val_mean_absolute_error: 0.0087 - val_mean_squared_error: 1.4382e-04 - val_mean_absolute_percentage_error: 1.3424\n",
            "Epoch 128/200\n",
            "2908/2908 [==============================] - 0s 64us/step - loss: 1.1958e-04 - mean_absolute_error: 0.0080 - mean_squared_error: 1.1958e-04 - mean_absolute_percentage_error: 4315.4227 - val_loss: 1.7357e-04 - val_mean_absolute_error: 0.0100 - val_mean_squared_error: 1.7357e-04 - val_mean_absolute_percentage_error: 1.4757\n",
            "Epoch 129/200\n",
            "2908/2908 [==============================] - 0s 64us/step - loss: 1.1771e-04 - mean_absolute_error: 0.0079 - mean_squared_error: 1.1771e-04 - mean_absolute_percentage_error: 3780.8444 - val_loss: 2.6415e-04 - val_mean_absolute_error: 0.0130 - val_mean_squared_error: 2.6415e-04 - val_mean_absolute_percentage_error: 1.8571\n",
            "Epoch 130/200\n",
            "2908/2908 [==============================] - 0s 62us/step - loss: 1.2334e-04 - mean_absolute_error: 0.0082 - mean_squared_error: 1.2334e-04 - mean_absolute_percentage_error: 4617.2905 - val_loss: 1.4793e-04 - val_mean_absolute_error: 0.0090 - val_mean_squared_error: 1.4793e-04 - val_mean_absolute_percentage_error: 1.3586\n",
            "Epoch 131/200\n",
            "2908/2908 [==============================] - 0s 62us/step - loss: 1.1625e-04 - mean_absolute_error: 0.0078 - mean_squared_error: 1.1625e-04 - mean_absolute_percentage_error: 3820.6455 - val_loss: 1.6937e-04 - val_mean_absolute_error: 0.0098 - val_mean_squared_error: 1.6937e-04 - val_mean_absolute_percentage_error: 1.4556\n",
            "Epoch 132/200\n",
            "2908/2908 [==============================] - 0s 62us/step - loss: 1.1981e-04 - mean_absolute_error: 0.0081 - mean_squared_error: 1.1981e-04 - mean_absolute_percentage_error: 3976.3795 - val_loss: 1.8482e-04 - val_mean_absolute_error: 0.0105 - val_mean_squared_error: 1.8482e-04 - val_mean_absolute_percentage_error: 1.6347\n",
            "Epoch 133/200\n",
            "2908/2908 [==============================] - 0s 64us/step - loss: 1.2984e-04 - mean_absolute_error: 0.0084 - mean_squared_error: 1.2984e-04 - mean_absolute_percentage_error: 4110.0184 - val_loss: 1.3931e-04 - val_mean_absolute_error: 0.0085 - val_mean_squared_error: 1.3931e-04 - val_mean_absolute_percentage_error: 1.3328\n",
            "Epoch 134/200\n",
            "2908/2908 [==============================] - 0s 62us/step - loss: 1.1650e-04 - mean_absolute_error: 0.0078 - mean_squared_error: 1.1650e-04 - mean_absolute_percentage_error: 4338.4966 - val_loss: 1.6892e-04 - val_mean_absolute_error: 0.0098 - val_mean_squared_error: 1.6892e-04 - val_mean_absolute_percentage_error: 1.4536\n",
            "Epoch 135/200\n",
            "2908/2908 [==============================] - 0s 62us/step - loss: 1.1913e-04 - mean_absolute_error: 0.0080 - mean_squared_error: 1.1913e-04 - mean_absolute_percentage_error: 4178.4113 - val_loss: 2.2470e-04 - val_mean_absolute_error: 0.0118 - val_mean_squared_error: 2.2470e-04 - val_mean_absolute_percentage_error: 1.6917\n",
            "Epoch 136/200\n",
            "2908/2908 [==============================] - 0s 59us/step - loss: 1.2058e-04 - mean_absolute_error: 0.0080 - mean_squared_error: 1.2058e-04 - mean_absolute_percentage_error: 4271.9848 - val_loss: 3.5701e-04 - val_mean_absolute_error: 0.0156 - val_mean_squared_error: 3.5701e-04 - val_mean_absolute_percentage_error: 2.1899\n",
            "Epoch 137/200\n",
            "2908/2908 [==============================] - 0s 61us/step - loss: 1.1845e-04 - mean_absolute_error: 0.0080 - mean_squared_error: 1.1845e-04 - mean_absolute_percentage_error: 4139.4527 - val_loss: 2.7552e-04 - val_mean_absolute_error: 0.0134 - val_mean_squared_error: 2.7552e-04 - val_mean_absolute_percentage_error: 1.8886\n",
            "Epoch 138/200\n",
            "2908/2908 [==============================] - 0s 66us/step - loss: 1.1381e-04 - mean_absolute_error: 0.0077 - mean_squared_error: 1.1381e-04 - mean_absolute_percentage_error: 4487.7152 - val_loss: 2.5230e-04 - val_mean_absolute_error: 0.0127 - val_mean_squared_error: 2.5230e-04 - val_mean_absolute_percentage_error: 1.8031\n",
            "Epoch 139/200\n",
            "2908/2908 [==============================] - 0s 63us/step - loss: 1.1471e-04 - mean_absolute_error: 0.0078 - mean_squared_error: 1.1471e-04 - mean_absolute_percentage_error: 3937.0244 - val_loss: 1.3685e-04 - val_mean_absolute_error: 0.0085 - val_mean_squared_error: 1.3685e-04 - val_mean_absolute_percentage_error: 1.3110\n",
            "Epoch 140/200\n",
            "2908/2908 [==============================] - 0s 62us/step - loss: 1.1935e-04 - mean_absolute_error: 0.0081 - mean_squared_error: 1.1935e-04 - mean_absolute_percentage_error: 3635.8850 - val_loss: 3.2039e-04 - val_mean_absolute_error: 0.0146 - val_mean_squared_error: 3.2039e-04 - val_mean_absolute_percentage_error: 2.0413\n",
            "Epoch 141/200\n",
            "2908/2908 [==============================] - 0s 63us/step - loss: 1.1611e-04 - mean_absolute_error: 0.0079 - mean_squared_error: 1.1611e-04 - mean_absolute_percentage_error: 3689.0053 - val_loss: 5.0064e-04 - val_mean_absolute_error: 0.0190 - val_mean_squared_error: 5.0064e-04 - val_mean_absolute_percentage_error: 2.6126\n",
            "Epoch 142/200\n",
            "2908/2908 [==============================] - 0s 60us/step - loss: 1.1723e-04 - mean_absolute_error: 0.0079 - mean_squared_error: 1.1723e-04 - mean_absolute_percentage_error: 4355.5344 - val_loss: 1.9860e-04 - val_mean_absolute_error: 0.0110 - val_mean_squared_error: 1.9860e-04 - val_mean_absolute_percentage_error: 1.5889\n",
            "Epoch 143/200\n",
            "2908/2908 [==============================] - 0s 62us/step - loss: 1.1365e-04 - mean_absolute_error: 0.0077 - mean_squared_error: 1.1365e-04 - mean_absolute_percentage_error: 3540.3742 - val_loss: 1.5938e-04 - val_mean_absolute_error: 0.0094 - val_mean_squared_error: 1.5938e-04 - val_mean_absolute_percentage_error: 1.4006\n",
            "Epoch 144/200\n",
            "2908/2908 [==============================] - 0s 62us/step - loss: 1.1325e-04 - mean_absolute_error: 0.0077 - mean_squared_error: 1.1325e-04 - mean_absolute_percentage_error: 4296.5428 - val_loss: 1.4016e-04 - val_mean_absolute_error: 0.0086 - val_mean_squared_error: 1.4016e-04 - val_mean_absolute_percentage_error: 1.3155\n",
            "Epoch 145/200\n",
            "2908/2908 [==============================] - 0s 62us/step - loss: 1.1544e-04 - mean_absolute_error: 0.0078 - mean_squared_error: 1.1544e-04 - mean_absolute_percentage_error: 3243.4315 - val_loss: 1.4133e-04 - val_mean_absolute_error: 0.0087 - val_mean_squared_error: 1.4133e-04 - val_mean_absolute_percentage_error: 1.3263\n",
            "Epoch 146/200\n",
            "2908/2908 [==============================] - 0s 63us/step - loss: 1.3123e-04 - mean_absolute_error: 0.0086 - mean_squared_error: 1.3123e-04 - mean_absolute_percentage_error: 3492.0790 - val_loss: 1.3693e-04 - val_mean_absolute_error: 0.0085 - val_mean_squared_error: 1.3693e-04 - val_mean_absolute_percentage_error: 1.3229\n",
            "Epoch 147/200\n",
            "2908/2908 [==============================] - 0s 59us/step - loss: 1.1340e-04 - mean_absolute_error: 0.0077 - mean_squared_error: 1.1340e-04 - mean_absolute_percentage_error: 3717.5797 - val_loss: 1.3855e-04 - val_mean_absolute_error: 0.0086 - val_mean_squared_error: 1.3855e-04 - val_mean_absolute_percentage_error: 1.3437\n",
            "Epoch 148/200\n",
            "2908/2908 [==============================] - 0s 61us/step - loss: 1.2105e-04 - mean_absolute_error: 0.0081 - mean_squared_error: 1.2105e-04 - mean_absolute_percentage_error: 3774.5350 - val_loss: 1.4097e-04 - val_mean_absolute_error: 0.0087 - val_mean_squared_error: 1.4097e-04 - val_mean_absolute_percentage_error: 1.3247\n",
            "Epoch 149/200\n",
            "2908/2908 [==============================] - 0s 63us/step - loss: 1.1108e-04 - mean_absolute_error: 0.0077 - mean_squared_error: 1.1108e-04 - mean_absolute_percentage_error: 3732.4396 - val_loss: 1.8219e-04 - val_mean_absolute_error: 0.0103 - val_mean_squared_error: 1.8219e-04 - val_mean_absolute_percentage_error: 1.4977\n",
            "Epoch 150/200\n",
            "2908/2908 [==============================] - 0s 62us/step - loss: 1.1096e-04 - mean_absolute_error: 0.0076 - mean_squared_error: 1.1096e-04 - mean_absolute_percentage_error: 4103.9466 - val_loss: 1.4097e-04 - val_mean_absolute_error: 0.0087 - val_mean_squared_error: 1.4097e-04 - val_mean_absolute_percentage_error: 1.3230\n",
            "Epoch 151/200\n",
            "2908/2908 [==============================] - 0s 61us/step - loss: 1.1012e-04 - mean_absolute_error: 0.0075 - mean_squared_error: 1.1012e-04 - mean_absolute_percentage_error: 3803.9809 - val_loss: 2.5330e-04 - val_mean_absolute_error: 0.0126 - val_mean_squared_error: 2.5330e-04 - val_mean_absolute_percentage_error: 1.7826\n",
            "Epoch 152/200\n",
            "2908/2908 [==============================] - 0s 61us/step - loss: 1.1135e-04 - mean_absolute_error: 0.0076 - mean_squared_error: 1.1135e-04 - mean_absolute_percentage_error: 4083.6421 - val_loss: 2.1352e-04 - val_mean_absolute_error: 0.0114 - val_mean_squared_error: 2.1352e-04 - val_mean_absolute_percentage_error: 1.6298\n",
            "Epoch 153/200\n",
            "2908/2908 [==============================] - 0s 66us/step - loss: 1.0923e-04 - mean_absolute_error: 0.0075 - mean_squared_error: 1.0923e-04 - mean_absolute_percentage_error: 3551.0267 - val_loss: 1.7354e-04 - val_mean_absolute_error: 0.0100 - val_mean_squared_error: 1.7354e-04 - val_mean_absolute_percentage_error: 1.4577\n",
            "Epoch 154/200\n",
            "2908/2908 [==============================] - 0s 62us/step - loss: 1.1070e-04 - mean_absolute_error: 0.0076 - mean_squared_error: 1.1070e-04 - mean_absolute_percentage_error: 4046.0494 - val_loss: 1.8489e-04 - val_mean_absolute_error: 0.0104 - val_mean_squared_error: 1.8489e-04 - val_mean_absolute_percentage_error: 1.5072\n",
            "Epoch 155/200\n",
            "2908/2908 [==============================] - 0s 65us/step - loss: 1.0937e-04 - mean_absolute_error: 0.0076 - mean_squared_error: 1.0937e-04 - mean_absolute_percentage_error: 4257.5687 - val_loss: 1.4323e-04 - val_mean_absolute_error: 0.0088 - val_mean_squared_error: 1.4323e-04 - val_mean_absolute_percentage_error: 1.3269\n",
            "Epoch 156/200\n",
            "2908/2908 [==============================] - 0s 63us/step - loss: 1.1406e-04 - mean_absolute_error: 0.0078 - mean_squared_error: 1.1406e-04 - mean_absolute_percentage_error: 3716.4180 - val_loss: 2.5750e-04 - val_mean_absolute_error: 0.0128 - val_mean_squared_error: 2.5750e-04 - val_mean_absolute_percentage_error: 1.8032\n",
            "Epoch 157/200\n",
            "2908/2908 [==============================] - 0s 61us/step - loss: 1.0953e-04 - mean_absolute_error: 0.0075 - mean_squared_error: 1.0953e-04 - mean_absolute_percentage_error: 3636.8145 - val_loss: 2.7711e-04 - val_mean_absolute_error: 0.0133 - val_mean_squared_error: 2.7711e-04 - val_mean_absolute_percentage_error: 1.8683\n",
            "Epoch 158/200\n",
            "2908/2908 [==============================] - 0s 63us/step - loss: 1.1003e-04 - mean_absolute_error: 0.0076 - mean_squared_error: 1.1003e-04 - mean_absolute_percentage_error: 3488.8381 - val_loss: 1.6404e-04 - val_mean_absolute_error: 0.0096 - val_mean_squared_error: 1.6404e-04 - val_mean_absolute_percentage_error: 1.4150\n",
            "Epoch 159/200\n",
            "2908/2908 [==============================] - 0s 64us/step - loss: 1.0890e-04 - mean_absolute_error: 0.0075 - mean_squared_error: 1.0890e-04 - mean_absolute_percentage_error: 3959.7503 - val_loss: 3.1311e-04 - val_mean_absolute_error: 0.0144 - val_mean_squared_error: 3.1311e-04 - val_mean_absolute_percentage_error: 2.0061\n",
            "Epoch 160/200\n",
            "2908/2908 [==============================] - 0s 62us/step - loss: 1.0835e-04 - mean_absolute_error: 0.0075 - mean_squared_error: 1.0835e-04 - mean_absolute_percentage_error: 3937.6301 - val_loss: 1.3669e-04 - val_mean_absolute_error: 0.0085 - val_mean_squared_error: 1.3669e-04 - val_mean_absolute_percentage_error: 1.3385\n",
            "Epoch 161/200\n",
            "2908/2908 [==============================] - 0s 62us/step - loss: 1.1161e-04 - mean_absolute_error: 0.0077 - mean_squared_error: 1.1161e-04 - mean_absolute_percentage_error: 4502.3288 - val_loss: 1.8166e-04 - val_mean_absolute_error: 0.0103 - val_mean_squared_error: 1.8166e-04 - val_mean_absolute_percentage_error: 1.5001\n",
            "Epoch 162/200\n",
            "2908/2908 [==============================] - 0s 61us/step - loss: 1.1032e-04 - mean_absolute_error: 0.0076 - mean_squared_error: 1.1032e-04 - mean_absolute_percentage_error: 3552.8368 - val_loss: 2.0073e-04 - val_mean_absolute_error: 0.0109 - val_mean_squared_error: 2.0073e-04 - val_mean_absolute_percentage_error: 1.5664\n",
            "Epoch 163/200\n",
            "2908/2908 [==============================] - 0s 65us/step - loss: 1.0940e-04 - mean_absolute_error: 0.0075 - mean_squared_error: 1.0940e-04 - mean_absolute_percentage_error: 4049.5410 - val_loss: 1.6861e-04 - val_mean_absolute_error: 0.0098 - val_mean_squared_error: 1.6861e-04 - val_mean_absolute_percentage_error: 1.4414\n",
            "Epoch 164/200\n",
            "2908/2908 [==============================] - 0s 60us/step - loss: 1.0796e-04 - mean_absolute_error: 0.0075 - mean_squared_error: 1.0796e-04 - mean_absolute_percentage_error: 3783.4176 - val_loss: 1.3039e-04 - val_mean_absolute_error: 0.0082 - val_mean_squared_error: 1.3039e-04 - val_mean_absolute_percentage_error: 1.2771\n",
            "Epoch 165/200\n",
            "2908/2908 [==============================] - 0s 65us/step - loss: 1.1835e-04 - mean_absolute_error: 0.0080 - mean_squared_error: 1.1835e-04 - mean_absolute_percentage_error: 3611.3329 - val_loss: 2.2093e-04 - val_mean_absolute_error: 0.0116 - val_mean_squared_error: 2.2093e-04 - val_mean_absolute_percentage_error: 1.6351\n",
            "Epoch 166/200\n",
            "2908/2908 [==============================] - 0s 62us/step - loss: 1.1160e-04 - mean_absolute_error: 0.0076 - mean_squared_error: 1.1160e-04 - mean_absolute_percentage_error: 4470.8026 - val_loss: 1.3531e-04 - val_mean_absolute_error: 0.0085 - val_mean_squared_error: 1.3531e-04 - val_mean_absolute_percentage_error: 1.2862\n",
            "Epoch 167/200\n",
            "2908/2908 [==============================] - 0s 64us/step - loss: 1.1106e-04 - mean_absolute_error: 0.0076 - mean_squared_error: 1.1106e-04 - mean_absolute_percentage_error: 3980.3609 - val_loss: 3.0818e-04 - val_mean_absolute_error: 0.0143 - val_mean_squared_error: 3.0818e-04 - val_mean_absolute_percentage_error: 1.9915\n",
            "Epoch 168/200\n",
            "2908/2908 [==============================] - 0s 61us/step - loss: 1.1606e-04 - mean_absolute_error: 0.0079 - mean_squared_error: 1.1606e-04 - mean_absolute_percentage_error: 3632.8672 - val_loss: 1.9644e-04 - val_mean_absolute_error: 0.0109 - val_mean_squared_error: 1.9644e-04 - val_mean_absolute_percentage_error: 1.5640\n",
            "Epoch 169/200\n",
            "2908/2908 [==============================] - 0s 62us/step - loss: 1.0832e-04 - mean_absolute_error: 0.0075 - mean_squared_error: 1.0832e-04 - mean_absolute_percentage_error: 3961.6294 - val_loss: 1.4224e-04 - val_mean_absolute_error: 0.0088 - val_mean_squared_error: 1.4224e-04 - val_mean_absolute_percentage_error: 1.3186\n",
            "Epoch 170/200\n",
            "2908/2908 [==============================] - 0s 63us/step - loss: 1.1296e-04 - mean_absolute_error: 0.0077 - mean_squared_error: 1.1296e-04 - mean_absolute_percentage_error: 4047.1261 - val_loss: 1.5292e-04 - val_mean_absolute_error: 0.0092 - val_mean_squared_error: 1.5292e-04 - val_mean_absolute_percentage_error: 1.3644\n",
            "Epoch 171/200\n",
            "2908/2908 [==============================] - 0s 64us/step - loss: 1.1446e-04 - mean_absolute_error: 0.0078 - mean_squared_error: 1.1446e-04 - mean_absolute_percentage_error: 4573.4880 - val_loss: 1.3634e-04 - val_mean_absolute_error: 0.0085 - val_mean_squared_error: 1.3634e-04 - val_mean_absolute_percentage_error: 1.2956\n",
            "Epoch 172/200\n",
            "2908/2908 [==============================] - 0s 61us/step - loss: 1.1074e-04 - mean_absolute_error: 0.0075 - mean_squared_error: 1.1074e-04 - mean_absolute_percentage_error: 3541.9952 - val_loss: 1.7327e-04 - val_mean_absolute_error: 0.0100 - val_mean_squared_error: 1.7327e-04 - val_mean_absolute_percentage_error: 1.4536\n",
            "Epoch 173/200\n",
            "2908/2908 [==============================] - 0s 63us/step - loss: 1.0789e-04 - mean_absolute_error: 0.0075 - mean_squared_error: 1.0789e-04 - mean_absolute_percentage_error: 3422.0523 - val_loss: 1.2943e-04 - val_mean_absolute_error: 0.0082 - val_mean_squared_error: 1.2943e-04 - val_mean_absolute_percentage_error: 1.2768\n",
            "Epoch 174/200\n",
            "2908/2908 [==============================] - 0s 62us/step - loss: 1.0769e-04 - mean_absolute_error: 0.0075 - mean_squared_error: 1.0769e-04 - mean_absolute_percentage_error: 4536.3275 - val_loss: 1.2968e-04 - val_mean_absolute_error: 0.0082 - val_mean_squared_error: 1.2968e-04 - val_mean_absolute_percentage_error: 1.2782\n",
            "Epoch 175/200\n",
            "2908/2908 [==============================] - 0s 62us/step - loss: 1.1193e-04 - mean_absolute_error: 0.0077 - mean_squared_error: 1.1193e-04 - mean_absolute_percentage_error: 3520.9765 - val_loss: 1.4526e-04 - val_mean_absolute_error: 0.0089 - val_mean_squared_error: 1.4526e-04 - val_mean_absolute_percentage_error: 1.3305\n",
            "Epoch 176/200\n",
            "2908/2908 [==============================] - 0s 61us/step - loss: 1.0758e-04 - mean_absolute_error: 0.0075 - mean_squared_error: 1.0758e-04 - mean_absolute_percentage_error: 4305.7032 - val_loss: 1.4826e-04 - val_mean_absolute_error: 0.0090 - val_mean_squared_error: 1.4826e-04 - val_mean_absolute_percentage_error: 1.3434\n",
            "Epoch 177/200\n",
            "2908/2908 [==============================] - 0s 60us/step - loss: 1.0624e-04 - mean_absolute_error: 0.0074 - mean_squared_error: 1.0624e-04 - mean_absolute_percentage_error: 4168.9070 - val_loss: 1.7043e-04 - val_mean_absolute_error: 0.0099 - val_mean_squared_error: 1.7043e-04 - val_mean_absolute_percentage_error: 1.4422\n",
            "Epoch 178/200\n",
            "2908/2908 [==============================] - 0s 69us/step - loss: 1.0728e-04 - mean_absolute_error: 0.0075 - mean_squared_error: 1.0728e-04 - mean_absolute_percentage_error: 3596.1940 - val_loss: 1.5164e-04 - val_mean_absolute_error: 0.0092 - val_mean_squared_error: 1.5164e-04 - val_mean_absolute_percentage_error: 1.3565\n",
            "Epoch 179/200\n",
            "2908/2908 [==============================] - 0s 66us/step - loss: 1.0841e-04 - mean_absolute_error: 0.0075 - mean_squared_error: 1.0841e-04 - mean_absolute_percentage_error: 4378.9035 - val_loss: 1.4016e-04 - val_mean_absolute_error: 0.0087 - val_mean_squared_error: 1.4016e-04 - val_mean_absolute_percentage_error: 1.3081\n",
            "Epoch 180/200\n",
            "2908/2908 [==============================] - 0s 61us/step - loss: 1.0555e-04 - mean_absolute_error: 0.0074 - mean_squared_error: 1.0555e-04 - mean_absolute_percentage_error: 3563.5086 - val_loss: 4.1909e-04 - val_mean_absolute_error: 0.0171 - val_mean_squared_error: 4.1909e-04 - val_mean_absolute_percentage_error: 2.3501\n",
            "Epoch 181/200\n",
            "2908/2908 [==============================] - 0s 62us/step - loss: 1.1071e-04 - mean_absolute_error: 0.0077 - mean_squared_error: 1.1071e-04 - mean_absolute_percentage_error: 3478.3423 - val_loss: 1.7627e-04 - val_mean_absolute_error: 0.0101 - val_mean_squared_error: 1.7627e-04 - val_mean_absolute_percentage_error: 1.4687\n",
            "Epoch 182/200\n",
            "2908/2908 [==============================] - 0s 63us/step - loss: 1.0915e-04 - mean_absolute_error: 0.0076 - mean_squared_error: 1.0915e-04 - mean_absolute_percentage_error: 4449.0130 - val_loss: 1.3862e-04 - val_mean_absolute_error: 0.0087 - val_mean_squared_error: 1.3862e-04 - val_mean_absolute_percentage_error: 1.3018\n",
            "Epoch 183/200\n",
            "2908/2908 [==============================] - 0s 61us/step - loss: 1.0603e-04 - mean_absolute_error: 0.0073 - mean_squared_error: 1.0603e-04 - mean_absolute_percentage_error: 4086.4774 - val_loss: 1.6138e-04 - val_mean_absolute_error: 0.0096 - val_mean_squared_error: 1.6138e-04 - val_mean_absolute_percentage_error: 1.4056\n",
            "Epoch 184/200\n",
            "2908/2908 [==============================] - 0s 62us/step - loss: 1.0526e-04 - mean_absolute_error: 0.0073 - mean_squared_error: 1.0526e-04 - mean_absolute_percentage_error: 3916.5659 - val_loss: 2.4954e-04 - val_mean_absolute_error: 0.0126 - val_mean_squared_error: 2.4954e-04 - val_mean_absolute_percentage_error: 1.7739\n",
            "Epoch 185/200\n",
            "2908/2908 [==============================] - 0s 62us/step - loss: 1.0671e-04 - mean_absolute_error: 0.0074 - mean_squared_error: 1.0671e-04 - mean_absolute_percentage_error: 3923.3215 - val_loss: 3.1549e-04 - val_mean_absolute_error: 0.0145 - val_mean_squared_error: 3.1549e-04 - val_mean_absolute_percentage_error: 2.0284\n",
            "Epoch 186/200\n",
            "2908/2908 [==============================] - 0s 66us/step - loss: 1.1623e-04 - mean_absolute_error: 0.0078 - mean_squared_error: 1.1623e-04 - mean_absolute_percentage_error: 3998.5301 - val_loss: 1.4425e-04 - val_mean_absolute_error: 0.0089 - val_mean_squared_error: 1.4425e-04 - val_mean_absolute_percentage_error: 1.3255\n",
            "Epoch 187/200\n",
            "2908/2908 [==============================] - 0s 68us/step - loss: 1.1582e-04 - mean_absolute_error: 0.0079 - mean_squared_error: 1.1582e-04 - mean_absolute_percentage_error: 4100.5020 - val_loss: 1.9556e-04 - val_mean_absolute_error: 0.0108 - val_mean_squared_error: 1.9556e-04 - val_mean_absolute_percentage_error: 1.5443\n",
            "Epoch 188/200\n",
            "2908/2908 [==============================] - 0s 62us/step - loss: 1.0755e-04 - mean_absolute_error: 0.0074 - mean_squared_error: 1.0755e-04 - mean_absolute_percentage_error: 3963.9034 - val_loss: 1.2865e-04 - val_mean_absolute_error: 0.0082 - val_mean_squared_error: 1.2865e-04 - val_mean_absolute_percentage_error: 1.2673\n",
            "Epoch 189/200\n",
            "2908/2908 [==============================] - 0s 61us/step - loss: 1.0980e-04 - mean_absolute_error: 0.0075 - mean_squared_error: 1.0980e-04 - mean_absolute_percentage_error: 4141.4766 - val_loss: 1.3750e-04 - val_mean_absolute_error: 0.0086 - val_mean_squared_error: 1.3750e-04 - val_mean_absolute_percentage_error: 1.3004\n",
            "Epoch 190/200\n",
            "2908/2908 [==============================] - 0s 64us/step - loss: 1.0738e-04 - mean_absolute_error: 0.0074 - mean_squared_error: 1.0738e-04 - mean_absolute_percentage_error: 3865.3007 - val_loss: 1.6452e-04 - val_mean_absolute_error: 0.0097 - val_mean_squared_error: 1.6452e-04 - val_mean_absolute_percentage_error: 1.4141\n",
            "Epoch 191/200\n",
            "2908/2908 [==============================] - 0s 62us/step - loss: 1.0610e-04 - mean_absolute_error: 0.0074 - mean_squared_error: 1.0610e-04 - mean_absolute_percentage_error: 4249.5799 - val_loss: 2.3325e-04 - val_mean_absolute_error: 0.0120 - val_mean_squared_error: 2.3325e-04 - val_mean_absolute_percentage_error: 1.6793\n",
            "Epoch 192/200\n",
            "2908/2908 [==============================] - 0s 62us/step - loss: 1.0626e-04 - mean_absolute_error: 0.0074 - mean_squared_error: 1.0626e-04 - mean_absolute_percentage_error: 3494.2518 - val_loss: 1.3584e-04 - val_mean_absolute_error: 0.0086 - val_mean_squared_error: 1.3584e-04 - val_mean_absolute_percentage_error: 1.2867\n",
            "Epoch 193/200\n",
            "2908/2908 [==============================] - 0s 62us/step - loss: 1.0663e-04 - mean_absolute_error: 0.0074 - mean_squared_error: 1.0663e-04 - mean_absolute_percentage_error: 4062.3031 - val_loss: 5.4705e-04 - val_mean_absolute_error: 0.0201 - val_mean_squared_error: 5.4705e-04 - val_mean_absolute_percentage_error: 2.7625\n",
            "Epoch 194/200\n",
            "2908/2908 [==============================] - 0s 62us/step - loss: 1.1293e-04 - mean_absolute_error: 0.0077 - mean_squared_error: 1.1293e-04 - mean_absolute_percentage_error: 3468.7010 - val_loss: 4.4689e-04 - val_mean_absolute_error: 0.0178 - val_mean_squared_error: 4.4689e-04 - val_mean_absolute_percentage_error: 2.4397\n",
            "Epoch 195/200\n",
            "2908/2908 [==============================] - 0s 66us/step - loss: 1.1972e-04 - mean_absolute_error: 0.0081 - mean_squared_error: 1.1972e-04 - mean_absolute_percentage_error: 4094.5200 - val_loss: 2.0371e-04 - val_mean_absolute_error: 0.0111 - val_mean_squared_error: 2.0371e-04 - val_mean_absolute_percentage_error: 1.5804\n",
            "Epoch 196/200\n",
            "2908/2908 [==============================] - 0s 65us/step - loss: 1.1426e-04 - mean_absolute_error: 0.0078 - mean_squared_error: 1.1426e-04 - mean_absolute_percentage_error: 4103.1729 - val_loss: 1.9202e-04 - val_mean_absolute_error: 0.0107 - val_mean_squared_error: 1.9202e-04 - val_mean_absolute_percentage_error: 1.5241\n",
            "Epoch 197/200\n",
            "2908/2908 [==============================] - 0s 66us/step - loss: 1.0564e-04 - mean_absolute_error: 0.0074 - mean_squared_error: 1.0564e-04 - mean_absolute_percentage_error: 4155.1985 - val_loss: 1.2856e-04 - val_mean_absolute_error: 0.0083 - val_mean_squared_error: 1.2856e-04 - val_mean_absolute_percentage_error: 1.2758\n",
            "Epoch 198/200\n",
            "2908/2908 [==============================] - 0s 63us/step - loss: 1.0711e-04 - mean_absolute_error: 0.0075 - mean_squared_error: 1.0711e-04 - mean_absolute_percentage_error: 3832.7930 - val_loss: 5.6412e-04 - val_mean_absolute_error: 0.0203 - val_mean_squared_error: 5.6412e-04 - val_mean_absolute_percentage_error: 2.7578\n",
            "Epoch 199/200\n",
            "2908/2908 [==============================] - 0s 63us/step - loss: 1.1768e-04 - mean_absolute_error: 0.0079 - mean_squared_error: 1.1768e-04 - mean_absolute_percentage_error: 4012.6947 - val_loss: 7.2668e-04 - val_mean_absolute_error: 0.0236 - val_mean_squared_error: 7.2668e-04 - val_mean_absolute_percentage_error: 3.2201\n",
            "Epoch 200/200\n",
            "2908/2908 [==============================] - 0s 64us/step - loss: 1.3090e-04 - mean_absolute_error: 0.0086 - mean_squared_error: 1.3090e-04 - mean_absolute_percentage_error: 4919.3815 - val_loss: 2.0244e-04 - val_mean_absolute_error: 0.0111 - val_mean_squared_error: 2.0244e-04 - val_mean_absolute_percentage_error: 1.5763\n"
          ],
          "name": "stdout"
        }
      ]
    },
    {
      "cell_type": "code",
      "metadata": {
        "id": "hTdZGsw2_g9S",
        "colab_type": "code",
        "colab": {
          "base_uri": "https://localhost:8080/",
          "height": 295
        },
        "outputId": "cc04ef40-84b8-4c22-826e-3b9af97795b3"
      },
      "source": [
        "# summarize history for accuracy\n",
        "plt.plot(model_history.history['mean_squared_error'])\n",
        "plt.plot(model_history.history['val_mean_squared_error'])\n",
        "plt.title('LSTM MSE')\n",
        "plt.ylabel('MSE')\n",
        "plt.xlabel('epoch')\n",
        "plt.legend(['train', 'test'], loc='upper left')\n",
        "plt.show()"
      ],
      "execution_count": 25,
      "outputs": [
        {
          "output_type": "display_data",
          "data": {
            "image/png": "[encoded data removed]",
            "text/plain": [
              "<Figure size 432x288 with 1 Axes>"
            ]
          },
          "metadata": {
            "tags": []
          }
        }
      ]
    },
    {
      "cell_type": "code",
      "metadata": {
        "id": "Hrvy6vgw_nSF",
        "colab_type": "code",
        "colab": {
          "base_uri": "https://localhost:8080/",
          "height": 295
        },
        "outputId": "f74d82fd-5ce1-4fca-ee50-3f3672ac8f30"
      },
      "source": [
        "# summarize history for loss\n",
        "plt.plot(model_history.history['loss'])\n",
        "plt.plot(model_history.history['val_loss'])\n",
        "plt.title('LSTM loss')\n",
        "plt.ylabel('loss')\n",
        "plt.xlabel('epoch')\n",
        "plt.legend(['train', 'test'], loc='upper left')\n",
        "plt.show()"
      ],
      "execution_count": 27,
      "outputs": [
        {
          "output_type": "display_data",
          "data": {
            "image/png": "[encoded data removed]",
            "text/plain": [
              "<Figure size 432x288 with 1 Axes>"
            ]
          },
          "metadata": {
            "tags": []
          }
        }
      ]
    },
    {
      "cell_type": "code",
      "metadata": {
        "id": "ISSWJ1bp_nX-",
        "colab_type": "code",
        "colab": {}
      },
      "source": [
        "# Make predictions\n",
        "trainPredict = model.predict(trainX)\n",
        "testPredict = model.predict(testX)"
      ],
      "execution_count": 0,
      "outputs": []
    },
    {
      "cell_type": "code",
      "metadata": {
        "id": "hYrx-LCM_ndU",
        "colab_type": "code",
        "colab": {}
      },
      "source": [
        "# Shift train predictions for plotting\n",
        "trainPredictPlot = np.empty_like(close_dataset_norm)\n",
        "trainPredictPlot[:, :] = np.nan\n",
        "trainPredictPlot[look_back:len(trainPredict)+look_back, :] = trainPredict"
      ],
      "execution_count": 0,
      "outputs": []
    },
    {
      "cell_type": "code",
      "metadata": {
        "id": "s2CsAYJwAIn-",
        "colab_type": "code",
        "colab": {}
      },
      "source": [
        "# Shift test predictions for plotting\n",
        "testPredictPlot = np.empty_like(close_dataset_norm)\n",
        "testPredictPlot[:, :] = np.nan\n",
        "testPredictPlot[len(trainPredict)+(look_back*2)+1:len(close_dataset_norm)-1, :] = testPredict"
      ],
      "execution_count": 0,
      "outputs": []
    },
    {
      "cell_type": "code",
      "metadata": {
        "id": "3N6fClZdAIru",
        "colab_type": "code",
        "colab": {
          "base_uri": "https://localhost:8080/",
          "height": 323
        },
        "outputId": "844be8f0-7ce3-4582-c5df-e36425f8de6a"
      },
      "source": [
        "# Plot baseline and predictions\n",
        "plt.figure(figsize=(15,5))\n",
        "plt.plot(close_dataset_norm, color='b', label='Original Data')\n",
        "plt.plot(trainPredictPlot, color='m', label='Train Data')\n",
        "plt.plot(testPredictPlot, color='orange', label='Test Data')\n",
        "plt.legend(bbox_to_anchor=(0.65, 0.95), loc=2, borderaxespad=0.)\n",
        "plt.show()"
      ],
      "execution_count": 33,
      "outputs": [
        {
          "output_type": "display_data",
          "data": {
            "image/png": "[encoded data removed]",
            "text/plain": [
              "<Figure size 1080x360 with 1 Axes>"
            ]
          },
          "metadata": {
            "tags": []
          }
        }
      ]
    },
    {
      "cell_type": "code",
      "metadata": {
        "id": "H6qqP-SRAIxV",
        "colab_type": "code",
        "colab": {
          "base_uri": "https://localhost:8080/",
          "height": 87
        },
        "outputId": "20ff691f-00f6-481a-d0e2-44ad5718f773"
      },
      "source": [
        "scores = model.evaluate(testX, testY, verbose=0)\n",
        "lstm_mse = scores[2]\n",
        "\n",
        "print(\"%s: %.4f\" % (model.metrics_names[0], scores[0]))\n",
        "print(\"%s: %.4f\" % (model.metrics_names[1], scores[1]))\n",
        "print(\"%s: %.4f\" % (model.metrics_names[2], scores[2]))\n",
        "print(\"%s: %.4f\" % (model.metrics_names[3], scores[3]))"
      ],
      "execution_count": 34,
      "outputs": [
        {
          "output_type": "stream",
          "text": [
            "loss: 0.0002\n",
            "mean_absolute_error: 0.0111\n",
            "mean_squared_error: 0.0002\n",
            "mean_absolute_percentage_error: 1.5763\n"
          ],
          "name": "stdout"
        }
      ]
    },
    {
      "cell_type": "code",
      "metadata": {
        "id": "BQBhcPfQBNMu",
        "colab_type": "code",
        "colab": {
          "base_uri": "https://localhost:8080/",
          "height": 35
        },
        "outputId": "140bff5d-96d8-41a2-ee28-66896ffb1f46"
      },
      "source": [
        "from sklearn.metrics import mean_squared_error\n",
        "print(\"MSE : %.4f\" %(mean_squared_error(testY, testPredict)))"
      ],
      "execution_count": 35,
      "outputs": [
        {
          "output_type": "stream",
          "text": [
            "MSE : 0.0002\n"
          ],
          "name": "stdout"
        }
      ]
    },
    {
      "cell_type": "markdown",
      "metadata": {
        "id": "iijCU6IJHS-9",
        "colab_type": "text"
      },
      "source": [
        "## Dense"
      ]
    },
    {
      "cell_type": "code",
      "metadata": {
        "id": "hM1ui2L3BPK-",
        "colab_type": "code",
        "colab": {}
      },
      "source": [
        "trainX=trainX.reshape((2908, 10))"
      ],
      "execution_count": 0,
      "outputs": []
    },
    {
      "cell_type": "code",
      "metadata": {
        "id": "qhFl2iQLCZf2",
        "colab_type": "code",
        "colab": {
          "base_uri": "https://localhost:8080/",
          "height": 35
        },
        "outputId": "58a15461-bf46-4c26-9db9-e5d799bbc323"
      },
      "source": [
        "testX.shape"
      ],
      "execution_count": 45,
      "outputs": [
        {
          "output_type": "execute_result",
          "data": {
            "text/plain": [
              "(1240, 10)"
            ]
          },
          "metadata": {
            "tags": []
          },
          "execution_count": 45
        }
      ]
    },
    {
      "cell_type": "code",
      "metadata": {
        "id": "j2o1pGeYCOAw",
        "colab_type": "code",
        "colab": {}
      },
      "source": [
        "testX=testX.reshape((1240, 10))"
      ],
      "execution_count": 0,
      "outputs": []
    },
    {
      "cell_type": "code",
      "metadata": {
        "id": "eU21q2BJDnMV",
        "colab_type": "code",
        "colab": {
          "base_uri": "https://localhost:8080/",
          "height": 260
        },
        "outputId": "30c285d1-1c1c-4fc7-eebf-4660bf83661e"
      },
      "source": [
        "NN_model = Sequential()\n",
        "\n",
        "# The Input Layer :\n",
        "NN_model.add(Dense(16, kernel_initializer='normal',\n",
        "                       input_dim = trainX.shape[1], activation='relu'))\n",
        "\n",
        "NN_model.add(Dense(16, kernel_initializer='normal',activation='relu'))\n",
        "\n",
        "# The Output Layer :\n",
        "NN_model.add(Dense(1, kernel_initializer='normal',activation='linear'))\n",
        "\n",
        "\n",
        "# mean_squared_logarithmic_error\n",
        "# mean_absolute_error\n",
        "# mean_squared_error\n",
        "\n",
        "\n",
        "# Compile the network :\n",
        "NN_model.compile(loss='mean_squared_logarithmic_error', optimizer='rmsprop', \n",
        "                 metrics=['mae','mse','mape'])\n",
        "NN_model.summary()"
      ],
      "execution_count": 61,
      "outputs": [
        {
          "output_type": "stream",
          "text": [
            "Model: \"sequential_6\"\n",
            "_________________________________________________________________\n",
            "Layer (type)                 Output Shape              Param #   \n",
            "=================================================================\n",
            "dense_15 (Dense)             (None, 16)                176       \n",
            "_________________________________________________________________\n",
            "dense_16 (Dense)             (None, 16)                272       \n",
            "_________________________________________________________________\n",
            "dense_17 (Dense)             (None, 1)                 17        \n",
            "=================================================================\n",
            "Total params: 465\n",
            "Trainable params: 465\n",
            "Non-trainable params: 0\n",
            "_________________________________________________________________\n"
          ],
          "name": "stdout"
        }
      ]
    },
    {
      "cell_type": "code",
      "metadata": {
        "id": "smxcvMWnD04N",
        "colab_type": "code",
        "colab": {
          "base_uri": "https://localhost:8080/",
          "height": 1000
        },
        "outputId": "209a10ae-32d3-46c1-b2b0-86be16125fff"
      },
      "source": [
        "from keras.callbacks import EarlyStopping, ModelCheckpoint, ReduceLROnPlateau\n",
        "np.random.seed(1235)\n",
        "epochs = 200\n",
        "batch_size = 16\n",
        "\n",
        "reduce_lr = ReduceLROnPlateau(monitor='val_loss', factor=0.5,\n",
        "                              patience=5, min_lr=0.00001, verbose=1)\n",
        "\n",
        "checkpoint = ModelCheckpoint('best_model_e200_b16_rmsprop_net_264_512_512.h5', verbose=1, \n",
        "                             monitor='val_loss',\n",
        "                             save_best_only=True, mode='auto') \n",
        "\n",
        "early = EarlyStopping(monitor='val_loss',\n",
        "                              min_delta=0,\n",
        "                              patience=10,\n",
        "                              verbose=1, mode='auto')\n",
        "\n",
        "history = NN_model.fit(trainX, trainY,\n",
        "                    batch_size=batch_size,\n",
        "                    epochs=epochs,\n",
        "                    verbose=1,callbacks=[checkpoint, early, reduce_lr],\n",
        "                    validation_data=(testX, testY))"
      ],
      "execution_count": 62,
      "outputs": [
        {
          "output_type": "stream",
          "text": [
            "Train on 2908 samples, validate on 1240 samples\n",
            "Epoch 1/200\n",
            "2908/2908 [==============================] - 1s 301us/step - loss: 0.0162 - mean_absolute_error: 0.1022 - mean_squared_error: 0.0251 - mean_absolute_percentage_error: 13014.6741 - val_loss: 0.0011 - val_mean_absolute_error: 0.0517 - val_mean_squared_error: 0.0035 - val_mean_absolute_percentage_error: 6.7370\n",
            "\n",
            "Epoch 00001: val_loss improved from inf to 0.00107, saving model to best_model_e200_b16_rmsprop_net_264_512_512.h5\n",
            "Epoch 2/200\n",
            "2908/2908 [==============================] - 0s 84us/step - loss: 2.0666e-04 - mean_absolute_error: 0.0142 - mean_squared_error: 3.5236e-04 - mean_absolute_percentage_error: 13168.2917 - val_loss: 1.3626e-04 - val_mean_absolute_error: 0.0160 - val_mean_squared_error: 4.1604e-04 - val_mean_absolute_percentage_error: 2.3339\n",
            "\n",
            "Epoch 00002: val_loss improved from 0.00107 to 0.00014, saving model to best_model_e200_b16_rmsprop_net_264_512_512.h5\n",
            "Epoch 3/200\n",
            "2908/2908 [==============================] - 0s 87us/step - loss: 1.8934e-04 - mean_absolute_error: 0.0135 - mean_squared_error: 3.2409e-04 - mean_absolute_percentage_error: 11403.3048 - val_loss: 5.7401e-04 - val_mean_absolute_error: 0.0378 - val_mean_squared_error: 0.0018 - val_mean_absolute_percentage_error: 5.2021\n",
            "\n",
            "Epoch 00003: val_loss did not improve from 0.00014\n",
            "Epoch 4/200\n",
            "2908/2908 [==============================] - 0s 85us/step - loss: 1.8470e-04 - mean_absolute_error: 0.0136 - mean_squared_error: 3.1782e-04 - mean_absolute_percentage_error: 10637.6231 - val_loss: 1.4005e-04 - val_mean_absolute_error: 0.0166 - val_mean_squared_error: 4.3349e-04 - val_mean_absolute_percentage_error: 2.3759\n",
            "\n",
            "Epoch 00004: val_loss did not improve from 0.00014\n",
            "Epoch 5/200\n",
            "2908/2908 [==============================] - 0s 88us/step - loss: 1.7061e-04 - mean_absolute_error: 0.0129 - mean_squared_error: 2.9136e-04 - mean_absolute_percentage_error: 9927.9634 - val_loss: 1.2092e-04 - val_mean_absolute_error: 0.0151 - val_mean_squared_error: 3.6902e-04 - val_mean_absolute_percentage_error: 2.2005\n",
            "\n",
            "Epoch 00005: val_loss improved from 0.00014 to 0.00012, saving model to best_model_e200_b16_rmsprop_net_264_512_512.h5\n",
            "Epoch 6/200\n",
            "2908/2908 [==============================] - 0s 90us/step - loss: 1.6895e-04 - mean_absolute_error: 0.0128 - mean_squared_error: 2.8965e-04 - mean_absolute_percentage_error: 11194.0266 - val_loss: 2.5843e-04 - val_mean_absolute_error: 0.0245 - val_mean_squared_error: 8.2180e-04 - val_mean_absolute_percentage_error: 3.3933\n",
            "\n",
            "Epoch 00006: val_loss did not improve from 0.00012\n",
            "Epoch 7/200\n",
            "2908/2908 [==============================] - 0s 88us/step - loss: 1.6519e-04 - mean_absolute_error: 0.0128 - mean_squared_error: 2.8515e-04 - mean_absolute_percentage_error: 10900.5789 - val_loss: 1.0507e-04 - val_mean_absolute_error: 0.0140 - val_mean_squared_error: 3.1866e-04 - val_mean_absolute_percentage_error: 2.0600\n",
            "\n",
            "Epoch 00007: val_loss improved from 0.00012 to 0.00011, saving model to best_model_e200_b16_rmsprop_net_264_512_512.h5\n",
            "\n",
            "Epoch 00007: ReduceLROnPlateau reducing learning rate to 0.0005000000237487257.\n",
            "Epoch 8/200\n",
            "2908/2908 [==============================] - 0s 88us/step - loss: 1.4046e-04 - mean_absolute_error: 0.0115 - mean_squared_error: 2.3931e-04 - mean_absolute_percentage_error: 8930.3030 - val_loss: 2.7669e-04 - val_mean_absolute_error: 0.0256 - val_mean_squared_error: 8.7904e-04 - val_mean_absolute_percentage_error: 3.5457\n",
            "\n",
            "Epoch 00008: val_loss did not improve from 0.00011\n",
            "Epoch 9/200\n",
            "2908/2908 [==============================] - 0s 83us/step - loss: 1.3634e-04 - mean_absolute_error: 0.0115 - mean_squared_error: 2.3234e-04 - mean_absolute_percentage_error: 9472.1493 - val_loss: 1.7244e-04 - val_mean_absolute_error: 0.0196 - val_mean_squared_error: 5.4560e-04 - val_mean_absolute_percentage_error: 2.7436\n",
            "\n",
            "Epoch 00009: val_loss did not improve from 0.00011\n",
            "Epoch 10/200\n",
            "2908/2908 [==============================] - 0s 87us/step - loss: 1.2979e-04 - mean_absolute_error: 0.0111 - mean_squared_error: 2.2005e-04 - mean_absolute_percentage_error: 8723.6635 - val_loss: 1.7153e-04 - val_mean_absolute_error: 0.0196 - val_mean_squared_error: 5.3959e-04 - val_mean_absolute_percentage_error: 2.7584\n",
            "\n",
            "Epoch 00010: val_loss did not improve from 0.00011\n",
            "Epoch 11/200\n",
            "2908/2908 [==============================] - 0s 89us/step - loss: 1.2705e-04 - mean_absolute_error: 0.0111 - mean_squared_error: 2.1646e-04 - mean_absolute_percentage_error: 8372.5726 - val_loss: 1.2018e-04 - val_mean_absolute_error: 0.0158 - val_mean_squared_error: 3.7534e-04 - val_mean_absolute_percentage_error: 2.2477\n",
            "\n",
            "Epoch 00011: val_loss did not improve from 0.00011\n",
            "Epoch 12/200\n",
            "2908/2908 [==============================] - 0s 92us/step - loss: 1.2393e-04 - mean_absolute_error: 0.0109 - mean_squared_error: 2.1120e-04 - mean_absolute_percentage_error: 9937.8527 - val_loss: 2.0857e-04 - val_mean_absolute_error: 0.0220 - val_mean_squared_error: 6.5593e-04 - val_mean_absolute_percentage_error: 3.0855\n",
            "\n",
            "Epoch 00012: val_loss did not improve from 0.00011\n",
            "\n",
            "Epoch 00012: ReduceLROnPlateau reducing learning rate to 0.0002500000118743628.\n",
            "Epoch 13/200\n",
            "2908/2908 [==============================] - 0s 91us/step - loss: 1.1351e-04 - mean_absolute_error: 0.0104 - mean_squared_error: 1.9239e-04 - mean_absolute_percentage_error: 7907.2829 - val_loss: 8.1114e-05 - val_mean_absolute_error: 0.0118 - val_mean_squared_error: 2.3848e-04 - val_mean_absolute_percentage_error: 1.7755\n",
            "\n",
            "Epoch 00013: val_loss improved from 0.00011 to 0.00008, saving model to best_model_e200_b16_rmsprop_net_264_512_512.h5\n",
            "Epoch 14/200\n",
            "2908/2908 [==============================] - 0s 88us/step - loss: 1.1153e-04 - mean_absolute_error: 0.0102 - mean_squared_error: 1.8880e-04 - mean_absolute_percentage_error: 7891.7469 - val_loss: 1.0265e-04 - val_mean_absolute_error: 0.0144 - val_mean_squared_error: 3.1582e-04 - val_mean_absolute_percentage_error: 2.0793\n",
            "\n",
            "Epoch 00014: val_loss did not improve from 0.00008\n",
            "Epoch 15/200\n",
            "2908/2908 [==============================] - 0s 88us/step - loss: 1.1000e-04 - mean_absolute_error: 0.0102 - mean_squared_error: 1.8681e-04 - mean_absolute_percentage_error: 7984.6702 - val_loss: 7.9690e-05 - val_mean_absolute_error: 0.0119 - val_mean_squared_error: 2.3731e-04 - val_mean_absolute_percentage_error: 1.7709\n",
            "\n",
            "Epoch 00015: val_loss improved from 0.00008 to 0.00008, saving model to best_model_e200_b16_rmsprop_net_264_512_512.h5\n",
            "Epoch 16/200\n",
            "2908/2908 [==============================] - 0s 89us/step - loss: 1.0801e-04 - mean_absolute_error: 0.0101 - mean_squared_error: 1.8277e-04 - mean_absolute_percentage_error: 7456.0873 - val_loss: 7.6610e-05 - val_mean_absolute_error: 0.0115 - val_mean_squared_error: 2.2656e-04 - val_mean_absolute_percentage_error: 1.7299\n",
            "\n",
            "Epoch 00016: val_loss improved from 0.00008 to 0.00008, saving model to best_model_e200_b16_rmsprop_net_264_512_512.h5\n",
            "Epoch 17/200\n",
            "2908/2908 [==============================] - 0s 93us/step - loss: 1.0562e-04 - mean_absolute_error: 0.0100 - mean_squared_error: 1.7860e-04 - mean_absolute_percentage_error: 7186.7204 - val_loss: 1.6409e-04 - val_mean_absolute_error: 0.0193 - val_mean_squared_error: 5.1509e-04 - val_mean_absolute_percentage_error: 2.7163\n",
            "\n",
            "Epoch 00017: val_loss did not improve from 0.00008\n",
            "\n",
            "Epoch 00017: ReduceLROnPlateau reducing learning rate to 0.0001250000059371814.\n",
            "Epoch 18/200\n",
            "2908/2908 [==============================] - 0s 92us/step - loss: 1.0182e-04 - mean_absolute_error: 0.0098 - mean_squared_error: 1.7212e-04 - mean_absolute_percentage_error: 7518.5560 - val_loss: 1.1886e-04 - val_mean_absolute_error: 0.0159 - val_mean_squared_error: 3.7098e-04 - val_mean_absolute_percentage_error: 2.2665\n",
            "\n",
            "Epoch 00018: val_loss did not improve from 0.00008\n",
            "Epoch 19/200\n",
            "2908/2908 [==============================] - 0s 90us/step - loss: 1.0158e-04 - mean_absolute_error: 0.0097 - mean_squared_error: 1.7159e-04 - mean_absolute_percentage_error: 7103.3591 - val_loss: 1.2118e-04 - val_mean_absolute_error: 0.0161 - val_mean_squared_error: 3.7882e-04 - val_mean_absolute_percentage_error: 2.2910\n",
            "\n",
            "Epoch 00019: val_loss did not improve from 0.00008\n",
            "Epoch 20/200\n",
            "2908/2908 [==============================] - 0s 94us/step - loss: 1.0099e-04 - mean_absolute_error: 0.0097 - mean_squared_error: 1.7052e-04 - mean_absolute_percentage_error: 7015.0526 - val_loss: 7.7262e-05 - val_mean_absolute_error: 0.0118 - val_mean_squared_error: 2.3154e-04 - val_mean_absolute_percentage_error: 1.7492\n",
            "\n",
            "Epoch 00020: val_loss did not improve from 0.00008\n",
            "Epoch 21/200\n",
            "2908/2908 [==============================] - 0s 97us/step - loss: 9.9307e-05 - mean_absolute_error: 0.0096 - mean_squared_error: 1.6787e-04 - mean_absolute_percentage_error: 6432.1318 - val_loss: 2.2903e-04 - val_mean_absolute_error: 0.0233 - val_mean_squared_error: 7.2367e-04 - val_mean_absolute_percentage_error: 3.2578\n",
            "\n",
            "Epoch 00021: val_loss did not improve from 0.00008\n",
            "Epoch 22/200\n",
            "2908/2908 [==============================] - 0s 88us/step - loss: 9.9004e-05 - mean_absolute_error: 0.0097 - mean_squared_error: 1.6744e-04 - mean_absolute_percentage_error: 6836.0795 - val_loss: 1.0235e-04 - val_mean_absolute_error: 0.0145 - val_mean_squared_error: 3.1917e-04 - val_mean_absolute_percentage_error: 2.0678\n",
            "\n",
            "Epoch 00022: val_loss did not improve from 0.00008\n",
            "\n",
            "Epoch 00022: ReduceLROnPlateau reducing learning rate to 6.25000029685907e-05.\n",
            "Epoch 23/200\n",
            "2908/2908 [==============================] - 0s 88us/step - loss: 9.7239e-05 - mean_absolute_error: 0.0095 - mean_squared_error: 1.6417e-04 - mean_absolute_percentage_error: 7184.8814 - val_loss: 9.9871e-05 - val_mean_absolute_error: 0.0143 - val_mean_squared_error: 3.1051e-04 - val_mean_absolute_percentage_error: 2.0436\n",
            "\n",
            "Epoch 00023: val_loss did not improve from 0.00008\n",
            "Epoch 24/200\n",
            "2908/2908 [==============================] - 0s 93us/step - loss: 9.6638e-05 - mean_absolute_error: 0.0095 - mean_squared_error: 1.6309e-04 - mean_absolute_percentage_error: 7065.3747 - val_loss: 9.2940e-05 - val_mean_absolute_error: 0.0136 - val_mean_squared_error: 2.8713e-04 - val_mean_absolute_percentage_error: 1.9616\n",
            "\n",
            "Epoch 00024: val_loss did not improve from 0.00008\n",
            "Epoch 25/200\n",
            "2908/2908 [==============================] - 0s 93us/step - loss: 9.6210e-05 - mean_absolute_error: 0.0095 - mean_squared_error: 1.6222e-04 - mean_absolute_percentage_error: 6790.0185 - val_loss: 9.1279e-05 - val_mean_absolute_error: 0.0135 - val_mean_squared_error: 2.8155e-04 - val_mean_absolute_percentage_error: 1.9419\n",
            "\n",
            "Epoch 00025: val_loss did not improve from 0.00008\n",
            "Epoch 26/200\n",
            "2908/2908 [==============================] - 0s 91us/step - loss: 9.5751e-05 - mean_absolute_error: 0.0095 - mean_squared_error: 1.6160e-04 - mean_absolute_percentage_error: 6780.3779 - val_loss: 8.9502e-05 - val_mean_absolute_error: 0.0133 - val_mean_squared_error: 2.7542e-04 - val_mean_absolute_percentage_error: 1.9220\n",
            "\n",
            "Epoch 00026: val_loss did not improve from 0.00008\n",
            "Epoch 00026: early stopping\n"
          ],
          "name": "stdout"
        }
      ]
    },
    {
      "cell_type": "code",
      "metadata": {
        "id": "Novq3F5CESk_",
        "colab_type": "code",
        "colab": {}
      },
      "source": [
        "# Make predictions\n",
        "trainPredict = NN_model.predict(trainX)\n",
        "testPredict = NN_model.predict(testX)"
      ],
      "execution_count": 0,
      "outputs": []
    },
    {
      "cell_type": "code",
      "metadata": {
        "id": "5Y2O1CvyESo1",
        "colab_type": "code",
        "colab": {}
      },
      "source": [
        "# Shift train predictions for plotting\n",
        "trainPredictPlot = np.empty_like(close_dataset_norm)\n",
        "trainPredictPlot[:, :] = np.nan\n",
        "trainPredictPlot[look_back:len(trainPredict)+look_back, :] = trainPredict"
      ],
      "execution_count": 0,
      "outputs": []
    },
    {
      "cell_type": "code",
      "metadata": {
        "id": "VpZRwy-CFcxM",
        "colab_type": "code",
        "colab": {
          "base_uri": "https://localhost:8080/",
          "height": 323
        },
        "outputId": "23e11dfc-c196-452c-c4ea-faddd0c0945a"
      },
      "source": [
        "# Plot baseline and predictions\n",
        "plt.figure(figsize=(15,5))\n",
        "plt.plot(close_dataset_norm, color='b', label='Original Data')\n",
        "plt.plot(trainPredictPlot, color='m', label='Train Data')\n",
        "plt.plot(testPredictPlot, color='orange', label='Test Data')\n",
        "plt.legend(bbox_to_anchor=(0.65, 0.95), loc=2, borderaxespad=0.)\n",
        "plt.show()"
      ],
      "execution_count": 65,
      "outputs": [
        {
          "output_type": "display_data",
          "data": {
            "image/png": "[encoded data removed]",
            "text/plain": [
              "<Figure size 1080x360 with 1 Axes>"
            ]
          },
          "metadata": {
            "tags": []
          }
        }
      ]
    },
    {
      "cell_type": "code",
      "metadata": {
        "id": "m8aQLtf9Fc0r",
        "colab_type": "code",
        "colab": {
          "base_uri": "https://localhost:8080/",
          "height": 87
        },
        "outputId": "d7ba8e84-637f-4ccd-80a6-0c62342a3f31"
      },
      "source": [
        "scores = NN_model.evaluate(testX, testY, verbose=0)\n",
        "NN_model_mse = scores[2]\n",
        "\n",
        "print(\"%s: %.4f\" % (NN_model.metrics_names[0], scores[0]))\n",
        "print(\"%s: %.4f\" % (NN_model.metrics_names[1], scores[1]))\n",
        "print(\"%s: %.4f\" % (NN_model.metrics_names[2], scores[2]))\n",
        "print(\"%s: %.4f\" % (NN_model.metrics_names[3], scores[3]))"
      ],
      "execution_count": 66,
      "outputs": [
        {
          "output_type": "stream",
          "text": [
            "loss: 0.0001\n",
            "mean_absolute_error: 0.0133\n",
            "mean_squared_error: 0.0003\n",
            "mean_absolute_percentage_error: 1.9220\n"
          ],
          "name": "stdout"
        }
      ]
    },
    {
      "cell_type": "code",
      "metadata": {
        "id": "qrB6REyOFc4O",
        "colab_type": "code",
        "colab": {
          "base_uri": "https://localhost:8080/",
          "height": 35
        },
        "outputId": "3f00a171-ac17-4deb-ee1a-2c06310d2af8"
      },
      "source": [
        "from sklearn.metrics import mean_squared_error\n",
        "print(\"MSE : %.4f\" %(mean_squared_error(testY, testPredict)))"
      ],
      "execution_count": 67,
      "outputs": [
        {
          "output_type": "stream",
          "text": [
            "MSE : 0.0003\n"
          ],
          "name": "stdout"
        }
      ]
    },
    {
      "cell_type": "code",
      "metadata": {
        "id": "XGjgE67KFc-c",
        "colab_type": "code",
        "colab": {}
      },
      "source": [
        ""
      ],
      "execution_count": 0,
      "outputs": []
    },
    {
      "cell_type": "code",
      "metadata": {
        "id": "3T8WcIz8ESug",
        "colab_type": "code",
        "colab": {}
      },
      "source": [
        ""
      ],
      "execution_count": 0,
      "outputs": []
    },
    {
      "cell_type": "code",
      "metadata": {
        "id": "55b3XZi2BpvO",
        "colab_type": "code",
        "colab": {}
      },
      "source": [
        ""
      ],
      "execution_count": 0,
      "outputs": []
    },
    {
      "cell_type": "code",
      "metadata": {
        "id": "fBRUpLKYBp0R",
        "colab_type": "code",
        "colab": {}
      },
      "source": [
        ""
      ],
      "execution_count": 0,
      "outputs": []
    },
    {
      "cell_type": "code",
      "metadata": {
        "id": "QdVAy9VNBp5p",
        "colab_type": "code",
        "colab": {}
      },
      "source": [
        ""
      ],
      "execution_count": 0,
      "outputs": []
    }
  ]
}
