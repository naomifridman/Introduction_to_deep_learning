{
 "cells": [
  {
   "cell_type": "markdown",
   "metadata": {},
   "source": [
    "## Introduction to Deep Learning\n",
    "# Part 3 - Convolutional Neural networks CNN"
   ]
  },
  {
   "cell_type": "code",
   "execution_count": 178,
   "metadata": {},
   "outputs": [],
   "source": [
    "import numpy as np\n",
    "import utils_plot as uplot\n",
    "import matplotlib.gridspec as gridspec\n",
    "from sklearn.metrics import accuracy_score, log_loss\n",
    "from keras.datasets import mnist\n",
    "import matplotlib.pyplot as plt\n",
    "import matplotlib_utils as umplot\n",
    "%matplotlib inline  "
   ]
  },
  {
   "cell_type": "markdown",
   "metadata": {},
   "source": [
    "Load Mnist data-set"
   ]
  },
  {
   "cell_type": "code",
   "execution_count": 202,
   "metadata": {},
   "outputs": [
    {
     "name": "stdout",
     "output_type": "stream",
     "text": [
      "60000 train samples\n",
      "10000 test samples\n"
     ]
    }
   ],
   "source": [
    "from sklearn.utils import shuffle\n",
    "\n",
    "batch_size = 128\n",
    "num_classes = 10\n",
    "epochs = 20\n",
    "\n",
    "# the data, split between train and test sets\n",
    "(x_train, y_train), (x_test, y_test) = mnist.load_data()\n",
    "x_train, y_train = shuffle(x_train, y_train , random_state=0)\n",
    "\n",
    "x_train = x_train.astype('float32')\n",
    "x_test = x_test.astype('float32')\n",
    "x_train /= 255.\n",
    "x_test /= 255.\n",
    "print(x_train.shape[0], 'train samples')\n",
    "print(x_test.shape[0], 'test samples')"
   ]
  },
  {
   "cell_type": "markdown",
   "metadata": {},
   "source": [
    "Lets view some images and labels:"
   ]
  },
  {
   "cell_type": "code",
   "execution_count": 181,
   "metadata": {},
   "outputs": [
    {
     "name": "stdout",
     "output_type": "stream",
     "text": [
      "(28, 28)\n",
      "Lables are:  [1 2 2 9 3 6 9 8 7 0 0 3 7 0 6]\n"
     ]
    },
    {
     "data": {
      "image/png": "[encoded data removed]",
      "text/plain": [
       "<Figure size 2160x288 with 15 Axes>"
      ]
     },
     "metadata": {},
     "output_type": "display_data"
    }
   ],
   "source": [
    "print(x_train[0].shape)\n",
    "print('Lables are: ', y_train[15:30])\n",
    "umplot.show_list_images(x_train[15:30])"
   ]
  },
  {
   "cell_type": "markdown",
   "metadata": {},
   "source": [
    "Lets choose 2 images of as example to our discussion:"
   ]
  },
  {
   "cell_type": "code",
   "execution_count": 244,
   "metadata": {},
   "outputs": [
    {
     "data": {
      "image/png": "[encoded data removed]",
      "text/plain": [
       "<Figure size 288x288 with 2 Axes>"
      ]
     },
     "metadata": {},
     "output_type": "display_data"
    }
   ],
   "source": [
    "img7 = x_train[23]\n",
    "img8 = x_train[97]\n",
    "umplot.show_list_images([img7,img8])"
   ]
  },
  {
   "cell_type": "markdown",
   "metadata": {},
   "source": [
    "### Convolution as feature detector\n",
    "Convolution is actually a correlation between small part of the image and the filter. We can build a filter that represent a specific feature, horizontal edge for example. Mow we slide the filter along the image, and calculate the \"response\" or the correlation to of the filter to specific parts in the image. The output map of those responses, highlight the areas in the image that contain features which are correlated with the filter.<br>\n",
    "#### Define a filter, and convolve it with the given images.\n",
    "Lets start with a filter that detect horizontal edges."
   ]
  },
  {
   "cell_type": "code",
   "execution_count": 253,
   "metadata": {},
   "outputs": [
    {
     "name": "stdout",
     "output_type": "stream",
     "text": [
      "[[-1 -2 -1]\n",
      " [ 0  0  0]\n",
      " [ 2  1  2]]\n"
     ]
    },
    {
     "data": {
      "text/plain": [
       "<matplotlib.image.AxesImage at 0x267054eaeb8>"
      ]
     },
     "execution_count": 253,
     "metadata": {},
     "output_type": "execute_result"
    },
    {
     "data": {
      "image/png": "[encoded data removed]",
      "text/plain": [
       "<Figure size 432x288 with 1 Axes>"
      ]
     },
     "metadata": {},
     "output_type": "display_data"
    }
   ],
   "source": [
    "conv_filter1=np.array([[-1, -2,-1],\n",
    "       [0,0, 0],\n",
    "       [2, 1, 2]])\n",
    "print(conv_filter1)\n",
    "plt.imshow(conv_filter1)"
   ]
  },
  {
   "cell_type": "code",
   "execution_count": 254,
   "metadata": {},
   "outputs": [],
   "source": [
    "def conv2D(image, conv_filter):\n",
    "    # as a demo code, here we ignore the shape check\n",
    "    x_row, x_col = image.shape\n",
    "    k_row, k_col = conv_filter.shape\n",
    "    ret_row, ret_col = x_row - k_row + 1, x_col - k_col + 1\n",
    "    ret = np.zeros((ret_row, ret_col))\n",
    "    for y in range(ret_row):\n",
    "        for x in range(ret_col):\n",
    "            sub = image[y : y + k_row, x : x + k_col]\n",
    "            ret[y,x] = np.sum(sub * conv_filter)\n",
    "    return ret\n",
    "\n",
    "def conv2D_list(images, conv_filter):\n",
    "    ret=[]\n",
    "    for im in images:\n",
    "        ret.append(conv2D(im, conv_filter))\n",
    "    return ret"
   ]
  },
  {
   "cell_type": "code",
   "execution_count": 255,
   "metadata": {},
   "outputs": [
    {
     "data": {
      "image/png": "[encoded data removed]",
      "text/plain": [
       "<Figure size 288x288 with 2 Axes>"
      ]
     },
     "metadata": {},
     "output_type": "display_data"
    }
   ],
   "source": [
    "conv_image = conv2D_list([img7, img8], conv_filter1)\n",
    "umplot.show_list_images(conv_image)"
   ]
  },
  {
   "cell_type": "markdown",
   "metadata": {},
   "source": [
    "The transpose of this filter, will be a filter as well, that will detect the vertical edges."
   ]
  },
  {
   "cell_type": "code",
   "execution_count": 257,
   "metadata": {},
   "outputs": [
    {
     "data": {
      "image/png": "[encoded data removed]",
      "text/plain": [
       "<Figure size 288x288 with 2 Axes>"
      ]
     },
     "metadata": {},
     "output_type": "display_data"
    }
   ],
   "source": [
    "conv_image = conv2D_list([img7, img8], conv_filter1.T)\n",
    "umplot.show_list_images(conv_image)"
   ]
  },
  {
   "cell_type": "markdown",
   "metadata": {},
   "source": [
    "This way we can continue and design different features, to detect diagonals, specific corners,etc. Lets design few more edges."
   ]
  },
  {
   "cell_type": "code",
   "execution_count": 360,
   "metadata": {},
   "outputs": [],
   "source": [
    "conv_filter = []\n",
    "conv_filter.append(conv_filter1)\n",
    "conv_filter.append(conv_filter1.T)"
   ]
  },
  {
   "cell_type": "code",
   "execution_count": 361,
   "metadata": {},
   "outputs": [],
   "source": [
    "cfilter=np.array([[0.5, 1,0],\n",
    "       [-1.5,2, 2],\n",
    "       [-2, -1, 1]])\n",
    "conv_filter.append(cfilter)"
   ]
  },
  {
   "cell_type": "code",
   "execution_count": 362,
   "metadata": {},
   "outputs": [],
   "source": [
    "cfilter=np.array([[1, 1.5,2],\n",
    "       [-2,1, 1.5],\n",
    "       [-1.5, -2,1]])\n",
    "conv_filter.append(cfilter)\n",
    "conv_filter.append(cfilter.T)"
   ]
  },
  {
   "cell_type": "code",
   "execution_count": 363,
   "metadata": {},
   "outputs": [],
   "source": [
    "cfilter=np.array([[-1, -1.5,-2],\n",
    "       [-2,0.5, 1.5],\n",
    "       [1, 2, 2]])\n",
    "conv_filter.append(cfilter)\n",
    "conv_filter.append(cfilter.T)"
   ]
  },
  {
   "cell_type": "markdown",
   "metadata": {},
   "source": [
    "Lets view the filters we built and their convolution with the example images. "
   ]
  },
  {
   "cell_type": "code",
   "execution_count": 364,
   "metadata": {},
   "outputs": [
    {
     "data": {
      "image/png": "[encoded data removed]",
      "text/plain": [
       "<Figure size 1008x288 with 7 Axes>"
      ]
     },
     "metadata": {},
     "output_type": "display_data"
    },
    {
     "data": {
      "image/png": "[encoded data removed]",
      "text/plain": [
       "<Figure size 1008x288 with 7 Axes>"
      ]
     },
     "metadata": {},
     "output_type": "display_data"
    }
   ],
   "source": [
    "conv_image =[]\n",
    "for f in conv_filter:\n",
    "    conv_image.append(conv2D(img8, f))\n",
    "umplot.show_list_images(conv_filter)\n",
    "umplot.show_list_images(conv_image)"
   ]
  },
  {
   "cell_type": "code",
   "execution_count": 368,
   "metadata": {},
   "outputs": [
    {
     "data": {
      "image/png": "[encoded data removed]",
      "text/plain": [
       "<Figure size 1008x288 with 7 Axes>"
      ]
     },
     "metadata": {},
     "output_type": "display_data"
    }
   ],
   "source": [
    "conv_image =[]\n",
    "for f in conv_filter:\n",
    "    conv_image.append(conv2D(img7, f))\n",
    "umplot.show_list_images(conv_image)"
   ]
  },
  {
   "cell_type": "markdown",
   "metadata": {},
   "source": [
    "To collect the information from the feature map of each filter, we can run another set of filter's on the feature map's. Lets view  the convolution of one of the filters with the feature map of the first step."
   ]
  },
  {
   "cell_type": "code",
   "execution_count": 373,
   "metadata": {},
   "outputs": [
    {
     "data": {
      "image/png": "[encoded data removed]",
      "text/plain": [
       "<Figure size 1008x288 with 7 Axes>"
      ]
     },
     "metadata": {},
     "output_type": "display_data"
    }
   ],
   "source": [
    "conv_image7 =[]\n",
    "for im in conv_image:\n",
    "    conv_image7.append(conv2D(im, conv_filter[0]))\n",
    "umplot.show_list_images(conv_image7)"
   ]
  },
  {
   "cell_type": "markdown",
   "metadata": {},
   "source": [
    "The performance of a convolutional neural networks, relies on the right filters. So, the idea here is that those filter's will be learn from the data, with the gradient decent method of decreasing the error with backpropogation.<br>\n",
    "Up to here,we discussed the basic intuition to convolutional networks. lets start describing the scheme of building practical convolutional networks. Following are some basic definitions:"
   ]
  },
  {
   "cell_type": "markdown",
   "metadata": {},
   "source": [
    "## 2D Convolutional neural networks building blocks\n",
    "### Stride parameter\n",
    "Until now we slided the filter,with steps of 1. But we can slide the filter in larger steps. The size of the sliding step, is the stride parameter. Default value is 1.\n",
    "### Padding parameter\n",
    "When we convolved a filter of size 3x3 with image size 28x28, the result was 26x26 image. If we don't want to decrease the size after each convolution, we can pad zeros for example, around the image,prior to convulution, to control the output size. Keras has \"same\" value for padding, that takes care that output size, will be the same as input.\n",
    "### Stride parameter\n",
    "Until now we slided the filter,with steps of 1. But we can slide the filter in larger steps. The size of the sliding step, is the stride parameter. Default value is 1.\n",
    "### Convolution layer\n",
    "Convolution layer, contain given number of filters, say F. each filter is convolving with the input image, all channels of it, and create feature map. So the output will be a stack of F feature maps, one per each filter. The size of the feature map's depends on the padding, stride and filter size.\n",
    "### Maxpooling layer\n",
    "Maxpooling layer, id a down-sampling layer. It helps prevent overfitting, and it decrease the size of the layer downwards to the number of classes we want to classify.<br>\n",
    "In Maxpooling layer, we define a mask of size nxn, slide the mask over the feature maps, and choose the maximal number in the mask.\n"
   ]
  },
  {
   "cell_type": "markdown",
   "metadata": {},
   "source": [
    "### Basic structure of Convolutional neural network\n",
    "* Input layer - the input image, with defined padding.\n",
    "* convolution block's -which are built from convolution and maxpooling layers.\n",
    "* Dense Block - built from dense and droput layers,usually applied on flatten convolution output. Last layer for classification task is usually Softmax."
   ]
  },
  {
   "cell_type": "markdown",
   "metadata": {},
   "source": [
    "## The Keras network for Mnist classification"
   ]
  },
  {
   "cell_type": "code",
   "execution_count": 374,
   "metadata": {},
   "outputs": [],
   "source": [
    "import keras\n",
    "# Keras has many build in data sets\n",
    "from keras.datasets import mnist\n",
    "# Sequential is the basic feed forward neural network (FFN)\n",
    "from keras.models import Sequential\n",
    "# Dense is fully connected layer\n",
    "# Dropout is a \"noising\" layer, to prevent over feet.\n",
    "from keras.layers import Dense, Dropout, Conv2D, MaxPooling2D\n",
    "# Read about optimizers in keras documentation\n",
    "from keras.optimizers import RMSprop"
   ]
  },
  {
   "cell_type": "code",
   "execution_count": 375,
   "metadata": {},
   "outputs": [],
   "source": [
    "# convert class vectors to binary class matrices\n",
    "# create \"dummy\" variables for each category\n",
    "y_train = keras.utils.to_categorical(y_train, num_classes)\n",
    "y_test = keras.utils.to_categorical(y_test, num_classes)"
   ]
  },
  {
   "cell_type": "code",
   "execution_count": 376,
   "metadata": {},
   "outputs": [],
   "source": [
    "x_train = x_train.reshape(x_train.shape[0], 28, 28, 1)\n",
    "x_test = x_test.reshape(x_test.shape[0], 28, 28, 1)"
   ]
  },
  {
   "cell_type": "code",
   "execution_count": 377,
   "metadata": {},
   "outputs": [
    {
     "name": "stdout",
     "output_type": "stream",
     "text": [
      "_________________________________________________________________\n",
      "Layer (type)                 Output Shape              Param #   \n",
      "=================================================================\n",
      "conv2d_20 (Conv2D)           (None, 26, 26, 32)        320       \n",
      "_________________________________________________________________\n",
      "conv2d_21 (Conv2D)           (None, 24, 24, 64)        18496     \n",
      "_________________________________________________________________\n",
      "max_pooling2d_6 (MaxPooling2 (None, 12, 12, 64)        0         \n",
      "_________________________________________________________________\n",
      "dropout_11 (Dropout)         (None, 12, 12, 64)        0         \n",
      "_________________________________________________________________\n",
      "flatten_6 (Flatten)          (None, 9216)              0         \n",
      "_________________________________________________________________\n",
      "dense_11 (Dense)             (None, 128)               1179776   \n",
      "_________________________________________________________________\n",
      "dropout_12 (Dropout)         (None, 128)               0         \n",
      "_________________________________________________________________\n",
      "dense_12 (Dense)             (None, 10)                1290      \n",
      "=================================================================\n",
      "Total params: 1,199,882\n",
      "Trainable params: 1,199,882\n",
      "Non-trainable params: 0\n",
      "_________________________________________________________________\n"
     ]
    }
   ],
   "source": [
    "model = Sequential()\n",
    "model.add(Conv2D(32, kernel_size=(3, 3),\n",
    "                 activation='relu',\n",
    "                 input_shape=x_train[0].shape)) #input_shape))\n",
    "model.add(Conv2D(64, (3, 3), activation='relu'))\n",
    "model.add(MaxPooling2D(pool_size=(2, 2)))\n",
    "model.add(Dropout(0.25))\n",
    "model.add(Flatten())\n",
    "model.add(Dense(128, activation='relu'))\n",
    "model.add(Dropout(0.5))\n",
    "model.add(Dense(num_classes, activation='softmax'))\n",
    "model.summary()"
   ]
  },
  {
   "cell_type": "code",
   "execution_count": 198,
   "metadata": {},
   "outputs": [
    {
     "name": "stdout",
     "output_type": "stream",
     "text": [
      "Train on 2000 samples, validate on 2000 samples\n",
      "Epoch 1/20\n",
      "2000/2000 [==============================] - 7s 4ms/step - loss: 1.7233 - acc: 0.4355 - val_loss: 0.9731 - val_acc: 0.6650\n",
      "Epoch 2/20\n",
      "2000/2000 [==============================] - 7s 3ms/step - loss: 0.7429 - acc: 0.7610 - val_loss: 0.5202 - val_acc: 0.8450\n",
      "Epoch 3/20\n",
      "2000/2000 [==============================] - 7s 3ms/step - loss: 0.4781 - acc: 0.8435 - val_loss: 0.3516 - val_acc: 0.8960\n",
      "Epoch 4/20\n",
      "2000/2000 [==============================] - 10s 5ms/step - loss: 0.3235 - acc: 0.8985 - val_loss: 0.3273 - val_acc: 0.9040\n",
      "Epoch 5/20\n",
      "2000/2000 [==============================] - 10s 5ms/step - loss: 0.2532 - acc: 0.9180 - val_loss: 0.2932 - val_acc: 0.9135\n",
      "Epoch 6/20\n",
      "2000/2000 [==============================] - 9s 4ms/step - loss: 0.1871 - acc: 0.9370 - val_loss: 0.3093 - val_acc: 0.9015\n",
      "Epoch 7/20\n",
      "2000/2000 [==============================] - 9s 4ms/step - loss: 0.1704 - acc: 0.9440 - val_loss: 0.2273 - val_acc: 0.9280\n",
      "Epoch 8/20\n",
      "2000/2000 [==============================] - 9s 4ms/step - loss: 0.1450 - acc: 0.9565 - val_loss: 0.2292 - val_acc: 0.9325\n",
      "Epoch 9/20\n",
      "2000/2000 [==============================] - 9s 4ms/step - loss: 0.1221 - acc: 0.9610 - val_loss: 0.2145 - val_acc: 0.9385\n",
      "Epoch 10/20\n",
      "2000/2000 [==============================] - 9s 4ms/step - loss: 0.0829 - acc: 0.9740 - val_loss: 0.2198 - val_acc: 0.9380\n",
      "Epoch 11/20\n",
      "2000/2000 [==============================] - 9s 4ms/step - loss: 0.0798 - acc: 0.9780 - val_loss: 0.2089 - val_acc: 0.9405\n",
      "Epoch 12/20\n",
      "2000/2000 [==============================] - 9s 4ms/step - loss: 0.0756 - acc: 0.9770 - val_loss: 0.1956 - val_acc: 0.9445\n",
      "Epoch 13/20\n",
      "2000/2000 [==============================] - 9s 4ms/step - loss: 0.0650 - acc: 0.9785 - val_loss: 0.2108 - val_acc: 0.9390\n",
      "Epoch 14/20\n",
      "2000/2000 [==============================] - 9s 4ms/step - loss: 0.0505 - acc: 0.9845 - val_loss: 0.2096 - val_acc: 0.9425\n",
      "Epoch 15/20\n",
      "2000/2000 [==============================] - 9s 4ms/step - loss: 0.0512 - acc: 0.9855 - val_loss: 0.2168 - val_acc: 0.9415\n",
      "Epoch 16/20\n",
      "2000/2000 [==============================] - 9s 4ms/step - loss: 0.0459 - acc: 0.9830 - val_loss: 0.2143 - val_acc: 0.9460\n",
      "Epoch 17/20\n",
      "2000/2000 [==============================] - 9s 4ms/step - loss: 0.0405 - acc: 0.9845 - val_loss: 0.2009 - val_acc: 0.9460\n",
      "Epoch 18/20\n",
      "2000/2000 [==============================] - 9s 4ms/step - loss: 0.0344 - acc: 0.9910 - val_loss: 0.2070 - val_acc: 0.9490\n",
      "Epoch 19/20\n",
      "2000/2000 [==============================] - 9s 4ms/step - loss: 0.0244 - acc: 0.9935 - val_loss: 0.2164 - val_acc: 0.9485\n",
      "Epoch 20/20\n",
      "2000/2000 [==============================] - 9s 4ms/step - loss: 0.0256 - acc: 0.9925 - val_loss: 0.2146 - val_acc: 0.9485\n"
     ]
    }
   ],
   "source": [
    "model.compile(loss=keras.losses.categorical_crossentropy,\n",
    "              optimizer=keras.optimizers.Adadelta(),\n",
    "              metrics=['accuracy'])\n",
    "\n",
    "history = model.fit(x_train, y_train,\n",
    "          batch_size=batch_size,\n",
    "          epochs=epochs,\n",
    "          verbose=1,\n",
    "          validation_data=(x_test, y_test))"
   ]
  },
  {
   "cell_type": "markdown",
   "metadata": {},
   "source": [
    "## Train Monitoring and Model evaluation"
   ]
  },
  {
   "cell_type": "code",
   "execution_count": 199,
   "metadata": {},
   "outputs": [
    {
     "name": "stdout",
     "output_type": "stream",
     "text": [
      "Test loss: 0.2146443060822785\n",
      "Test accuracy: 0.9485\n"
     ]
    }
   ],
   "source": [
    "score = model.evaluate(x_test, y_test, verbose=0)\n",
    "print('Test loss:', score[0])\n",
    "print('Test accuracy:', score[1])"
   ]
  },
  {
   "cell_type": "code",
   "execution_count": 200,
   "metadata": {},
   "outputs": [
    {
     "data": {
      "image/png": "[encoded data removed]",
      "text/plain": [
       "<Figure size 432x288 with 1 Axes>"
      ]
     },
     "metadata": {},
     "output_type": "display_data"
    }
   ],
   "source": [
    "uplot.drow_history(history, 'loss')"
   ]
  },
  {
   "cell_type": "code",
   "execution_count": 201,
   "metadata": {},
   "outputs": [
    {
     "data": {
      "image/png": "[encoded data removed]",
      "text/plain": [
       "<Figure size 432x288 with 1 Axes>"
      ]
     },
     "metadata": {},
     "output_type": "display_data"
    }
   ],
   "source": [
    "uplot.drow_history(history, 'acc')"
   ]
  },
  {
   "cell_type": "markdown",
   "metadata": {},
   "source": [
    "Sources:\n",
    "    * https://www.youtube.com/watch?v=ACU-T9L4_lI\n",
    "    * CS231n Winter 2016: Lecture 7: Convolutional Neural Networks https://www.youtube.com/watch?v=LxfUGhug-iQ\n",
    "    * Minsy data set - THE MNIST DATABASE of handwritten digits http://yann.lecun.com/exdb/mnist/\n",
    "    http://cs231n.stanford.edu Anfrej Karpathy"
   ]
  },
  {
   "cell_type": "markdown",
   "metadata": {},
   "source": [
    "### Articles:\n",
    "* Krizhevsky, A., Sutskever, I., and Hinton, G. **Imagenet\n",
    "classification with deep convolutional neural networks.** In Advances in Neural Information Processing Systems 25, pp. 1106–1114, 2012.\n",
    "* V. Nair and G. E. Hinton. **Rectified linear units improve restricted boltzmann machines.**  27th International Conference on Machine Learning, 2010.\n",
    "* D.E. RummelhartG.E. HintonR.J. Williams. **Learning Internal Representations by Error Propagation** Jan 1986 Nature.\n"
   ]
  },
  {
   "cell_type": "code",
   "execution_count": null,
   "metadata": {},
   "outputs": [],
   "source": []
  }
 ],
 "metadata": {
  "kernelspec": {
   "display_name": "Python 3",
   "language": "python",
   "name": "python3"
  },
  "language_info": {
   "codemirror_mode": {
    "name": "ipython",
    "version": 3
   },
   "file_extension": ".py",
   "mimetype": "text/x-python",
   "name": "python",
   "nbconvert_exporter": "python",
   "pygments_lexer": "ipython3",
   "version": "3.7.3"
  }
 },
 "nbformat": 4,
 "nbformat_minor": 2
}
