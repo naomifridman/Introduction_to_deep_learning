{
  "nbformat": 4,
  "nbformat_minor": 0,
  "metadata": {
    "kernelspec": {
      "name": "python3",
      "display_name": "Python 3"
    },
    "language_info": {
      "codemirror_mode": {
        "name": "ipython",
        "version": 3
      },
      "file_extension": ".py",
      "mimetype": "text/x-python",
      "name": "python",
      "nbconvert_exporter": "python",
      "pygments_lexer": "ipython3",
      "version": "3.6.6"
    },
    "colab": {
      "name": "Deep_Learning_keras_part4_train_callbacks.ipynb",
      "version": "0.3.2",
      "provenance": [],
      "include_colab_link": true
    },
    "accelerator": "GPU"
  },
  "cells": [
    {
      "cell_type": "markdown",
      "metadata": {
        "id": "view-in-github",
        "colab_type": "text"
      },
      "source": [
        "<a href=\"https://colab.research.google.com/github/naomifridman/Introduction_to_deep_learning/blob/master/Deep_Learning_keras_part4_train_callbacks.ipynb\" target=\"_parent\"><img src=\"https://colab.research.google.com/assets/colab-badge.svg\" alt=\"Open In Colab\"/></a>"
      ]
    },
    {
      "cell_type": "markdown",
      "metadata": {
        "id": "6TPJHm0iOKvN",
        "colab_type": "text"
      },
      "source": [
        "## Introduction to Deep Learning \n",
        "# Part 4 - Keras Train callbacks\n",
        "### Example Fushion Mnist data"
      ]
    },
    {
      "cell_type": "code",
      "metadata": {
        "id": "kZhItv6nOKvR",
        "colab_type": "code",
        "colab": {}
      },
      "source": [
        "import matplotlib.pyplot as plt\n",
        "import pandas as pd\n",
        "\n",
        "import numpy as np\n",
        "\n",
        "import matplotlib.gridspec as gridspec\n",
        "from sklearn.metrics import accuracy_score, log_loss\n",
        "import warnings\n",
        "warnings.filterwarnings('ignore')\n",
        "%matplotlib inline  "
      ],
      "execution_count": 0,
      "outputs": []
    },
    {
      "cell_type": "code",
      "metadata": {
        "id": "bMjswk8pOKvp",
        "colab_type": "code",
        "colab": {}
      },
      "source": [
        "from sklearn.metrics import accuracy_score\n",
        "from sklearn.metrics import confusion_matrix\n",
        "from sklearn.metrics import classification_report\n",
        "\n",
        "def print_stats(ytest, ypred):\n",
        "    \n",
        "    print(\"Accuracy: {:.5f}\".format(accuracy_score(ytest, ypred)))\n",
        "    print(\"Confusion Matrix:\")\n",
        "    print(confusion_matrix(ytest, ypred))\n",
        "    print(\"Classification Report:\")\n",
        "    print(classification_report(ytest, ypred))"
      ],
      "execution_count": 0,
      "outputs": []
    },
    {
      "cell_type": "code",
      "metadata": {
        "id": "Eq8sRWEbPLt7",
        "colab_type": "code",
        "colab": {}
      },
      "source": [
        "def show_list_images(imgs, titles=None):\n",
        "    n_img = len(imgs)\n",
        "    fig, m_axs = plt.subplots(1, n_img, figsize = (n_img*2, 4))\n",
        "    i = 0\n",
        "    for (c_im) in m_axs.T:\n",
        "        c_im.imshow(imgs[i])\n",
        "        c_im.axis('off')\n",
        "        if (titles is not None):\n",
        "            c_im.set_title(titles[i])\n",
        "        i+=1"
      ],
      "execution_count": 0,
      "outputs": []
    },
    {
      "cell_type": "code",
      "metadata": {
        "id": "WpzRJ4c-PJp1",
        "colab_type": "code",
        "colab": {}
      },
      "source": [
        "def drow_history(history, metric):\n",
        "    plt.plot(history.history[metric])\n",
        "    plt.plot(history.history['val_'+ metric])\n",
        "    plt.title('model '+metric)\n",
        "    plt.ylabel(metric)\n",
        "    plt.xlabel('epoch')\n",
        "    plt.legend(['train', 'test'], loc='upper left')\n",
        "    plt.show()    "
      ],
      "execution_count": 0,
      "outputs": []
    },
    {
      "cell_type": "markdown",
      "metadata": {
        "id": "zwQW3cBzOKwR",
        "colab_type": "text"
      },
      "source": [
        "## Keras summary\n",
        "### Sequential Model\n",
        "https://keras.io/models/sequential/\n",
        "\n",
        "### Dense layer\n",
        "https://keras.io/layers/core/\n",
        "\n",
        "### Dropout layer\n",
        "https://keras.io/layers/core/\n",
        "\n",
        "### Optimizer RMSprop, Adam, SGD\n",
        "https://keras.io/optimizers/"
      ]
    },
    {
      "cell_type": "code",
      "metadata": {
        "id": "u5qBIiSIOKwZ",
        "colab_type": "code",
        "colab": {
          "base_uri": "https://localhost:8080/",
          "height": 35
        },
        "outputId": "1082521b-d285-4eeb-dedb-682696fa7f62"
      },
      "source": [
        "import keras\n",
        "# Keras has many build in data sets\n",
        "from keras.datasets import mnist\n",
        "# Sequential is the basic feed forward neural network (FFN)\n",
        "from keras.models import Sequential\n",
        "# Dense is fully connected layer\n",
        "# Dropout is a \"noising\" layer, to prevent over feet.\n",
        "from keras.layers import Dense, Dropout\n",
        "# Read about optimizers in keras documentation\n",
        "from keras.optimizers import RMSprop"
      ],
      "execution_count": 5,
      "outputs": [
        {
          "output_type": "stream",
          "text": [
            "Using TensorFlow backend.\n"
          ],
          "name": "stderr"
        }
      ]
    },
    {
      "cell_type": "code",
      "metadata": {
        "id": "s9u9foXWOKxC",
        "colab_type": "code",
        "colab": {}
      },
      "source": [
        "from sklearn.datasets import make_moons, make_circles, make_classification\n",
        "from sklearn.preprocessing import StandardScaler\n",
        "from sklearn.model_selection import train_test_split\n",
        "from matplotlib.colors import ListedColormap\n",
        "from sklearn.metrics import accuracy_score"
      ],
      "execution_count": 0,
      "outputs": []
    },
    {
      "cell_type": "markdown",
      "metadata": {
        "id": "X2BV6y33OKxg",
        "colab_type": "text"
      },
      "source": [
        "## Classification Exercise Fashion Mnist\n",
        "https://keras.io/datasets/\n",
        "Dataset of 60,000 28x28 grayscale images of 10 fashion categories, along with a test set of 10,000 images. This dataset can be used as a drop-in replacement for MNIST. The class labels are:\n",
        "```\n",
        "* Label\tDescription\n",
        "0\tT-shirt/top\n",
        "1\tTrouser\n",
        "2\tPullover\n",
        "3\tDress\n",
        "4\tCoat\n",
        "5\tSandal\n",
        "6\tShirt\n",
        "7\tSneaker\n",
        "8\tBag\n",
        "9\tAnkle boot\n",
        "```\n",
        "\n",
        "Build the best model for this data"
      ]
    },
    {
      "cell_type": "markdown",
      "metadata": {
        "id": "7gZd_nFYOKxi",
        "colab_type": "text"
      },
      "source": [
        "## Load and Preprocess Data"
      ]
    },
    {
      "cell_type": "code",
      "metadata": {
        "id": "azzLFarzOKxu",
        "colab_type": "code",
        "colab": {
          "base_uri": "https://localhost:8080/",
          "height": 163
        },
        "outputId": "3bab6606-18b9-4756-9457-7dc3268904ea"
      },
      "source": [
        "from keras.datasets import fashion_mnist\n",
        "\n",
        "(x_train, y_train), (x_test, y_test) = fashion_mnist.load_data()"
      ],
      "execution_count": 7,
      "outputs": [
        {
          "output_type": "stream",
          "text": [
            "Downloading data from http://fashion-mnist.s3-website.eu-central-1.amazonaws.com/train-labels-idx1-ubyte.gz\n",
            "32768/29515 [=================================] - 0s 3us/step\n",
            "Downloading data from http://fashion-mnist.s3-website.eu-central-1.amazonaws.com/train-images-idx3-ubyte.gz\n",
            "26427392/26421880 [==============================] - 2s 0us/step\n",
            "Downloading data from http://fashion-mnist.s3-website.eu-central-1.amazonaws.com/t10k-labels-idx1-ubyte.gz\n",
            "8192/5148 [===============================================] - 0s 0us/step\n",
            "Downloading data from http://fashion-mnist.s3-website.eu-central-1.amazonaws.com/t10k-images-idx3-ubyte.gz\n",
            "4423680/4422102 [==============================] - 1s 0us/step\n"
          ],
          "name": "stdout"
        }
      ]
    },
    {
      "cell_type": "code",
      "metadata": {
        "id": "l8PmCkn0OKyV",
        "colab_type": "code",
        "outputId": "a4905adb-6fe5-49ee-a263-b0ca52e609ad",
        "colab": {
          "base_uri": "https://localhost:8080/",
          "height": 35
        }
      },
      "source": [
        "x_train[0].shape, x_train.shape,x_test.shape"
      ],
      "execution_count": 8,
      "outputs": [
        {
          "output_type": "execute_result",
          "data": {
            "text/plain": [
              "((28, 28), (60000, 28, 28), (10000, 28, 28))"
            ]
          },
          "metadata": {
            "tags": []
          },
          "execution_count": 8
        }
      ]
    },
    {
      "cell_type": "code",
      "metadata": {
        "id": "SFDnbiD2OKyv",
        "colab_type": "code",
        "outputId": "700f1340-c04c-4b19-f9e2-84ec1d1c0b23",
        "colab": {
          "base_uri": "https://localhost:8080/",
          "height": 178
        }
      },
      "source": [
        "imgs = [x_train[i].reshape(28,28) for i in range(100,110)]\n",
        "titles = [(\"lable {}\").format(y_train[i]) for i in range(20)]\n",
        "show_list_images(imgs, titles)"
      ],
      "execution_count": 9,
      "outputs": [
        {
          "output_type": "display_data",
          "data": {
            "image/png": "[encoded data removed]",
            "text/plain": [
              "<Figure size 1440x288 with 10 Axes>"
            ]
          },
          "metadata": {
            "tags": []
          }
        }
      ]
    },
    {
      "cell_type": "code",
      "metadata": {
        "id": "LYgmxAs0OKzZ",
        "colab_type": "code",
        "outputId": "33d86b01-8fed-48b8-e2f9-96a95f5cf214",
        "colab": {
          "base_uri": "https://localhost:8080/",
          "height": 54
        }
      },
      "source": [
        "x_train = x_train.reshape(60000, 784)\n",
        "x_test = x_test.reshape(10000, 784)\n",
        "x_train = x_train.astype('float32')\n",
        "x_test = x_test.astype('float32')\n",
        "x_train /= 255\n",
        "x_test /= 255\n",
        "print(x_train.shape[0], 'train samples')\n",
        "print(x_test.shape[0], 'test samples')"
      ],
      "execution_count": 10,
      "outputs": [
        {
          "output_type": "stream",
          "text": [
            "60000 train samples\n",
            "10000 test samples\n"
          ],
          "name": "stdout"
        }
      ]
    },
    {
      "cell_type": "code",
      "metadata": {
        "id": "kM2I9gD9OKzv",
        "colab_type": "code",
        "outputId": "db4dc71f-b062-4bc4-f3d9-6342f608a2f2",
        "colab": {
          "base_uri": "https://localhost:8080/",
          "height": 108
        }
      },
      "source": [
        "num_classes=10\n",
        "y_train = keras.utils.to_categorical(y_train, num_classes)\n",
        "y_test = keras.utils.to_categorical(y_test, num_classes)\n",
        "y_train[0:5]"
      ],
      "execution_count": 11,
      "outputs": [
        {
          "output_type": "execute_result",
          "data": {
            "text/plain": [
              "array([[0., 0., 0., 0., 0., 0., 0., 0., 0., 1.],\n",
              "       [1., 0., 0., 0., 0., 0., 0., 0., 0., 0.],\n",
              "       [1., 0., 0., 0., 0., 0., 0., 0., 0., 0.],\n",
              "       [0., 0., 0., 1., 0., 0., 0., 0., 0., 0.],\n",
              "       [1., 0., 0., 0., 0., 0., 0., 0., 0., 0.]], dtype=float32)"
            ]
          },
          "metadata": {
            "tags": []
          },
          "execution_count": 11
        }
      ]
    },
    {
      "cell_type": "markdown",
      "metadata": {
        "id": "SGypgNSlOK0d",
        "colab_type": "text"
      },
      "source": [
        "## Build Keras Basic Model"
      ]
    },
    {
      "cell_type": "code",
      "metadata": {
        "id": "KyLarqfkOK1G",
        "colab_type": "code",
        "outputId": "c41a5e9c-ee52-49db-c006-66b6aaa9c67b",
        "colab": {
          "base_uri": "https://localhost:8080/",
          "height": 272
        }
      },
      "source": [
        "def get_model():\n",
        "    model = Sequential()\n",
        "    model.add(Dense(512, activation='relu', input_shape=(784,)))\n",
        "    model.add(Dense(512, activation='relu'))\n",
        "    model.add(Dense(num_classes, activation='softmax'))\n",
        "    return model\n",
        "\n",
        "model=get_model()\n",
        "model.summary()\n",
        "\n",
        "model.compile(loss='categorical_crossentropy',\n",
        "              optimizer=RMSprop(),\n",
        "              metrics=['accuracy'])"
      ],
      "execution_count": 15,
      "outputs": [
        {
          "output_type": "stream",
          "text": [
            "Model: \"sequential_2\"\n",
            "_________________________________________________________________\n",
            "Layer (type)                 Output Shape              Param #   \n",
            "=================================================================\n",
            "dense_4 (Dense)              (None, 512)               401920    \n",
            "_________________________________________________________________\n",
            "dense_5 (Dense)              (None, 512)               262656    \n",
            "_________________________________________________________________\n",
            "dense_6 (Dense)              (None, 10)                5130      \n",
            "=================================================================\n",
            "Total params: 669,706\n",
            "Trainable params: 669,706\n",
            "Non-trainable params: 0\n",
            "_________________________________________________________________\n"
          ],
          "name": "stdout"
        }
      ]
    },
    {
      "cell_type": "code",
      "metadata": {
        "id": "pnHP2_-AOK1f",
        "colab_type": "code",
        "outputId": "8c810722-3a5e-4376-b777-3004ad56fa81",
        "colab": {
          "base_uri": "https://localhost:8080/",
          "height": 181
        }
      },
      "source": [
        "history = model.fit(x_train, y_train,\n",
        "                    batch_size=40,\n",
        "                    epochs=4,\n",
        "                    verbose=1,\n",
        "                    validation_data=(x_test, y_test))"
      ],
      "execution_count": 16,
      "outputs": [
        {
          "output_type": "stream",
          "text": [
            "Train on 60000 samples, validate on 10000 samples\n",
            "Epoch 1/4\n",
            "60000/60000 [==============================] - 8s 139us/step - loss: 0.5052 - acc: 0.8185 - val_loss: 0.4407 - val_acc: 0.8438\n",
            "Epoch 2/4\n",
            "60000/60000 [==============================] - 8s 135us/step - loss: 0.3997 - acc: 0.8598 - val_loss: 0.3968 - val_acc: 0.8598\n",
            "Epoch 3/4\n",
            "60000/60000 [==============================] - 8s 136us/step - loss: 0.3757 - acc: 0.8701 - val_loss: 0.4713 - val_acc: 0.8434\n",
            "Epoch 4/4\n",
            "60000/60000 [==============================] - 8s 136us/step - loss: 0.3617 - acc: 0.8768 - val_loss: 0.4344 - val_acc: 0.8592\n"
          ],
          "name": "stdout"
        }
      ]
    },
    {
      "cell_type": "code",
      "metadata": {
        "id": "sF_8Yd-YOK1x",
        "colab_type": "code",
        "outputId": "89e1642c-6b23-48dc-8252-e0646274cf13",
        "colab": {
          "base_uri": "https://localhost:8080/",
          "height": 573
        }
      },
      "source": [
        "drow_history(history, 'loss')\n",
        "drow_history(history, 'acc')"
      ],
      "execution_count": 17,
      "outputs": [
        {
          "output_type": "display_data",
          "data": {
            "image/png": "[encoded data removed]",
            "text/plain": [
              "<Figure size 432x288 with 1 Axes>"
            ]
          },
          "metadata": {
            "tags": []
          }
        },
        {
          "output_type": "display_data",
          "data": {
            "image/png": "[encoded data removed]",
            "text/plain": [
              "<Figure size 432x288 with 1 Axes>"
            ]
          },
          "metadata": {
            "tags": []
          }
        }
      ]
    },
    {
      "cell_type": "markdown",
      "metadata": {
        "id": "KKZX58JGOK2V",
        "colab_type": "text"
      },
      "source": [
        "## Evaluate"
      ]
    },
    {
      "cell_type": "code",
      "metadata": {
        "id": "pOpsmb6XOK2l",
        "colab_type": "code",
        "outputId": "843785c7-e36f-48a1-d89c-214d02efe3dd",
        "colab": {
          "base_uri": "https://localhost:8080/",
          "height": 54
        }
      },
      "source": [
        "score = model.evaluate(x_test, y_test, verbose=0)\n",
        "print('Test loss:', score[0])\n",
        "print('Test accuracy:', score[1])"
      ],
      "execution_count": 18,
      "outputs": [
        {
          "output_type": "stream",
          "text": [
            "Test loss: 0.4344308448433876\n",
            "Test accuracy: 0.8592\n"
          ],
          "name": "stdout"
        }
      ]
    },
    {
      "cell_type": "markdown",
      "metadata": {
        "id": "_P5zwQ0wOK3Q",
        "colab_type": "text"
      },
      "source": [
        "## Predict"
      ]
    },
    {
      "cell_type": "code",
      "metadata": {
        "id": "2eQ2E-fNOK3S",
        "colab_type": "code",
        "outputId": "53cf0332-171f-4331-d6f4-636ea05fda32",
        "colab": {
          "base_uri": "https://localhost:8080/",
          "height": 290
        }
      },
      "source": [
        "pred_test = model.predict(x_test)\n",
        "pred_test[0:5]"
      ],
      "execution_count": 19,
      "outputs": [
        {
          "output_type": "execute_result",
          "data": {
            "text/plain": [
              "array([[7.7835853e-09, 4.5823411e-11, 2.1200233e-08, 2.8843166e-09,\n",
              "        4.8735571e-09, 1.4115536e-02, 1.3823315e-07, 1.2286642e-02,\n",
              "        3.1321056e-07, 9.7359735e-01],\n",
              "       [1.2767391e-07, 4.9584055e-17, 9.9994624e-01, 1.6741096e-11,\n",
              "        2.2617141e-05, 3.4308292e-17, 3.1038602e-05, 1.2770224e-19,\n",
              "        4.5323784e-12, 3.0635242e-18],\n",
              "       [7.7411751e-32, 1.0000000e+00, 1.9398484e-36, 8.4954985e-25,\n",
              "        1.6125508e-38, 0.0000000e+00, 3.6318639e-36, 0.0000000e+00,\n",
              "        0.0000000e+00, 0.0000000e+00],\n",
              "       [3.6633983e-34, 1.0000000e+00, 0.0000000e+00, 2.7174607e-24,\n",
              "        0.0000000e+00, 0.0000000e+00, 0.0000000e+00, 0.0000000e+00,\n",
              "        0.0000000e+00, 0.0000000e+00],\n",
              "       [2.5374037e-01, 7.5791190e-06, 2.3574477e-01, 5.4945266e-03,\n",
              "        1.0437249e-02, 9.4554234e-06, 4.9092591e-01, 1.3413891e-06,\n",
              "        3.6380105e-03, 6.5928805e-07]], dtype=float32)"
            ]
          },
          "metadata": {
            "tags": []
          },
          "execution_count": 19
        }
      ]
    },
    {
      "cell_type": "code",
      "metadata": {
        "id": "gGIX5KPnOK33",
        "colab_type": "code",
        "outputId": "3dee981c-1e52-4647-9dd5-13173c590584",
        "colab": {
          "base_uri": "https://localhost:8080/",
          "height": 217
        }
      },
      "source": [
        "y_pred_test=np.argmax(pred_test, axis=1)\n",
        "y_pred_test[0:10], y_test[0:10]"
      ],
      "execution_count": 20,
      "outputs": [
        {
          "output_type": "execute_result",
          "data": {
            "text/plain": [
              "(array([9, 2, 1, 1, 6, 1, 4, 6, 5, 7]),\n",
              " array([[0., 0., 0., 0., 0., 0., 0., 0., 0., 1.],\n",
              "        [0., 0., 1., 0., 0., 0., 0., 0., 0., 0.],\n",
              "        [0., 1., 0., 0., 0., 0., 0., 0., 0., 0.],\n",
              "        [0., 1., 0., 0., 0., 0., 0., 0., 0., 0.],\n",
              "        [0., 0., 0., 0., 0., 0., 1., 0., 0., 0.],\n",
              "        [0., 1., 0., 0., 0., 0., 0., 0., 0., 0.],\n",
              "        [0., 0., 0., 0., 1., 0., 0., 0., 0., 0.],\n",
              "        [0., 0., 0., 0., 0., 0., 1., 0., 0., 0.],\n",
              "        [0., 0., 0., 0., 0., 1., 0., 0., 0., 0.],\n",
              "        [0., 0., 0., 0., 0., 0., 0., 1., 0., 0.]], dtype=float32))"
            ]
          },
          "metadata": {
            "tags": []
          },
          "execution_count": 20
        }
      ]
    },
    {
      "cell_type": "code",
      "metadata": {
        "id": "dWdNdrX-OK4k",
        "colab_type": "code",
        "outputId": "8cbb1764-7287-46f9-a8f5-4eb2d4472116",
        "colab": {
          "base_uri": "https://localhost:8080/",
          "height": 35
        }
      },
      "source": [
        "pred_test = model.predict_classes(x_test)\n",
        "pred_test[0:5]"
      ],
      "execution_count": 21,
      "outputs": [
        {
          "output_type": "execute_result",
          "data": {
            "text/plain": [
              "array([9, 2, 1, 1, 6])"
            ]
          },
          "metadata": {
            "tags": []
          },
          "execution_count": 21
        }
      ]
    },
    {
      "cell_type": "code",
      "metadata": {
        "scrolled": false,
        "id": "cXPlt3wFOK4_",
        "colab_type": "code",
        "outputId": "0466ccf5-b884-4027-c22d-a242e86eec1b",
        "colab": {
          "base_uri": "https://localhost:8080/",
          "height": 563
        }
      },
      "source": [
        "print_stats(np.argmax(y_test, axis=1),y_pred_test )"
      ],
      "execution_count": 22,
      "outputs": [
        {
          "output_type": "stream",
          "text": [
            "Accuracy: 0.85920\n",
            "Confusion Matrix:\n",
            "[[752   0  40  66   5   1 126   0  10   0]\n",
            " [  0 959  10  25   3   0   2   0   1   0]\n",
            " [  5   0 899  11  65   0  19   0   1   0]\n",
            " [ 16   8  24 895  38   0  13   0   6   0]\n",
            " [  0   0 215  29 735   0  21   0   0   0]\n",
            " [  0   0   0   2   0 967   0  11   2  18]\n",
            " [106   0 210  48  82   0 544   0  10   0]\n",
            " [  0   0   0   0   0  32   0 902   0  66]\n",
            " [  1   0  12   5   4   2   2   3 971   0]\n",
            " [  0   1   0   0   0   7   1  23   0 968]]\n",
            "Classification Report:\n",
            "              precision    recall  f1-score   support\n",
            "\n",
            "           0       0.85      0.75      0.80      1000\n",
            "           1       0.99      0.96      0.97      1000\n",
            "           2       0.64      0.90      0.75      1000\n",
            "           3       0.83      0.90      0.86      1000\n",
            "           4       0.79      0.73      0.76      1000\n",
            "           5       0.96      0.97      0.96      1000\n",
            "           6       0.75      0.54      0.63      1000\n",
            "           7       0.96      0.90      0.93      1000\n",
            "           8       0.97      0.97      0.97      1000\n",
            "           9       0.92      0.97      0.94      1000\n",
            "\n",
            "    accuracy                           0.86     10000\n",
            "   macro avg       0.87      0.86      0.86     10000\n",
            "weighted avg       0.87      0.86      0.86     10000\n",
            "\n"
          ],
          "name": "stdout"
        }
      ]
    },
    {
      "cell_type": "markdown",
      "metadata": {
        "id": "zATAMIV2OK5i",
        "colab_type": "text"
      },
      "source": [
        "# Keras callbacks\n",
        "* https://keras.io/callbacks/"
      ]
    },
    {
      "cell_type": "code",
      "metadata": {
        "id": "QTSHVKudOK5v",
        "colab_type": "code",
        "colab": {}
      },
      "source": [
        "from keras.callbacks import EarlyStopping, ModelCheckpoint, ReduceLROnPlateau\n",
        "\n",
        "\n",
        "earlystopper = EarlyStopping(patience=9, monitor='val_acc', verbose=1)\n",
        "\n",
        "filepath=\".\\\\model_acc_epoch_{epoch:03d}-acc_{acc:.3f}_loss_{loss:.3f}.hdf5\"\n",
        "checkpoint1 = ModelCheckpoint(filepath, monitor='acc', verbose=1, \n",
        "                              save_best_only=True, mode='max',\n",
        "                             save_weights_only=True)\n",
        "\n",
        "filepath=\".\\\\model_val_acc_epoch_{epoch:03d}_val_acc_{val_acc:.4f}_val_loss_{val_loss:.4f}.hdf5\"\n",
        "checkpoint2 = ModelCheckpoint(filepath, monitor='val_acc', verbose=1, \n",
        "                              save_best_only=True, mode='max',\n",
        "                             save_weights_only=True)\n",
        "\n",
        "filepath=\".\\\\model_loss_epoch_{epoch:03d}_acc{acc:.3f}_loss{loss:.3f}.hdf5\"\n",
        "checkpoint3 = ModelCheckpoint(filepath, monitor='loss', verbose=1, \n",
        "                              save_best_only=True, mode='min',\n",
        "                             save_weights_only=True)\n",
        "\n",
        "filepath=\".\\\\model_val_loss_epoch_{epoch:03d}_val_acc{val_acc:.4f}_val_loss{val_loss:.4f}.hdf5\"\n",
        "checkpoint4 = ModelCheckpoint(filepath, monitor='val_loss', verbose=1, \n",
        "                              save_best_only=True, mode='min',\n",
        "                             save_weights_only=True)\n",
        "\n",
        "filepath=\".\\\\model_last.hdf5\"\n",
        "checkpoint5 = ModelCheckpoint(filepath, monitor='val_loss', \n",
        "                              verbose=0, save_best_only=False,\n",
        "                             save_weights_only=True)\n",
        "\n",
        "\n",
        "reduce_lr = ReduceLROnPlateau(monitor='val_loss', factor=0.5,\n",
        "                              patience=3, min_lr=0.000001, verbose=1,  cooldown=1)"
      ],
      "execution_count": 0,
      "outputs": []
    },
    {
      "cell_type": "code",
      "metadata": {
        "id": "NBdslbtaOK6E",
        "colab_type": "code",
        "colab": {}
      },
      "source": [
        "model=get_model()\n",
        "\n",
        "model.compile(loss='categorical_crossentropy',\n",
        "              optimizer=RMSprop(),\n",
        "              metrics=['accuracy'])"
      ],
      "execution_count": 0,
      "outputs": []
    },
    {
      "cell_type": "code",
      "metadata": {
        "id": "jJ2Ymk-UOK6_",
        "colab_type": "code",
        "outputId": "309b93da-f824-4156-8da0-0c0d630509f6",
        "colab": {
          "base_uri": "https://localhost:8080/",
          "height": 1000
        }
      },
      "source": [
        "history = model.fit(x_train, y_train,\n",
        "                    batch_size=40,\n",
        "                    epochs=100,\n",
        "                    verbose=1,\n",
        "                    validation_data=(x_test, y_test),\n",
        "                   callbacks=[earlystopper, checkpoint1, checkpoint2, checkpoint3,\n",
        "                             checkpoint4, checkpoint5, reduce_lr])"
      ],
      "execution_count": 25,
      "outputs": [
        {
          "output_type": "stream",
          "text": [
            "Train on 60000 samples, validate on 10000 samples\n",
            "Epoch 1/100\n",
            "60000/60000 [==============================] - 9s 146us/step - loss: 0.5015 - acc: 0.8195 - val_loss: 0.4262 - val_acc: 0.8503\n",
            "\n",
            "Epoch 00001: acc improved from -inf to 0.81953, saving model to .\\model_acc_epoch_001-acc_0.820_loss_0.502.hdf5\n",
            "\n",
            "Epoch 00001: val_acc improved from -inf to 0.85030, saving model to .\\model_val_acc_epoch_001_val_acc_0.8503_val_loss_0.4262.hdf5\n",
            "\n",
            "Epoch 00001: loss improved from inf to 0.50151, saving model to .\\model_loss_epoch_001_acc0.820_loss0.502.hdf5\n",
            "\n",
            "Epoch 00001: val_loss improved from inf to 0.42620, saving model to .\\model_val_loss_epoch_001_val_acc0.8503_val_loss0.4262.hdf5\n",
            "Epoch 2/100\n",
            "60000/60000 [==============================] - 8s 136us/step - loss: 0.4017 - acc: 0.8603 - val_loss: 0.4169 - val_acc: 0.8666\n",
            "\n",
            "Epoch 00002: acc improved from 0.81953 to 0.86033, saving model to .\\model_acc_epoch_002-acc_0.860_loss_0.402.hdf5\n",
            "\n",
            "Epoch 00002: val_acc improved from 0.85030 to 0.86660, saving model to .\\model_val_acc_epoch_002_val_acc_0.8666_val_loss_0.4169.hdf5\n",
            "\n",
            "Epoch 00002: loss improved from 0.50151 to 0.40169, saving model to .\\model_loss_epoch_002_acc0.860_loss0.402.hdf5\n",
            "\n",
            "Epoch 00002: val_loss improved from 0.42620 to 0.41692, saving model to .\\model_val_loss_epoch_002_val_acc0.8666_val_loss0.4169.hdf5\n",
            "Epoch 3/100\n",
            "60000/60000 [==============================] - 8s 136us/step - loss: 0.3798 - acc: 0.8690 - val_loss: 0.4043 - val_acc: 0.8667\n",
            "\n",
            "Epoch 00003: acc improved from 0.86033 to 0.86897, saving model to .\\model_acc_epoch_003-acc_0.869_loss_0.380.hdf5\n",
            "\n",
            "Epoch 00003: val_acc improved from 0.86660 to 0.86670, saving model to .\\model_val_acc_epoch_003_val_acc_0.8667_val_loss_0.4043.hdf5\n",
            "\n",
            "Epoch 00003: loss improved from 0.40169 to 0.37977, saving model to .\\model_loss_epoch_003_acc0.869_loss0.380.hdf5\n",
            "\n",
            "Epoch 00003: val_loss improved from 0.41692 to 0.40430, saving model to .\\model_val_loss_epoch_003_val_acc0.8667_val_loss0.4043.hdf5\n",
            "Epoch 4/100\n",
            "60000/60000 [==============================] - 8s 136us/step - loss: 0.3649 - acc: 0.8768 - val_loss: 0.4066 - val_acc: 0.8712\n",
            "\n",
            "Epoch 00004: acc improved from 0.86897 to 0.87677, saving model to .\\model_acc_epoch_004-acc_0.877_loss_0.365.hdf5\n",
            "\n",
            "Epoch 00004: val_acc improved from 0.86670 to 0.87120, saving model to .\\model_val_acc_epoch_004_val_acc_0.8712_val_loss_0.4066.hdf5\n",
            "\n",
            "Epoch 00004: loss improved from 0.37977 to 0.36485, saving model to .\\model_loss_epoch_004_acc0.877_loss0.365.hdf5\n",
            "\n",
            "Epoch 00004: val_loss did not improve from 0.40430\n",
            "Epoch 5/100\n",
            "60000/60000 [==============================] - 8s 136us/step - loss: 0.3544 - acc: 0.8797 - val_loss: 0.4504 - val_acc: 0.8571\n",
            "\n",
            "Epoch 00005: acc improved from 0.87677 to 0.87972, saving model to .\\model_acc_epoch_005-acc_0.880_loss_0.354.hdf5\n",
            "\n",
            "Epoch 00005: val_acc did not improve from 0.87120\n",
            "\n",
            "Epoch 00005: loss improved from 0.36485 to 0.35438, saving model to .\\model_loss_epoch_005_acc0.880_loss0.354.hdf5\n",
            "\n",
            "Epoch 00005: val_loss did not improve from 0.40430\n",
            "Epoch 6/100\n",
            "60000/60000 [==============================] - 8s 136us/step - loss: 0.3457 - acc: 0.8840 - val_loss: 0.4602 - val_acc: 0.8639\n",
            "\n",
            "Epoch 00006: acc improved from 0.87972 to 0.88400, saving model to .\\model_acc_epoch_006-acc_0.884_loss_0.346.hdf5\n",
            "\n",
            "Epoch 00006: val_acc did not improve from 0.87120\n",
            "\n",
            "Epoch 00006: loss improved from 0.35438 to 0.34568, saving model to .\\model_loss_epoch_006_acc0.884_loss0.346.hdf5\n",
            "\n",
            "Epoch 00006: val_loss did not improve from 0.40430\n",
            "\n",
            "Epoch 00006: ReduceLROnPlateau reducing learning rate to 0.0005000000237487257.\n",
            "Epoch 7/100\n",
            "60000/60000 [==============================] - 8s 137us/step - loss: 0.2907 - acc: 0.9008 - val_loss: 0.3992 - val_acc: 0.8775\n",
            "\n",
            "Epoch 00007: acc improved from 0.88400 to 0.90080, saving model to .\\model_acc_epoch_007-acc_0.901_loss_0.291.hdf5\n",
            "\n",
            "Epoch 00007: val_acc improved from 0.87120 to 0.87750, saving model to .\\model_val_acc_epoch_007_val_acc_0.8775_val_loss_0.3992.hdf5\n",
            "\n",
            "Epoch 00007: loss improved from 0.34568 to 0.29071, saving model to .\\model_loss_epoch_007_acc0.901_loss0.291.hdf5\n",
            "\n",
            "Epoch 00007: val_loss improved from 0.40430 to 0.39922, saving model to .\\model_val_loss_epoch_007_val_acc0.8775_val_loss0.3992.hdf5\n",
            "Epoch 8/100\n",
            "60000/60000 [==============================] - 8s 135us/step - loss: 0.2832 - acc: 0.9047 - val_loss: 0.4381 - val_acc: 0.8761\n",
            "\n",
            "Epoch 00008: acc improved from 0.90080 to 0.90468, saving model to .\\model_acc_epoch_008-acc_0.905_loss_0.283.hdf5\n",
            "\n",
            "Epoch 00008: val_acc did not improve from 0.87750\n",
            "\n",
            "Epoch 00008: loss improved from 0.29071 to 0.28324, saving model to .\\model_loss_epoch_008_acc0.905_loss0.283.hdf5\n",
            "\n",
            "Epoch 00008: val_loss did not improve from 0.39922\n",
            "Epoch 9/100\n",
            "60000/60000 [==============================] - 9s 143us/step - loss: 0.2789 - acc: 0.9062 - val_loss: 0.4460 - val_acc: 0.8799\n",
            "\n",
            "Epoch 00009: acc improved from 0.90468 to 0.90620, saving model to .\\model_acc_epoch_009-acc_0.906_loss_0.279.hdf5\n",
            "\n",
            "Epoch 00009: val_acc improved from 0.87750 to 0.87990, saving model to .\\model_val_acc_epoch_009_val_acc_0.8799_val_loss_0.4460.hdf5\n",
            "\n",
            "Epoch 00009: loss improved from 0.28324 to 0.27892, saving model to .\\model_loss_epoch_009_acc0.906_loss0.279.hdf5\n",
            "\n",
            "Epoch 00009: val_loss did not improve from 0.39922\n",
            "Epoch 10/100\n",
            "60000/60000 [==============================] - 9s 144us/step - loss: 0.2761 - acc: 0.9073 - val_loss: 0.4104 - val_acc: 0.8844\n",
            "\n",
            "Epoch 00010: acc improved from 0.90620 to 0.90728, saving model to .\\model_acc_epoch_010-acc_0.907_loss_0.276.hdf5\n",
            "\n",
            "Epoch 00010: val_acc improved from 0.87990 to 0.88440, saving model to .\\model_val_acc_epoch_010_val_acc_0.8844_val_loss_0.4104.hdf5\n",
            "\n",
            "Epoch 00010: loss improved from 0.27892 to 0.27605, saving model to .\\model_loss_epoch_010_acc0.907_loss0.276.hdf5\n",
            "\n",
            "Epoch 00010: val_loss did not improve from 0.39922\n",
            "\n",
            "Epoch 00010: ReduceLROnPlateau reducing learning rate to 0.0002500000118743628.\n",
            "Epoch 11/100\n",
            "60000/60000 [==============================] - 8s 139us/step - loss: 0.2404 - acc: 0.9178 - val_loss: 0.4090 - val_acc: 0.8911\n",
            "\n",
            "Epoch 00011: acc improved from 0.90728 to 0.91782, saving model to .\\model_acc_epoch_011-acc_0.918_loss_0.240.hdf5\n",
            "\n",
            "Epoch 00011: val_acc improved from 0.88440 to 0.89110, saving model to .\\model_val_acc_epoch_011_val_acc_0.8911_val_loss_0.4090.hdf5\n",
            "\n",
            "Epoch 00011: loss improved from 0.27605 to 0.24036, saving model to .\\model_loss_epoch_011_acc0.918_loss0.240.hdf5\n",
            "\n",
            "Epoch 00011: val_loss did not improve from 0.39922\n",
            "Epoch 12/100\n",
            "60000/60000 [==============================] - 8s 137us/step - loss: 0.2359 - acc: 0.9200 - val_loss: 0.4300 - val_acc: 0.8861\n",
            "\n",
            "Epoch 00012: acc improved from 0.91782 to 0.91997, saving model to .\\model_acc_epoch_012-acc_0.920_loss_0.236.hdf5\n",
            "\n",
            "Epoch 00012: val_acc did not improve from 0.89110\n",
            "\n",
            "Epoch 00012: loss improved from 0.24036 to 0.23586, saving model to .\\model_loss_epoch_012_acc0.920_loss0.236.hdf5\n",
            "\n",
            "Epoch 00012: val_loss did not improve from 0.39922\n",
            "Epoch 13/100\n",
            "60000/60000 [==============================] - 8s 136us/step - loss: 0.2322 - acc: 0.9214 - val_loss: 0.4268 - val_acc: 0.8872\n",
            "\n",
            "Epoch 00013: acc improved from 0.91997 to 0.92137, saving model to .\\model_acc_epoch_013-acc_0.921_loss_0.232.hdf5\n",
            "\n",
            "Epoch 00013: val_acc did not improve from 0.89110\n",
            "\n",
            "Epoch 00013: loss improved from 0.23586 to 0.23216, saving model to .\\model_loss_epoch_013_acc0.921_loss0.232.hdf5\n",
            "\n",
            "Epoch 00013: val_loss did not improve from 0.39922\n",
            "\n",
            "Epoch 00013: ReduceLROnPlateau reducing learning rate to 0.0001250000059371814.\n",
            "Epoch 14/100\n",
            "60000/60000 [==============================] - 8s 138us/step - loss: 0.2138 - acc: 0.9282 - val_loss: 0.4273 - val_acc: 0.8914\n",
            "\n",
            "Epoch 00014: acc improved from 0.92137 to 0.92823, saving model to .\\model_acc_epoch_014-acc_0.928_loss_0.214.hdf5\n",
            "\n",
            "Epoch 00014: val_acc improved from 0.89110 to 0.89140, saving model to .\\model_val_acc_epoch_014_val_acc_0.8914_val_loss_0.4273.hdf5\n",
            "\n",
            "Epoch 00014: loss improved from 0.23216 to 0.21378, saving model to .\\model_loss_epoch_014_acc0.928_loss0.214.hdf5\n",
            "\n",
            "Epoch 00014: val_loss did not improve from 0.39922\n",
            "Epoch 15/100\n",
            "60000/60000 [==============================] - 8s 136us/step - loss: 0.2099 - acc: 0.9292 - val_loss: 0.4283 - val_acc: 0.8921\n",
            "\n",
            "Epoch 00015: acc improved from 0.92823 to 0.92920, saving model to .\\model_acc_epoch_015-acc_0.929_loss_0.210.hdf5\n",
            "\n",
            "Epoch 00015: val_acc improved from 0.89140 to 0.89210, saving model to .\\model_val_acc_epoch_015_val_acc_0.8921_val_loss_0.4283.hdf5\n",
            "\n",
            "Epoch 00015: loss improved from 0.21378 to 0.20990, saving model to .\\model_loss_epoch_015_acc0.929_loss0.210.hdf5\n",
            "\n",
            "Epoch 00015: val_loss did not improve from 0.39922\n",
            "Epoch 16/100\n",
            "60000/60000 [==============================] - 8s 137us/step - loss: 0.2081 - acc: 0.9304 - val_loss: 0.4292 - val_acc: 0.8919\n",
            "\n",
            "Epoch 00016: acc improved from 0.92920 to 0.93038, saving model to .\\model_acc_epoch_016-acc_0.930_loss_0.208.hdf5\n",
            "\n",
            "Epoch 00016: val_acc did not improve from 0.89210\n",
            "\n",
            "Epoch 00016: loss improved from 0.20990 to 0.20815, saving model to .\\model_loss_epoch_016_acc0.930_loss0.208.hdf5\n",
            "\n",
            "Epoch 00016: val_loss did not improve from 0.39922\n",
            "\n",
            "Epoch 00016: ReduceLROnPlateau reducing learning rate to 6.25000029685907e-05.\n",
            "Epoch 17/100\n",
            "60000/60000 [==============================] - 8s 135us/step - loss: 0.1974 - acc: 0.9338 - val_loss: 0.4478 - val_acc: 0.8940\n",
            "\n",
            "Epoch 00017: acc improved from 0.93038 to 0.93378, saving model to .\\model_acc_epoch_017-acc_0.934_loss_0.197.hdf5\n",
            "\n",
            "Epoch 00017: val_acc improved from 0.89210 to 0.89400, saving model to .\\model_val_acc_epoch_017_val_acc_0.8940_val_loss_0.4478.hdf5\n",
            "\n",
            "Epoch 00017: loss improved from 0.20815 to 0.19735, saving model to .\\model_loss_epoch_017_acc0.934_loss0.197.hdf5\n",
            "\n",
            "Epoch 00017: val_loss did not improve from 0.39922\n",
            "Epoch 18/100\n",
            "60000/60000 [==============================] - 8s 134us/step - loss: 0.1948 - acc: 0.9342 - val_loss: 0.4459 - val_acc: 0.8941\n",
            "\n",
            "Epoch 00018: acc improved from 0.93378 to 0.93418, saving model to .\\model_acc_epoch_018-acc_0.934_loss_0.195.hdf5\n",
            "\n",
            "Epoch 00018: val_acc improved from 0.89400 to 0.89410, saving model to .\\model_val_acc_epoch_018_val_acc_0.8941_val_loss_0.4459.hdf5\n",
            "\n",
            "Epoch 00018: loss improved from 0.19735 to 0.19481, saving model to .\\model_loss_epoch_018_acc0.934_loss0.195.hdf5\n",
            "\n",
            "Epoch 00018: val_loss did not improve from 0.39922\n",
            "Epoch 19/100\n",
            "60000/60000 [==============================] - 8s 136us/step - loss: 0.1929 - acc: 0.9363 - val_loss: 0.4487 - val_acc: 0.8932\n",
            "\n",
            "Epoch 00019: acc improved from 0.93418 to 0.93627, saving model to .\\model_acc_epoch_019-acc_0.936_loss_0.193.hdf5\n",
            "\n",
            "Epoch 00019: val_acc did not improve from 0.89410\n",
            "\n",
            "Epoch 00019: loss improved from 0.19481 to 0.19291, saving model to .\\model_loss_epoch_019_acc0.936_loss0.193.hdf5\n",
            "\n",
            "Epoch 00019: val_loss did not improve from 0.39922\n",
            "\n",
            "Epoch 00019: ReduceLROnPlateau reducing learning rate to 3.125000148429535e-05.\n",
            "Epoch 20/100\n",
            "60000/60000 [==============================] - 8s 135us/step - loss: 0.1885 - acc: 0.9376 - val_loss: 0.4529 - val_acc: 0.8948\n",
            "\n",
            "Epoch 00020: acc improved from 0.93627 to 0.93755, saving model to .\\model_acc_epoch_020-acc_0.938_loss_0.189.hdf5\n",
            "\n",
            "Epoch 00020: val_acc improved from 0.89410 to 0.89480, saving model to .\\model_val_acc_epoch_020_val_acc_0.8948_val_loss_0.4529.hdf5\n",
            "\n",
            "Epoch 00020: loss improved from 0.19291 to 0.18854, saving model to .\\model_loss_epoch_020_acc0.938_loss0.189.hdf5\n",
            "\n",
            "Epoch 00020: val_loss did not improve from 0.39922\n",
            "Epoch 21/100\n",
            "60000/60000 [==============================] - 8s 134us/step - loss: 0.1869 - acc: 0.9380 - val_loss: 0.4522 - val_acc: 0.8945\n",
            "\n",
            "Epoch 00021: acc improved from 0.93755 to 0.93795, saving model to .\\model_acc_epoch_021-acc_0.938_loss_0.187.hdf5\n",
            "\n",
            "Epoch 00021: val_acc did not improve from 0.89480\n",
            "\n",
            "Epoch 00021: loss improved from 0.18854 to 0.18695, saving model to .\\model_loss_epoch_021_acc0.938_loss0.187.hdf5\n",
            "\n",
            "Epoch 00021: val_loss did not improve from 0.39922\n",
            "Epoch 22/100\n",
            "60000/60000 [==============================] - 8s 134us/step - loss: 0.1861 - acc: 0.9381 - val_loss: 0.4528 - val_acc: 0.8947\n",
            "\n",
            "Epoch 00022: acc improved from 0.93795 to 0.93808, saving model to .\\model_acc_epoch_022-acc_0.938_loss_0.186.hdf5\n",
            "\n",
            "Epoch 00022: val_acc did not improve from 0.89480\n",
            "\n",
            "Epoch 00022: loss improved from 0.18695 to 0.18613, saving model to .\\model_loss_epoch_022_acc0.938_loss0.186.hdf5\n",
            "\n",
            "Epoch 00022: val_loss did not improve from 0.39922\n",
            "\n",
            "Epoch 00022: ReduceLROnPlateau reducing learning rate to 1.5625000742147677e-05.\n",
            "Epoch 23/100\n",
            "60000/60000 [==============================] - 8s 135us/step - loss: 0.1833 - acc: 0.9386 - val_loss: 0.4499 - val_acc: 0.8949\n",
            "\n",
            "Epoch 00023: acc improved from 0.93808 to 0.93855, saving model to .\\model_acc_epoch_023-acc_0.939_loss_0.183.hdf5\n",
            "\n",
            "Epoch 00023: val_acc improved from 0.89480 to 0.89490, saving model to .\\model_val_acc_epoch_023_val_acc_0.8949_val_loss_0.4499.hdf5\n",
            "\n",
            "Epoch 00023: loss improved from 0.18613 to 0.18331, saving model to .\\model_loss_epoch_023_acc0.939_loss0.183.hdf5\n",
            "\n",
            "Epoch 00023: val_loss did not improve from 0.39922\n",
            "Epoch 24/100\n",
            "60000/60000 [==============================] - 8s 134us/step - loss: 0.1821 - acc: 0.9394 - val_loss: 0.4569 - val_acc: 0.8950\n",
            "\n",
            "Epoch 00024: acc improved from 0.93855 to 0.93943, saving model to .\\model_acc_epoch_024-acc_0.939_loss_0.182.hdf5\n",
            "\n",
            "Epoch 00024: val_acc improved from 0.89490 to 0.89500, saving model to .\\model_val_acc_epoch_024_val_acc_0.8950_val_loss_0.4569.hdf5\n",
            "\n",
            "Epoch 00024: loss improved from 0.18331 to 0.18209, saving model to .\\model_loss_epoch_024_acc0.939_loss0.182.hdf5\n",
            "\n",
            "Epoch 00024: val_loss did not improve from 0.39922\n",
            "Epoch 25/100\n",
            "60000/60000 [==============================] - 8s 134us/step - loss: 0.1821 - acc: 0.9398 - val_loss: 0.4590 - val_acc: 0.8948\n",
            "\n",
            "Epoch 00025: acc improved from 0.93943 to 0.93975, saving model to .\\model_acc_epoch_025-acc_0.940_loss_0.182.hdf5\n",
            "\n",
            "Epoch 00025: val_acc did not improve from 0.89500\n",
            "\n",
            "Epoch 00025: loss improved from 0.18209 to 0.18205, saving model to .\\model_loss_epoch_025_acc0.940_loss0.182.hdf5\n",
            "\n",
            "Epoch 00025: val_loss did not improve from 0.39922\n",
            "\n",
            "Epoch 00025: ReduceLROnPlateau reducing learning rate to 7.812500371073838e-06.\n",
            "Epoch 26/100\n",
            "60000/60000 [==============================] - 8s 135us/step - loss: 0.1806 - acc: 0.9403 - val_loss: 0.4567 - val_acc: 0.8943\n",
            "\n",
            "Epoch 00026: acc improved from 0.93975 to 0.94032, saving model to .\\model_acc_epoch_026-acc_0.940_loss_0.181.hdf5\n",
            "\n",
            "Epoch 00026: val_acc did not improve from 0.89500\n",
            "\n",
            "Epoch 00026: loss improved from 0.18205 to 0.18060, saving model to .\\model_loss_epoch_026_acc0.940_loss0.181.hdf5\n",
            "\n",
            "Epoch 00026: val_loss did not improve from 0.39922\n",
            "Epoch 27/100\n",
            "60000/60000 [==============================] - 8s 135us/step - loss: 0.1803 - acc: 0.9406 - val_loss: 0.4577 - val_acc: 0.8940\n",
            "\n",
            "Epoch 00027: acc improved from 0.94032 to 0.94057, saving model to .\\model_acc_epoch_027-acc_0.941_loss_0.180.hdf5\n",
            "\n",
            "Epoch 00027: val_acc did not improve from 0.89500\n",
            "\n",
            "Epoch 00027: loss improved from 0.18060 to 0.18028, saving model to .\\model_loss_epoch_027_acc0.941_loss0.180.hdf5\n",
            "\n",
            "Epoch 00027: val_loss did not improve from 0.39922\n",
            "Epoch 28/100\n",
            "60000/60000 [==============================] - 8s 135us/step - loss: 0.1803 - acc: 0.9404 - val_loss: 0.4570 - val_acc: 0.8947\n",
            "\n",
            "Epoch 00028: acc did not improve from 0.94057\n",
            "\n",
            "Epoch 00028: val_acc did not improve from 0.89500\n",
            "\n",
            "Epoch 00028: loss did not improve from 0.18028\n",
            "\n",
            "Epoch 00028: val_loss did not improve from 0.39922\n",
            "\n",
            "Epoch 00028: ReduceLROnPlateau reducing learning rate to 3.906250185536919e-06.\n",
            "Epoch 29/100\n",
            "60000/60000 [==============================] - 8s 133us/step - loss: 0.1791 - acc: 0.9409 - val_loss: 0.4576 - val_acc: 0.8938\n",
            "\n",
            "Epoch 00029: acc improved from 0.94057 to 0.94093, saving model to .\\model_acc_epoch_029-acc_0.941_loss_0.179.hdf5\n",
            "\n",
            "Epoch 00029: val_acc did not improve from 0.89500\n",
            "\n",
            "Epoch 00029: loss improved from 0.18028 to 0.17910, saving model to .\\model_loss_epoch_029_acc0.941_loss0.179.hdf5\n",
            "\n",
            "Epoch 00029: val_loss did not improve from 0.39922\n",
            "Epoch 30/100\n",
            "60000/60000 [==============================] - 8s 133us/step - loss: 0.1791 - acc: 0.9411 - val_loss: 0.4583 - val_acc: 0.8944\n",
            "\n",
            "Epoch 00030: acc improved from 0.94093 to 0.94105, saving model to .\\model_acc_epoch_030-acc_0.941_loss_0.179.hdf5\n",
            "\n",
            "Epoch 00030: val_acc did not improve from 0.89500\n",
            "\n",
            "Epoch 00030: loss improved from 0.17910 to 0.17907, saving model to .\\model_loss_epoch_030_acc0.941_loss0.179.hdf5\n",
            "\n",
            "Epoch 00030: val_loss did not improve from 0.39922\n",
            "Epoch 31/100\n",
            "60000/60000 [==============================] - 8s 134us/step - loss: 0.1790 - acc: 0.9411 - val_loss: 0.4587 - val_acc: 0.8946\n",
            "\n",
            "Epoch 00031: acc improved from 0.94105 to 0.94112, saving model to .\\model_acc_epoch_031-acc_0.941_loss_0.179.hdf5\n",
            "\n",
            "Epoch 00031: val_acc did not improve from 0.89500\n",
            "\n",
            "Epoch 00031: loss improved from 0.17907 to 0.17900, saving model to .\\model_loss_epoch_031_acc0.941_loss0.179.hdf5\n",
            "\n",
            "Epoch 00031: val_loss did not improve from 0.39922\n",
            "\n",
            "Epoch 00031: ReduceLROnPlateau reducing learning rate to 1.9531250927684596e-06.\n",
            "Epoch 32/100\n",
            "60000/60000 [==============================] - 8s 134us/step - loss: 0.1784 - acc: 0.9414 - val_loss: 0.4588 - val_acc: 0.8943\n",
            "\n",
            "Epoch 00032: acc improved from 0.94112 to 0.94138, saving model to .\\model_acc_epoch_032-acc_0.941_loss_0.178.hdf5\n",
            "\n",
            "Epoch 00032: val_acc did not improve from 0.89500\n",
            "\n",
            "Epoch 00032: loss improved from 0.17900 to 0.17845, saving model to .\\model_loss_epoch_032_acc0.941_loss0.178.hdf5\n",
            "\n",
            "Epoch 00032: val_loss did not improve from 0.39922\n",
            "Epoch 33/100\n",
            "60000/60000 [==============================] - 8s 134us/step - loss: 0.1785 - acc: 0.9412 - val_loss: 0.4588 - val_acc: 0.8944\n",
            "\n",
            "Epoch 00033: acc did not improve from 0.94138\n",
            "\n",
            "Epoch 00033: val_acc did not improve from 0.89500\n",
            "\n",
            "Epoch 00033: loss did not improve from 0.17845\n",
            "\n",
            "Epoch 00033: val_loss did not improve from 0.39922\n",
            "Epoch 00033: early stopping\n"
          ],
          "name": "stdout"
        }
      ]
    },
    {
      "cell_type": "code",
      "metadata": {
        "id": "HIBGR5gxOK7q",
        "colab_type": "code",
        "outputId": "9e9fb55c-f25c-4ff3-c4b4-360f912b2a9f",
        "colab": {
          "base_uri": "https://localhost:8080/",
          "height": 573
        }
      },
      "source": [
        "drow_history(history, 'loss')\n",
        "drow_history(history, 'acc')"
      ],
      "execution_count": 26,
      "outputs": [
        {
          "output_type": "display_data",
          "data": {
            "image/png": "[encoded data removed]",
            "text/plain": [
              "<Figure size 432x288 with 1 Axes>"
            ]
          },
          "metadata": {
            "tags": []
          }
        },
        {
          "output_type": "display_data",
          "data": {
            "image/png": "[encoded data removed]",
            "text/plain": [
              "<Figure size 432x288 with 1 Axes>"
            ]
          },
          "metadata": {
            "tags": []
          }
        }
      ]
    },
    {
      "cell_type": "code",
      "metadata": {
        "id": "Bidx8CQVQuAA",
        "colab_type": "code",
        "outputId": "db108e0b-af58-4bbe-b7be-e0316910a585",
        "colab": {
          "base_uri": "https://localhost:8080/",
          "height": 563
        }
      },
      "source": [
        "y_pred_test=model.predict_classes(x_test)\n",
        "print_stats(np.argmax(y_test, axis=1),y_pred_test )"
      ],
      "execution_count": 27,
      "outputs": [
        {
          "output_type": "stream",
          "text": [
            "Accuracy: 0.89440\n",
            "Confusion Matrix:\n",
            "[[846   1  12  22   3   1 110   0   5   0]\n",
            " [  3 974   1  18   1   0   2   0   1   0]\n",
            " [ 17   0 807  14  97   0  63   1   1   0]\n",
            " [ 21   3  12 909  32   0  19   0   4   0]\n",
            " [  0   1  79  26 838   0  55   0   1   0]\n",
            " [  0   0   0   1   0 966   0  18   2  13]\n",
            " [108   0  86  30  60   1 707   0   8   0]\n",
            " [  0   0   0   0   0  11   0 970   0  19]\n",
            " [  4   0   4   4   5   4   4   4 970   1]\n",
            " [  0   0   0   0   0   8   1  34   0 957]]\n",
            "Classification Report:\n",
            "              precision    recall  f1-score   support\n",
            "\n",
            "           0       0.85      0.85      0.85      1000\n",
            "           1       0.99      0.97      0.98      1000\n",
            "           2       0.81      0.81      0.81      1000\n",
            "           3       0.89      0.91      0.90      1000\n",
            "           4       0.81      0.84      0.82      1000\n",
            "           5       0.97      0.97      0.97      1000\n",
            "           6       0.74      0.71      0.72      1000\n",
            "           7       0.94      0.97      0.96      1000\n",
            "           8       0.98      0.97      0.97      1000\n",
            "           9       0.97      0.96      0.96      1000\n",
            "\n",
            "    accuracy                           0.89     10000\n",
            "   macro avg       0.89      0.89      0.89     10000\n",
            "weighted avg       0.89      0.89      0.89     10000\n",
            "\n"
          ],
          "name": "stdout"
        }
      ]
    },
    {
      "cell_type": "code",
      "metadata": {
        "id": "zPOw8ZAnQz0i",
        "colab_type": "code",
        "colab": {}
      },
      "source": [
        "model=get_model()\n",
        "model.load_weights('.\\model_val_acc_epoch_024_val_acc_0.8950_val_loss_0.4569.hdf5')\n",
        "model.compile(loss='categorical_crossentropy',\n",
        "              optimizer=RMSprop(),\n",
        "              metrics=['accuracy'])"
      ],
      "execution_count": 0,
      "outputs": []
    },
    {
      "cell_type": "code",
      "metadata": {
        "id": "GzfbwUdgQ_D6",
        "colab_type": "code",
        "outputId": "11fceece-4e01-4dff-a198-2d2cabad2d4a",
        "colab": {
          "base_uri": "https://localhost:8080/",
          "height": 563
        }
      },
      "source": [
        "y_pred_test=model.predict_classes(x_test)\n",
        "print_stats(np.argmax(y_test, axis=1),y_pred_test )"
      ],
      "execution_count": 29,
      "outputs": [
        {
          "output_type": "stream",
          "text": [
            "Accuracy: 0.89500\n",
            "Confusion Matrix:\n",
            "[[841   1  14  20   3   1 115   0   5   0]\n",
            " [  2 977   2  15   1   0   2   0   1   0]\n",
            " [ 18   0 817  13  90   0  60   1   1   0]\n",
            " [ 20   4  14 908  31   0  19   0   4   0]\n",
            " [  0   1  83  27 836   0  52   0   1   0]\n",
            " [  0   0   0   1   0 967   0  18   2  12]\n",
            " [105   0  88  30  61   1 707   0   8   0]\n",
            " [  0   0   0   0   0  11   0 969   0  20]\n",
            " [  4   0   4   4   5   4   4   4 970   1]\n",
            " [  0   0   0   0   0   8   1  33   0 958]]\n",
            "Classification Report:\n",
            "              precision    recall  f1-score   support\n",
            "\n",
            "           0       0.85      0.84      0.85      1000\n",
            "           1       0.99      0.98      0.99      1000\n",
            "           2       0.80      0.82      0.81      1000\n",
            "           3       0.89      0.91      0.90      1000\n",
            "           4       0.81      0.84      0.82      1000\n",
            "           5       0.97      0.97      0.97      1000\n",
            "           6       0.74      0.71      0.72      1000\n",
            "           7       0.95      0.97      0.96      1000\n",
            "           8       0.98      0.97      0.97      1000\n",
            "           9       0.97      0.96      0.96      1000\n",
            "\n",
            "    accuracy                           0.90     10000\n",
            "   macro avg       0.89      0.89      0.89     10000\n",
            "weighted avg       0.89      0.90      0.89     10000\n",
            "\n"
          ],
          "name": "stdout"
        }
      ]
    },
    {
      "cell_type": "markdown",
      "metadata": {
        "id": "wXrdkeQOOK8e",
        "colab_type": "text"
      },
      "source": [
        "### Learn more:\n",
        "* https://keras.io/\n",
        "* https://www.coursera.org/learn/neural-networks/lecture/kOQiH/why-object-recognition-is-difficult-5-min"
      ]
    }
  ]
}