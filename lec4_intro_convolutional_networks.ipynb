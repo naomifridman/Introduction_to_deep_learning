{
  "cells": [
    {
      "cell_type": "markdown",
      "metadata": {
        "id": "view-in-github",
        "colab_type": "text"
      },
      "source": [
        "<a href=\"https://colab.research.google.com/github/naomifridman/Introduction_to_deep_learning/blob/master/lec4_intro_convolutional_networks.ipynb\" target=\"_parent\"><img src=\"https://colab.research.google.com/assets/colab-badge.svg\" alt=\"Open In Colab\"/></a>"
      ]
    },
    {
      "cell_type": "markdown",
      "metadata": {
        "id": "W9hWUAeNFUgs"
      },
      "source": [
        "## Lec 4\n",
        "### Introduction to Deep Learning\n",
        "# Intuition - Convolutional Neural networks CNN"
      ]
    },
    {
      "cell_type": "code",
      "execution_count": null,
      "metadata": {
        "id": "QQZ6-UfkMgKY"
      },
      "outputs": [],
      "source": [
        "import os\n",
        "\n",
        "if not os.path.isdir('Introduction_to_deep_learning'):\n",
        "    !git clone https://github.com/naomifridman/Introduction_to_deep_learning.git"
      ]
    },
    {
      "cell_type": "code",
      "execution_count": null,
      "metadata": {
        "id": "e8aMAIfKM__w"
      },
      "outputs": [],
      "source": [
        "#!rm -r Introduction_to_deep_learning"
      ]
    },
    {
      "cell_type": "code",
      "execution_count": null,
      "metadata": {
        "id": "u3_ORDpoFUgx"
      },
      "outputs": [],
      "source": [
        "import numpy as np\n",
        "import Introduction_to_deep_learning.utils_plot as uplot\n",
        "import matplotlib.gridspec as gridspec\n",
        "from sklearn.metrics import accuracy_score, log_loss\n",
        "from keras.datasets import mnist\n",
        "import matplotlib.pyplot as plt\n",
        "import Introduction_to_deep_learning.matplotlib_utils as umplot\n",
        "%matplotlib inline  \n",
        "\n",
        "from IPython.display import Markdown, display\n",
        "def printmd(string):\n",
        "    display(Markdown(string))\n"
      ]
    },
    {
      "cell_type": "markdown",
      "metadata": {
        "id": "u1d-1cnkFUgz"
      },
      "source": [
        "## Load the Hand Written Digit Data Mnist "
      ]
    },
    {
      "cell_type": "code",
      "execution_count": null,
      "metadata": {
        "colab": {
          "base_uri": "https://localhost:8080/"
        },
        "id": "G_L9ebScFUg0",
        "outputId": "5896a215-f35d-4360-d77c-fa05e50b0146"
      },
      "outputs": [
        {
          "name": "stdout",
          "output_type": "stream",
          "text": [
            "60000 train samples\n",
            "10000 test samples\n"
          ]
        }
      ],
      "source": [
        "from sklearn.utils import shuffle\n",
        "\n",
        "batch_size = 128\n",
        "num_classes = 10\n",
        "epochs = 20\n",
        "\n",
        "# the data, split between train and test sets\n",
        "(x_train, y_train), (x_test, y_test) = mnist.load_data()\n",
        "x_train, y_train = shuffle(x_train, y_train , random_state=0)\n",
        "\n",
        "x_train = x_train.astype('float32')\n",
        "x_test = x_test.astype('float32')\n",
        "x_train /= 255.\n",
        "x_test /= 255.\n",
        "print(x_train.shape[0], 'train samples')\n",
        "print(x_test.shape[0], 'test samples')"
      ]
    },
    {
      "cell_type": "markdown",
      "metadata": {
        "id": "V0234r3KFUg1"
      },
      "source": [
        "Lets view some images and labels:"
      ]
    },
    {
      "cell_type": "code",
      "execution_count": null,
      "metadata": {
        "colab": {
          "base_uri": "https://localhost:8080/"
        },
        "id": "cEsnx_czFUg1",
        "outputId": "dc4d5861-12a4-4846-bfea-41ebb54bf13e"
      },
      "outputs": [
        {
          "data": {
            "text/plain": [
              "(60000, 28, 28)"
            ]
          },
          "execution_count": 23,
          "metadata": {},
          "output_type": "execute_result"
        }
      ],
      "source": [
        "x_train.shape"
      ]
    },
    {
      "cell_type": "code",
      "execution_count": null,
      "metadata": {
        "colab": {
          "base_uri": "https://localhost:8080/",
          "height": 111
        },
        "id": "0FG4ciJbFUg2",
        "outputId": "604122a1-fa10-4627-cffd-3294c9de3ff8"
      },
      "outputs": [
        {
          "name": "stdout",
          "output_type": "stream",
          "text": [
            "Lables are: [1 2 2 9 3 6 9 8 7 0 0 3 7 0 6]\n"
          ]
        },
        {
          "data": {
            "image/png": "[encoded data removed]",
            "text/plain": [
              "<Figure size 2160x288 with 15 Axes>"
            ]
          },
          "metadata": {
            "needs_background": "light"
          },
          "output_type": "display_data"
        }
      ],
      "source": [
        "print('Lables are:', y_train[15:30])\n",
        "uplot.show_list_images(x_train[15:30])"
      ]
    },
    {
      "cell_type": "markdown",
      "metadata": {
        "id": "9c2GSISMFUg2"
      },
      "source": [
        "Lets choose 2 images of as example to our discussion:"
      ]
    },
    {
      "cell_type": "code",
      "execution_count": null,
      "metadata": {
        "colab": {
          "base_uri": "https://localhost:8080/",
          "height": 132
        },
        "id": "oAyGXn6XFUg3",
        "outputId": "cc390271-88d6-4adc-ee20-3a7ac5ca47b5"
      },
      "outputs": [
        {
          "data": {
            "image/png": "[encoded data removed]",
            "text/plain": [
              "<Figure size 288x288 with 2 Axes>"
            ]
          },
          "metadata": {
            "needs_background": "light"
          },
          "output_type": "display_data"
        }
      ],
      "source": [
        "img7 = x_train[23]\n",
        "img8 = x_train[97]\n",
        "umplot.show_list_images([img7,img8])"
      ]
    },
    {
      "cell_type": "markdown",
      "metadata": {
        "id": "Y56jvAvYFUg3"
      },
      "source": [
        "### Convolution as feature detector\n",
        "Convolution is actually a correlation between small part of the image and the filter. We can build a filter that represent a specific feature, horizontal edge for example. Mow we slide the filter along the image, and calculate the \"response\" or the correlation to of the filter to specific parts in the image. The output map of those responses, highlight the areas in the image that contain features which are correlated with the filter.<br>\n",
        "#### Define a filter, and convolve it with the given images.\n",
        "Lets start with a filter that detect horizontal edges."
      ]
    },
    {
      "cell_type": "code",
      "execution_count": null,
      "metadata": {
        "id": "JhbCDY6-FUg4"
      },
      "outputs": [],
      "source": [
        "def conv2D(image, conv_filter):\n",
        "    # as a demo code, here we ignore the shape check\n",
        "    x_row, x_col = image.shape\n",
        "    k_row, k_col = conv_filter.shape\n",
        "    ret_row, ret_col = x_row - k_row + 1, x_col - k_col + 1\n",
        "    ret = np.zeros((ret_row, ret_col))\n",
        "    for y in range(ret_row):\n",
        "        for x in range(ret_col):\n",
        "            sub = image[y : y + k_row, x : x + k_col]\n",
        "            ret[y,x] = np.sum(sub * conv_filter)\n",
        "    return ret\n",
        "\n",
        "def conv2D_list(images, conv_filter):\n",
        "    ret=[]\n",
        "    for im in images:\n",
        "        ret.append(conv2D(im, conv_filter))\n",
        "    return ret"
      ]
    },
    {
      "cell_type": "code",
      "execution_count": null,
      "metadata": {
        "id": "OhbqrthMFUg4"
      },
      "outputs": [],
      "source": [
        "from importlib import reload  # Python 3.4+ only.\n",
        "import Introduction_to_deep_learning.matplotlib_utils as umplot\n",
        "umplot = reload(umplot)"
      ]
    },
    {
      "cell_type": "code",
      "execution_count": null,
      "metadata": {
        "colab": {
          "base_uri": "https://localhost:8080/",
          "height": 226
        },
        "id": "PP_YnrwKFUg5",
        "outputId": "1f308933-2f1d-4bb8-998d-648a5f384049"
      },
      "outputs": [
        {
          "data": {
            "text/markdown": [
              "## Apply - Horizontal Sobol Kernal"
            ],
            "text/plain": [
              "<IPython.core.display.Markdown object>"
            ]
          },
          "metadata": {},
          "output_type": "display_data"
        },
        {
          "data": {
            "image/png": "[encoded data removed]",
            "text/plain": [
              "<Figure size 648x432 with 3 Axes>"
            ]
          },
          "metadata": {
            "needs_background": "light"
          },
          "output_type": "display_data"
        }
      ],
      "source": [
        "horizontal_sobol=np.array([[1, 0,-1],\n",
        "       [2,0, -2],\n",
        "       [1,0, -1]]).T\n",
        "\n",
        "printmd('## Apply - Horizontal Sobol Kernal')\n",
        "\n",
        "conv_image = conv2D_list([img7, img8], horizontal_sobol)\n",
        "umplot.show_list_images([horizontal_sobol, conv_image[0], conv_image[1]], lsize=3)"
      ]
    },
    {
      "cell_type": "markdown",
      "metadata": {
        "id": "TbF17_rXFUg5"
      },
      "source": [
        "The transpose of this filter, will be a filter as well, that will detect the vertical edges."
      ]
    },
    {
      "cell_type": "code",
      "execution_count": null,
      "metadata": {
        "colab": {
          "base_uri": "https://localhost:8080/",
          "height": 226
        },
        "id": "I--klP5wFUg5",
        "outputId": "ebbda621-c2a6-4587-c15a-29ae2f657f5e"
      },
      "outputs": [
        {
          "data": {
            "text/markdown": [
              "## Apply - Transpose of Horizontal Sobol Kernal"
            ],
            "text/plain": [
              "<IPython.core.display.Markdown object>"
            ]
          },
          "metadata": {},
          "output_type": "display_data"
        },
        {
          "data": {
            "image/png": "[encoded data removed]",
            "text/plain": [
              "<Figure size 648x432 with 3 Axes>"
            ]
          },
          "metadata": {
            "needs_background": "light"
          },
          "output_type": "display_data"
        }
      ],
      "source": [
        "conv_image = conv2D_list([img7, img8], horizontal_sobol.T)\n",
        "printmd('## Apply - Transpose of Horizontal Sobol Kernal')\n",
        "umplot.show_list_images([horizontal_sobol, conv_image[0], conv_image[1]], lsize=3)"
      ]
    },
    {
      "cell_type": "markdown",
      "metadata": {
        "id": "V7ncg4w2FUg6"
      },
      "source": [
        "This way we can continue and design different features, to detect diagonals, specific corners,etc. Lets design few more edges."
      ]
    },
    {
      "cell_type": "code",
      "execution_count": null,
      "metadata": {
        "id": "C0zUHm-EFUg6"
      },
      "outputs": [],
      "source": [
        "# Horizontal line detector\n",
        "conv_filter = []\n",
        "conv_filter.append(horizontal_sobol)\n",
        "conv_filter.append(horizontal_sobol.T)"
      ]
    },
    {
      "cell_type": "code",
      "execution_count": null,
      "metadata": {
        "id": "g8m1Qbp8FUg6"
      },
      "outputs": [],
      "source": [
        "# 45 degree line detector\n",
        "cfilter=np.array([[2,-1,-1],\n",
        "       [-1,2,-1],\n",
        "       [-1,-1,2]])\n",
        "conv_filter.append(cfilter)\n",
        "cfilter=np.array([[-1,-1,2],\n",
        "       [-1,2,-1],\n",
        "       [2,-1,-1]])\n",
        "conv_filter.append(cfilter)"
      ]
    },
    {
      "cell_type": "code",
      "execution_count": null,
      "metadata": {
        "id": "Qtbsno5tFUg7"
      },
      "outputs": [],
      "source": [
        "cfilter=np.array([[0,-1,0],\n",
        "       [-1,4,-1],\n",
        "       [0,-1,0]])\n",
        "conv_filter.append(cfilter)"
      ]
    },
    {
      "cell_type": "markdown",
      "metadata": {
        "id": "JxcoGSjwFUg7"
      },
      "source": [
        "Lets view the filters we built and their convolution with the example images. "
      ]
    },
    {
      "cell_type": "code",
      "execution_count": null,
      "metadata": {
        "colab": {
          "base_uri": "https://localhost:8080/",
          "height": 396
        },
        "id": "8r2cvgVhFUg7",
        "outputId": "b92341f0-e631-4587-b45a-c1e95ada88f0"
      },
      "outputs": [
        {
          "data": {
            "text/markdown": [
              "## Apply list of kernals"
            ],
            "text/plain": [
              "<IPython.core.display.Markdown object>"
            ]
          },
          "metadata": {},
          "output_type": "display_data"
        },
        {
          "data": {
            "image/png": "[encoded data removed]",
            "text/plain": [
              "<Figure size 1080x432 with 5 Axes>"
            ]
          },
          "metadata": {
            "needs_background": "light"
          },
          "output_type": "display_data"
        },
        {
          "data": {
            "image/png": "[encoded data removed]",
            "text/plain": [
              "<Figure size 1080x432 with 5 Axes>"
            ]
          },
          "metadata": {
            "needs_background": "light"
          },
          "output_type": "display_data"
        }
      ],
      "source": [
        "conv_image =[]\n",
        "for f in conv_filter:\n",
        "    conv_image.append(conv2D(img8, f))\n",
        "printmd('## Apply list of kernals')\n",
        "umplot.show_list_images(conv_filter, titles=['horizontal sobol','sobol transpose',\n",
        "                                            '45% diagonal','135 diagonal','laplacian'], lsize=3)\n",
        "umplot.show_list_images(conv_image, lsize=3)"
      ]
    },
    {
      "cell_type": "code",
      "execution_count": null,
      "metadata": {
        "colab": {
          "base_uri": "https://localhost:8080/",
          "height": 396
        },
        "id": "ompHE8vPFUg7",
        "outputId": "672faad5-a11f-450e-f15f-8126515fa836"
      },
      "outputs": [
        {
          "data": {
            "text/markdown": [
              "## Apply list of kernals"
            ],
            "text/plain": [
              "<IPython.core.display.Markdown object>"
            ]
          },
          "metadata": {},
          "output_type": "display_data"
        },
        {
          "data": {
            "image/png": "[encoded data removed]",
            "text/plain": [
              "<Figure size 1080x432 with 5 Axes>"
            ]
          },
          "metadata": {
            "needs_background": "light"
          },
          "output_type": "display_data"
        },
        {
          "data": {
            "image/png": "[encoded data removed]",
            "text/plain": [
              "<Figure size 1080x432 with 5 Axes>"
            ]
          },
          "metadata": {
            "needs_background": "light"
          },
          "output_type": "display_data"
        }
      ],
      "source": [
        "conv_image =[]\n",
        "for f in conv_filter:\n",
        "    conv_image.append(conv2D(img7, f))\n",
        "printmd('## Apply list of kernals')\n",
        "umplot.show_list_images(conv_filter, titles=['horizontal sobol','sobol transpose',\n",
        "                                            '45% diagonal','135 diagonal','laplacian'], lsize=3)\n",
        "umplot.show_list_images(conv_image, lsize=3)"
      ]
    },
    {
      "cell_type": "markdown",
      "metadata": {
        "id": "Wwz07gioFUg8"
      },
      "source": [
        "### To collect the information from the feature map of each filter, we can run another set of filter's on the feature map's.\n",
        "Lets view  the convolution of one of the filters with the feature map of the first step."
      ]
    },
    {
      "cell_type": "code",
      "execution_count": null,
      "metadata": {
        "colab": {
          "base_uri": "https://localhost:8080/",
          "height": 347
        },
        "id": "qncDSA_VFUg8",
        "outputId": "d810b9b6-1589-4a0a-a56a-3e8a2954fe73"
      },
      "outputs": [
        {
          "data": {
            "image/png": "[encoded data removed]",
            "text/plain": [
              "<Figure size 720x288 with 5 Axes>"
            ]
          },
          "metadata": {
            "needs_background": "light"
          },
          "output_type": "display_data"
        },
        {
          "data": {
            "image/png": "[encoded data removed]",
            "text/plain": [
              "<Figure size 720x288 with 5 Axes>"
            ]
          },
          "metadata": {
            "needs_background": "light"
          },
          "output_type": "display_data"
        },
        {
          "data": {
            "image/png": "[encoded data removed]",
            "text/plain": [
              "<Figure size 720x288 with 5 Axes>"
            ]
          },
          "metadata": {
            "needs_background": "light"
          },
          "output_type": "display_data"
        }
      ],
      "source": [
        "conv_image7 =[]\n",
        "for im in conv_image:\n",
        "    conv_image7.append(conv2D(im, conv_filter[0]))\n",
        "umplot.show_list_images(conv_filter)\n",
        "umplot.show_list_images(conv_image)\n",
        "umplot.show_list_images(conv_image7)"
      ]
    },
    {
      "cell_type": "markdown",
      "metadata": {
        "id": "1r8Qk9aYFUg8"
      },
      "source": [
        "### The performance of a convolutional , relies on the right filters. \n",
        "So, the idea here is that :\n",
        "#### Those filter's will be learn from the data, with the gradient decent method of decreasing the error\n",
        "* backpropogation.\n",
        "\n",
        "Up to here,we discussed the basic intuition to convolutional networks. lets start describing the scheme of building practical convolutional networks. Following are some basic definitions:"
      ]
    },
    {
      "cell_type": "markdown",
      "metadata": {
        "id": "RfGHh-qpFUg9"
      },
      "source": [
        "## 2D Convolution neural networks building blocks\n",
        "### Stride parameter - sliding steps\n",
        "Until now we slided the filter,with steps of 1. But we can slide the filter in larger steps. The size of the sliding step, is the stride parameter. Default value is 1.\n",
        "### Padding parameter- Keep image size or decrease it\n",
        "When we convolved a filter of size 3x3 with image size 28x28, the result was 26x26 image. If we don't want to decrease the size after each convolution, we can pad zeros for example, around the image,prior to convolution, to control the output size. Keras has \"same\" value for padding, that takes care that output size, will be the same as input.\n",
        "### Convolution layer - a set of filters\n",
        "Convolution layer, contain given number of filters, say F. each filter is convolving with the input image, all channels of it, and create feature map. So the output will be a stack of F feature maps, one per each filter. The size of the feature map's depends on the padding, stride and filter size.\n",
        "### Maxpooling layer - down-sampling layer\n",
        "Maxpooling layer, is a down-sampling layer. It helps prevent overfitting, and it decrease the size of the layer downwards to the number of classes we want to classify.<br>\n",
        "In Maxpooling layer, we define a mask of size nxn, slide the mask over the feature maps, and choose the maximal number (maximal intensity pixel) in the mask.\n"
      ]
    },
    {
      "cell_type": "markdown",
      "metadata": {
        "id": "k6WVywubFUg9"
      },
      "source": [
        "### Basic structure of Convolutional neural network\n",
        "* Input layer - the input image, with defined padding.\n",
        "* convolution block's -which are built from convolution and maxpooling layers.\n",
        "* Dense Block - built from dense and droput layers,usually applied on flatten convolution output. Last layer for classification task is usually Softmax."
      ]
    },
    {
      "cell_type": "code",
      "execution_count": null,
      "metadata": {
        "id": "vqo-q-2cFUg9"
      },
      "outputs": [],
      "source": [
        ""
      ]
    }
  ],
  "metadata": {
    "colab": {
      "name": "lec4_intro_convolutional_networks.ipynb",
      "provenance": [],
      "include_colab_link": true
    },
    "kernelspec": {
      "display_name": "Python 3 (ipykernel)",
      "language": "python",
      "name": "python3"
    },
    "language_info": {
      "codemirror_mode": {
        "name": "ipython",
        "version": 3
      },
      "file_extension": ".py",
      "mimetype": "text/x-python",
      "name": "python",
      "nbconvert_exporter": "python",
      "pygments_lexer": "ipython3",
      "version": "3.9.0"
    },
    "varInspector": {
      "cols": {
        "lenName": 16,
        "lenType": 16,
        "lenVar": 40
      },
      "kernels_config": {
        "python": {
          "delete_cmd_postfix": "",
          "delete_cmd_prefix": "del ",
          "library": "var_list.py",
          "varRefreshCmd": "print(var_dic_list())"
        },
        "r": {
          "delete_cmd_postfix": ") ",
          "delete_cmd_prefix": "rm(",
          "library": "var_list.r",
          "varRefreshCmd": "cat(var_dic_list()) "
        }
      },
      "types_to_exclude": [
        "module",
        "function",
        "builtin_function_or_method",
        "instance",
        "_Feature"
      ],
      "window_display": false
    }
  },
  "nbformat": 4,
  "nbformat_minor": 0
}